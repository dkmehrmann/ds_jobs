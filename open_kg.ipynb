{
 "cells": [
  {
   "cell_type": "markdown",
   "metadata": {},
   "source": [
    "# Open Kaggle Jobs\n"
   ]
  },
  {
   "cell_type": "code",
   "execution_count": 25,
   "metadata": {
    "collapsed": false
   },
   "outputs": [],
   "source": [
    "from scrapy import *\n",
    "import pandas as pd\n",
    "import re\n",
    "import datetime as dt  "
   ]
  },
  {
   "cell_type": "code",
   "execution_count": 57,
   "metadata": {
    "collapsed": true
   },
   "outputs": [],
   "source": [
    "def parse_ttl_loc_kg(text):\n",
    "    regex_co = r'^(.*?)[-]'\n",
    "    regex_ttl = r'[-](.*?)[(]'\n",
    "    regex_loc = r'[(](.*?)[)]'\n",
    "    \n",
    "    job_title = re.search(regex_ttl, text).group(1).strip()\n",
    "    location = re.search(regex_loc, text).group(1).strip()\n",
    "    company = re.search(regex_co, text).group(1).strip()\n",
    "        \n",
    "    return job_title, location, company\n",
    "\n",
    "\n",
    "\n",
    "def get_kg_df(links):\n",
    "    ct = 0\n",
    "    regex = r'/forums/f/145/data-science-jobs/t/(.*?)[/]'\n",
    "    text = {}\n",
    "    link_dict = {}\n",
    "    \n",
    "    for link in links:\n",
    "        ct += 1\n",
    "        ID = re.search(regex, link).group(1)\n",
    "        try:\n",
    "            text[ID] = get_text(link)\n",
    "            link_dict[ID] = link\n",
    "        except:\n",
    "            continue\n",
    "        if ct % 10 == 0:\n",
    "            print('Opened link {0} of {1}'.format(ct,len(links)))\n",
    "        \n",
    "        time.sleep(5)\n",
    "    \n",
    "    series = pd.Series(text)\n",
    "    parsed = series.apply(parse_ttl_loc_kg)\n",
    "    df = pd.concat([series, parsed], axis=1)\n",
    "    df[['Title', 'Location', 'Company']] = df[1].apply(pd.Series)\n",
    "    df = df.drop(1,1)\n",
    "    df = df.rename(columns = {0:'Text'})\n",
    "    df['link'] = pd.Series(link_dict)\n",
    "    df['date'] = dt.datetime.today().strftime(\"%m/%d/%Y\")\n",
    "    return df"
   ]
  },
  {
   "cell_type": "code",
   "execution_count": 58,
   "metadata": {
    "collapsed": false
   },
   "outputs": [
    {
     "name": "stdout",
     "output_type": "stream",
     "text": [
      "pulling links from page 1\n",
      "Got 20 links from page 1\n",
      "pulling links from page 2\n",
      "Got 20 links from page 2\n",
      "pulling links from page 3\n",
      "Got 20 links from page 3\n",
      "pulling links from page 4\n",
      "Got 20 links from page 4\n",
      "pulling links from page 5\n",
      "Got 20 links from page 5\n",
      "pulling links from page 6\n",
      "Got 20 links from page 6\n",
      "pulling links from page 7\n",
      "Got 20 links from page 7\n",
      "pulling links from page 8\n",
      "Got 20 links from page 8\n",
      "pulling links from page 9\n",
      "Got 20 links from page 9\n",
      "pulling links from page 10\n",
      "Got 20 links from page 10\n"
     ]
    }
   ],
   "source": [
    "ds_links, ds_ids = crawl_kg()"
   ]
  },
  {
   "cell_type": "code",
   "execution_count": 59,
   "metadata": {
    "collapsed": false
   },
   "outputs": [
    {
     "name": "stdout",
     "output_type": "stream",
     "text": [
      "Opened link 10 of 200\n",
      "Opened link 20 of 200\n",
      "Opened link 30 of 200\n",
      "Opened link 40 of 200\n",
      "Opened link 50 of 200\n",
      "Opened link 60 of 200\n",
      "Opened link 70 of 200\n",
      "Opened link 80 of 200\n",
      "Opened link 90 of 200\n",
      "Opened link 100 of 200\n",
      "Opened link 110 of 200\n",
      "Opened link 120 of 200\n",
      "Opened link 130 of 200\n",
      "Opened link 140 of 200\n",
      "Opened link 150 of 200\n",
      "Opened link 160 of 200\n",
      "Opened link 170 of 200\n",
      "Opened link 180 of 200\n",
      "Opened link 190 of 200\n",
      "Opened link 200 of 200\n"
     ]
    }
   ],
   "source": [
    "kg_df = get_kg_df(ds_links)"
   ]
  },
  {
   "cell_type": "code",
   "execution_count": 60,
   "metadata": {
    "collapsed": false
   },
   "outputs": [
    {
     "data": {
      "text/html": [
       "<div>\n",
       "<table border=\"1\" class=\"dataframe\">\n",
       "  <thead>\n",
       "    <tr style=\"text-align: right;\">\n",
       "      <th></th>\n",
       "      <th>Text</th>\n",
       "      <th>Title</th>\n",
       "      <th>Location</th>\n",
       "      <th>Company</th>\n",
       "      <th>link</th>\n",
       "    </tr>\n",
       "  </thead>\n",
       "  <tbody>\n",
       "    <tr>\n",
       "      <th>14959</th>\n",
       "      <td>Genscape - Data Scientist (Chicago) | Kaggle H...</td>\n",
       "      <td>Data Scientist</td>\n",
       "      <td>Chicago</td>\n",
       "      <td>Genscape</td>\n",
       "      <td>https://www.kaggle.com/forums/f/145/data-scien...</td>\n",
       "    </tr>\n",
       "    <tr>\n",
       "      <th>15779</th>\n",
       "      <td>DRW Trading Group - Trading Analyst/Data Scien...</td>\n",
       "      <td>Trading Analyst/Data Scientist</td>\n",
       "      <td>Chicago</td>\n",
       "      <td>DRW Trading Group</td>\n",
       "      <td>https://www.kaggle.com/forums/f/145/data-scien...</td>\n",
       "    </tr>\n",
       "    <tr>\n",
       "      <th>15816</th>\n",
       "      <td>DRIVIN - Data Scientist (Chicago) | Kaggle Hos...</td>\n",
       "      <td>Data Scientist</td>\n",
       "      <td>Chicago</td>\n",
       "      <td>DRIVIN</td>\n",
       "      <td>https://www.kaggle.com/forums/f/145/data-scien...</td>\n",
       "    </tr>\n",
       "    <tr>\n",
       "      <th>16245</th>\n",
       "      <td>Blue Cross &amp; Blue Shield - Sr. Analytics &amp; Rep...</td>\n",
       "      <td>Sr. Analytics &amp; Reporting Analyst</td>\n",
       "      <td>Chicago</td>\n",
       "      <td>Blue Cross &amp; Blue Shield</td>\n",
       "      <td>https://www.kaggle.com/forums/f/145/data-scien...</td>\n",
       "    </tr>\n",
       "    <tr>\n",
       "      <th>16312</th>\n",
       "      <td>Spartz - Data Scientist (Chicago) | Kaggle Hos...</td>\n",
       "      <td>Data Scientist</td>\n",
       "      <td>Chicago</td>\n",
       "      <td>Spartz</td>\n",
       "      <td>https://www.kaggle.com/forums/f/145/data-scien...</td>\n",
       "    </tr>\n",
       "  </tbody>\n",
       "</table>\n",
       "</div>"
      ],
      "text/plain": [
       "                                                    Text  \\\n",
       "14959  Genscape - Data Scientist (Chicago) | Kaggle H...   \n",
       "15779  DRW Trading Group - Trading Analyst/Data Scien...   \n",
       "15816  DRIVIN - Data Scientist (Chicago) | Kaggle Hos...   \n",
       "16245  Blue Cross & Blue Shield - Sr. Analytics & Rep...   \n",
       "16312  Spartz - Data Scientist (Chicago) | Kaggle Hos...   \n",
       "\n",
       "                                   Title Location                   Company  \\\n",
       "14959                     Data Scientist  Chicago                  Genscape   \n",
       "15779     Trading Analyst/Data Scientist  Chicago         DRW Trading Group   \n",
       "15816                     Data Scientist  Chicago                    DRIVIN   \n",
       "16245  Sr. Analytics & Reporting Analyst  Chicago  Blue Cross & Blue Shield   \n",
       "16312                     Data Scientist  Chicago                    Spartz   \n",
       "\n",
       "                                                    link  \n",
       "14959  https://www.kaggle.com/forums/f/145/data-scien...  \n",
       "15779  https://www.kaggle.com/forums/f/145/data-scien...  \n",
       "15816  https://www.kaggle.com/forums/f/145/data-scien...  \n",
       "16245  https://www.kaggle.com/forums/f/145/data-scien...  \n",
       "16312  https://www.kaggle.com/forums/f/145/data-scien...  "
      ]
     },
     "execution_count": 60,
     "metadata": {},
     "output_type": "execute_result"
    }
   ],
   "source": [
    "kg_df[kg_df.Location == 'Chicago']"
   ]
  },
  {
   "cell_type": "code",
   "execution_count": null,
   "metadata": {
    "collapsed": true
   },
   "outputs": [],
   "source": [
    "import datetime\n",
    "now = datetime.datetime.now()\n",
    "kg_df.to_csv('DS_Kaggle_{0}_{1}_{2}.csv'.format(now.month,now.day,now.year))\n"
   ]
  }
 ],
 "metadata": {
  "kernelspec": {
   "display_name": "Python 3",
   "language": "python",
   "name": "python3"
  },
  "language_info": {
   "codemirror_mode": {
    "name": "ipython",
    "version": 3
   },
   "file_extension": ".py",
   "mimetype": "text/x-python",
   "name": "python",
   "nbconvert_exporter": "python",
   "pygments_lexer": "ipython3",
   "version": "3.4.3"
  }
 },
 "nbformat": 4,
 "nbformat_minor": 0
}
