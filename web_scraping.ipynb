{
 "cells": [
  {
   "cell_type": "markdown",
   "metadata": {},
   "source": [
    "# Web Scraping - Data Science Jobs in Chicago, IL\n",
    "### Query: Data Scientist -- Chicago, IL\n",
    "This notebook illustrates how to scrape some common job boards for **links** to job postings. The first web page is determined by a search from a web browser of the user's choice. For example, if I search Glassdoor's job postings for *'data scientist'* in *'Chicago, IL'*, the URL can be seen in `gd_p1`. This is a starting point for more complex analyses in which a user would actually open the links to job postings and scrape the content within. \n",
    "\n",
    "This exploratory work resulted in the functions at the end of this notebook which will be used in further analyses. If these functions ever break, this notebook will serve as a starting point for debugging.\n",
    "\n",
    "**Next steps**:\n",
    "* Defining functions to open and scrape data from the job postings\n",
    "* Iteratating through URLs for each site and writing data to disk (sqlite or other)\n",
    "* Performing analysis on resulting data"
   ]
  },
  {
   "cell_type": "code",
   "execution_count": 1,
   "metadata": {
    "collapsed": true
   },
   "outputs": [],
   "source": [
    "import requests\n",
    "from bs4 import BeautifulSoup\n",
    "import re\n",
    "from IPython.core.display import HTML"
   ]
  },
  {
   "cell_type": "markdown",
   "metadata": {},
   "source": [
    "###Glassdoor\n",
    "Glassdoor also has a [free public API](http://www.glassdoor.com/developer/index.htm)\n"
   ]
  },
  {
   "cell_type": "code",
   "execution_count": 123,
   "metadata": {
    "collapsed": false
   },
   "outputs": [],
   "source": [
    "gd_uri = 'http://www.glassdoor.com'\n",
    "gd_p1 = 'http://www.glassdoor.com/Job/chicago-data-scientist-jobs-SRCH_IL.0,7_IC1128808_KO8,22.htm'\n",
    "gd_p2 = 'http://www.glassdoor.com/Job/chicago-data-scientist-jobs-SRCH_IL.0,7_IC1128808_KO8,22_IP2.htm'"
   ]
  },
  {
   "cell_type": "code",
   "execution_count": 124,
   "metadata": {
    "collapsed": false
   },
   "outputs": [],
   "source": [
    "regex = r'ListingId=(.*)'\n",
    "gd_page = requests.get(gd_p1,headers={'User-Agent': 'Mozilla/5.0'})\n",
    "gd_data = gd_page.text\n",
    "gd_soup = BeautifulSoup(gd_data)\n",
    "gd_jobs = []\n",
    "gd_job_ids = []\n",
    "\n",
    "for link in gd_soup.find_all('a'):                              # for each link in the page\n",
    "    href = link.get('href')                                     # get the href\n",
    "    if href:                                                    # if the href exists\n",
    "        if ('partner/job' in href and                           # if it is a link for a job posting\n",
    "            re.search(regex, href).group(1) not in gd_job_ids): # and we don't alread have that job\n",
    "            gd_jobs.append(gd_uri + href)                       # add the job to the list of jobs\n",
    "            gd_job_ids.append(re.search(regex, href).group(1))  # add the job id to the list of job ids\n",
    "            "
   ]
  },
  {
   "cell_type": "code",
   "execution_count": 125,
   "metadata": {
    "collapsed": false
   },
   "outputs": [
    {
     "data": {
      "text/plain": [
       "29"
      ]
     },
     "execution_count": 125,
     "metadata": {},
     "output_type": "execute_result"
    }
   ],
   "source": [
    "# the number of jobs on the page\n",
    "len(gd_jobs)\n"
   ]
  },
  {
   "cell_type": "markdown",
   "metadata": {},
   "source": [
    "### Indeed"
   ]
  },
  {
   "cell_type": "code",
   "execution_count": 6,
   "metadata": {
    "collapsed": true
   },
   "outputs": [],
   "source": [
    "in_p1 = 'http://www.indeed.com/jobs?q=Data+Scientist&l=Chicago%2C+IL'\n",
    "in_p2 = 'http://www.indeed.com/jobs?q=Data+Scientist&l=Chicago%2C+IL&start=10'\n",
    "in_p3 = 'http://www.indeed.com/jobs?q=Data+Scientist&l=Chicago%2C+IL&start=20'\n",
    "in_uri = 'http://www.indeed.com'"
   ]
  },
  {
   "cell_type": "code",
   "execution_count": 7,
   "metadata": {
    "collapsed": false
   },
   "outputs": [],
   "source": [
    "in_page = requests.get(in_p1, headers={'User-Agent': 'Mozilla/5.0'})\n",
    "in_data = in_page.text\n",
    "in_soup = BeautifulSoup(in_data)"
   ]
  },
  {
   "cell_type": "code",
   "execution_count": 13,
   "metadata": {
    "collapsed": false
   },
   "outputs": [],
   "source": [
    "in_jobs = []\n",
    "for link in in_soup.find_all('a'):\n",
    "    if '/rc/' in link.get('href'): # there is an 'rc' in the links for the jobs\n",
    "        in_jobs.append(in_uri + link.get('href')) # links to the actual jobs\n",
    "        "
   ]
  },
  {
   "cell_type": "code",
   "execution_count": 95,
   "metadata": {
    "collapsed": false
   },
   "outputs": [
    {
     "data": {
      "text/plain": [
       "10"
      ]
     },
     "execution_count": 95,
     "metadata": {},
     "output_type": "execute_result"
    }
   ],
   "source": [
    "len(in_jobs)"
   ]
  },
  {
   "cell_type": "markdown",
   "metadata": {
    "collapsed": false
   },
   "source": [
    "#### Two Sample Postings\n",
    "The job postings for Indeed are external links, which means the actual job postings do not have a consistent format. This may still be useful if we just want raw text, but it will be skipped for now."
   ]
  },
  {
   "cell_type": "code",
   "execution_count": 28,
   "metadata": {
    "collapsed": false,
    "scrolled": true
   },
   "outputs": [
    {
     "data": {
      "text/html": [
       "<!DOCTYPE HTML PUBLIC \"-//W3C//DTD HTML 4.01 Transitional//EN\" \"http://www.w3.org/TR/html4/loose.dtd\">\n",
       "<html><head><link href=\"https://staticchc.tbe.taleo.net/chc05/ats/cacheable/R15-10-23-04-01-07-15.B2_prod/css/UIv8/jquery/Classic/ui.core.css\" rel=\"stylesheet\" type=\"text/css\"/>\n",
       "<link href=\"https://staticchc.tbe.taleo.net/chc05/ats/cacheable/R15-10-23-04-01-07-15.B2_prod/css/UIv8/jquery/Classic/ui.theme.css\" rel=\"stylesheet\" type=\"text/css\"/>\n",
       "<link href=\"https://staticchc.tbe.taleo.net/chc05/ats/cacheable/R15-10-23-04-01-07-15.B2_prod/css/UIv8/jquery/Classic/ui.datepicker.css\" rel=\"stylesheet\" type=\"text/css\"/>\n",
       "<link href=\"https://staticchc.tbe.taleo.net/chc05/ats/cacheable/R15-10-23-04-01-07-15.B2_prod/css/UIv8/jquery/Classic/ui.dialog.css\" rel=\"stylesheet\" type=\"text/css\"/>\n",
       "<style type=\"text/css\">\r\n",
       "\r\n",
       "    select:focus, a:focus {\r\n",
       "        outline: #1e90ff solid 2px\r\n",
       "    }\r\n",
       "\r\n",
       "    input[type=submit] {\r\n",
       "        background: #00438C;\r\n",
       "    }\r\n",
       "\r\n",
       "    input[type=button] {\r\n",
       "        background: #00438C;\r\n",
       "    }\r\n",
       "\r\n",
       "    input[type=submit]:hover {\r\n",
       "        background: #1e31ff;\r\n",
       "    }\r\n",
       "\r\n",
       "    input[type=button]:hover {\r\n",
       "        background: #1e31ff;\r\n",
       "    }\r\n",
       "\r\n",
       "    input[type=submit]:focus {\r\n",
       "        background: #1e90ff;\r\n",
       "    }\r\n",
       "\r\n",
       "    input[type=button]:focus {\r\n",
       "        background: #1e90ff\r\n",
       "    }\r\n",
       "\r\n",
       "    .ui-dialog .ui-dialog-buttonpane {\r\n",
       "        text-align: right;\r\n",
       "    }\r\n",
       "\r\n",
       "    .ui-dialog .ui-dialog-buttonpane button {\r\n",
       "        float: none;\r\n",
       "    }\r\n",
       "\r\n",
       "        /*a.ui-dialog-titlebar-close.ui-corner-all.ui-state-focus {*/\r\n",
       "        /*border: 1px solid #000;*/\r\n",
       "        /*}*/\r\n",
       "\r\n",
       "</style>\n",
       "<style type=\"text/css\">\r\n",
       "    .alert-error {\r\n",
       "        color: #990000;\r\n",
       "        font-weight: bold;\r\n",
       "    }\r\n",
       "\r\n",
       "    td.top {\r\n",
       "        vertical-align: top !important;\r\n",
       "    }\r\n",
       "\r\n",
       "    td.left {\r\n",
       "        float: none;\r\n",
       "        text-align: left;\r\n",
       "    }\r\n",
       "\r\n",
       "    td.right {\r\n",
       "        float: none;\r\n",
       "        text-align: right;\r\n",
       "    }\r\n",
       "\r\n",
       "    .nowrapFormLabel {\r\n",
       "        white-space: nowrap;\r\n",
       "        text-align: right;\r\n",
       "    }\r\n",
       "\r\n",
       "    h1 {\r\n",
       "        font-size: 120%\r\n",
       "    }\r\n",
       "\r\n",
       "    h2 {\r\n",
       "        font-size: 110%\r\n",
       "    }\r\n",
       "\r\n",
       "    h3 {\r\n",
       "        font-size: 100%\r\n",
       "    }\r\n",
       "\r\n",
       "    .hidden-accessibility-text {\r\n",
       "        position: absolute;\r\n",
       "        left: -2000px;\r\n",
       "        top: 0;\r\n",
       "        width: 1;\r\n",
       "        height: 1;\r\n",
       "        overflow: hidden;\r\n",
       "        font-size: 0.1em;\r\n",
       "    }\r\n",
       "\r\n",
       "    .ofcc305table TD, .ofcc305table TH, .ofcc305table textarea,\r\n",
       "    .ofcc305table textfield, .ofcc305table select,\r\n",
       "    .ofcc305table input, .ofcc305table a {\r\n",
       "        font-size:12px !important;\r\n",
       "        font-family:Arial,sans-serif,Helvetica !important;\r\n",
       "    }\r\n",
       "\r\n",
       "    #cws-search-results th, #cws-job-alerts th {\r\n",
       "        border-top: #CCCCCC 2px solid;\r\n",
       "        border-bottom: #CCCCCC 2px solid;\r\n",
       "    }\r\n",
       "\r\n",
       "    #cws-search-results tr:last-of-type td, #cws-job-alerts tr:last-of-type td {\r\n",
       "        border-bottom: #CCCCCC 2px solid;\r\n",
       "        padding-bottom: 3px;\r\n",
       "    }\r\n",
       "</style>\n",
       "<title>Career Opportunities</title></head><body>\n",
       "<style type=\"text/css\">\n",
       "body {\n",
       "font-family: Verdana;\n",
       "font-size: 11px;\n",
       "font-style: normal;\n",
       "font-weight: normal;\n",
       "}\n",
       "TD, TH {\n",
       "font-family: Verdana;\n",
       "font-size: 11px;\n",
       "font-style: normal;\n",
       "font-weight: normal;\n",
       "}\n",
       "textarea {font-family:Verdana; font-size:10px;}\n",
       "textfield {font-family:Verdana; font-size:10px;}\n",
       "select {font-family:Verdana; font-size:10px;}\n",
       "input {font-family:Verdana; font-size:10px;}\n",
       "</style>\n",
       "<script src=\"https://staticchc.tbe.taleo.net/chc05/ats/cacheable/R15-10-23-04-01-07-15.B2_prod/js/UIv8/tbe-basic-cws.js\" type=\"text/javascript\"></script>\n",
       "<script src=\"https://staticchc.tbe.taleo.net/chc05/ats/cacheable/R15-10-23-04-01-07-15.B2_prod/dwr-cws/engine.js\" type=\"text/javascript\"></script>\n",
       "<script src=\"https://staticchc.tbe.taleo.net/chc05/ats/cacheable/R15-10-23-04-01-07-15.B2_prod/dwr-cws/interface/CwsDWRFacade.js\" type=\"text/javascript\"></script>\n",
       "<script type=\"text/javascript\"> CwsDWRFacade._path = 'http://chc.tbe.taleo.net/chc05/ats/dwr-cws';\n",
       "var DWRFacade = CwsDWRFacade; </script>\n",
       "<script type=\"text/javascript\">\n",
       "var timer;\n",
       "var calendarArray = new Array ();\n",
       "function startSessionTimer(){\n",
       "\ttimer=setTimeout(\"sessionAboutToEnd()\", 86100000);\n",
       "}\n",
       "function sessionAboutToEnd(){\n",
       "\tvar oHead = document.getElementsByTagName('head')[0];\n",
       "\tloadScript(oHead, 'https://staticchc.tbe.taleo.net/chc05/ats/cacheable/R15-10-23-04-01-07-15.B2_prod/js/UIv8/engine.js',  function() {\n",
       "\t\tvar answer = confirm(\"Your session is about to expire. Would you like to continue your session?\");\n",
       "\t\tif(answer){\n",
       "\t\t\tdwr.engine.setErrorHandler( function(errorString, exception) {\n",
       "\t\t\t\twindow.location = \"https://chc.tbe.taleo.net/chc05/ats/sessionTimedOut.jsp?locale=enUS\"\n",
       "\t\t\t});\n",
       "\t\t\tCwsDWRFacade.refreshSession();\n",
       "\t\t\tclearTimeout(timer);\n",
       "\t\t\tstartSessionTimer();\n",
       "\t\t} else {\n",
       "\t\t\twindow.location = \"https://chc.tbe.taleo.net/chc05/ats/sessionTimedOut.jsp?locale=enUS\";\n",
       "\t\t}\n",
       "\t});\n",
       "}\n",
       "startSessionTimer();</script>\n",
       "<script>\n",
       "\n",
       "      //name spacing TBE global variables\n",
       "      //the csrfInclude.jsp may be included multiple times in jsp/jsps. Make sure this is only executed once.\n",
       "      if(typeof window.TBE_OBJ=='undefined') {\n",
       "        var TBE_OBJ ={};\n",
       "        window.TBE_OBJ=TBE_OBJ;\n",
       "        TBE_OBJ.CSRF={};\n",
       "        TBE_OBJ.CSRF.enabled=false;\n",
       "        TBE_OBJ.CSRF.tokenParam = '_csrf';\n",
       "        TBE_OBJ.CSRF.tokenValue='';\n",
       "\n",
       "          \n",
       "\n",
       "            TBE_OBJ.CSRF.enabled=true;\n",
       "            TBE_OBJ.CSRF.tokenValue = 'v1:;1446151932703:;Dk7dSR4FyyaTaIHoSLwaUopzheZPP2dOsT/3PdlmlVM=';\n",
       "            var _jq = $;\n",
       "            if (typeof $ == 'undefined') {\n",
       "              _jq = jQuery;\n",
       "            }\n",
       "            if(typeof _jq !=='undefined') {\n",
       "              _jq(document).ready(function () {\n",
       "                appendCsrfTokenToForms(TBE_OBJ.CSRF.tokenParam, TBE_OBJ.CSRF.tokenValue,'chc.tbe.taleo.net');\n",
       "              });\n",
       "            }\n",
       "        \n",
       "      }\n",
       "    </script>\n",
       "<table border=\"0\" cellpadding=\"2\" cellspacing=\"0\" role=\"presentation\" width=\"100%\">\n",
       "<tr>\n",
       "<td colspan=\"2\" width=\"100%\"><img alt=\"VHA UHCNovation Provista RGB (640x103).jpg\" src=\"https://staticchc.tbe.taleo.net/chc05/ats/cacheable/R15-10-23-04-01-07-15.B2_prod/servlet/dynamic/images/imge_1041.jpg?lastUploaded=1439830875557&amp;org=VHA\"/></td>\n",
       "</tr>\n",
       "<tr>\n",
       "<td colspan=\"2\" width=\"100%\"><img height=\"1px\" src=\"https://pixel.appcast.io/tbe-te8/a31.png?e=331&amp;t=1412013446&amp;jid=4167\" style=\"display: none;\" width=\"1px\"/></td>\n",
       "</tr>\n",
       "<tr>\n",
       "<td colspan=\"2\" width=\"100%\"><a href=\"\" http:=\"\" tabindex=\"8\" title=\"Back to Search Results\">Back to Search Results</a><br/><br/></td>\n",
       "</tr>\n",
       "<tr>\n",
       "<td colspan=\"2\"><hr color=\"silver\" size=\"1\" width=\"100%\"/></td></tr><tr><td colspan=\"2\"><h1>Data Scientist</h1></td>\n",
       "</tr>\n",
       "<tr>\n",
       "<td class=\"nowrapFormLabel width160 top\">Company:</td>\n",
       "<td class=\"formFieldNormal top\" colspan=\"1\" style=\"width: 100%\"><b>VHA-UHC Alliance NewCo, Inc.</b></td>\n",
       "</tr>\n",
       "<tr>\n",
       "<td class=\"nowrapFormLabel width160 top\">Location:</td>\n",
       "<td class=\"formFieldNormal top\" colspan=\"1\" style=\"width: 100%\"><b>NewCo - Chicago</b></td>\n",
       "</tr>\n",
       "<tr>\n",
       "<td class=\"nowrapFormLabel width160 top\">Requisition ID:</td>\n",
       "<td class=\"formFieldNormal top\" colspan=\"1\" style=\"width: 100%\"><b>4167</b></td>\n",
       "</tr>\n",
       "<tr>\n",
       "<td class=\"nowrapFormLabel width160 top\"># of Openings:</td>\n",
       "<td class=\"formFieldNormal top\" colspan=\"1\" style=\"width: 100%\"><b>1</b></td>\n",
       "</tr>\n",
       "<tr>\n",
       "</tr><tr><td colspan=\"2\"><hr color=\"silver\" size=\"1\" width=\"100%\"/></td></tr>\n",
       "<tr><td colspan=\"2\"><h1>Description</h1></td></tr>\n",
       "<tr><td colspan=\"2\"><p style=\"line-height:12.5pt;\"><span style=\"font-size:11px;\"><span style=\"font-family:arial,helvetica,sans-serif;\">VHA Inc. is a national network of not-for-profit health care organizations working together to improve performance and efficiency in clinical, financial and operational management. Effective April 1, 2015, VHA and UHC, the alliance of the nation’s leading academic medical centers, combined into a single organization. The combined organization includes Novation, the health care services company they already jointly own. The new entity is the largest member-owned health care company in the country and is dedicated to leading health care innovation, creating knowledge and fostering collaboration to help our members thrive. The company serves more than 5,200 health system members and affiliates as well as 118,000 non-acute health care customers. Members range from independent, community-based health care organizations to large, integrated systems and academic medical centers. Together, they represent more than $50 billion in annual purchasing volume. Headquarters are in Irving, Texas, with locations in Chicago and other cities across the United States.</span></span></p>\n",
       "<p style=\"margin-top:11.25pt;margin-right:0in;margin-bottom:11.25pt;margin-left:0in;line-height:14.65pt;\"><span style=\"font-size:11px;\"><span style=\"font-family:arial,helvetica,sans-serif;\"><span style=\"color:black;\">For more information, visit </span> <a href=\"http://www.vha.com/\"><span style=\"color:#003399;\">www.vha.com</span></a> <span style=\"color:black;\"> and follow us on Twitter (@VHAInc). </span></span></span></p>\n",
       "<p><span style=\"font-size:11px;\"><span style=\"font-family:arial,helvetica,sans-serif;\">Job Title:  Data Scientist</span></span></p>\n",
       "<p><span style=\"font-size:11px;\"><span style=\"font-family:arial,helvetica,sans-serif;\">Location:  Chicago, IL</span></span></p>\n",
       "<p><span style=\"font-size:11px;\"><span style=\"font-family:arial,helvetica,sans-serif;\">Job Summary:  </span></span></p>\n",
       "<p><span style=\"font-size:11px;\"><span style=\"font-family:arial,helvetica,sans-serif;\">Conducts sophisticated data analysis to help address critical business and member questions, the outputs of which enable members to drive improvements in clinical, operational, and economic outcomes.   </span></span></p>\n",
       "<p><span style=\"font-size:11px;\"><span style=\"font-family:arial,helvetica,sans-serif;\">Responsibilities:</span></span></p>\n",
       "<p><span style=\"font-size:11px;\"><span style=\"font-family:arial,helvetica,sans-serif;\">•           Provides analysis for VHA-UHC-NewCo Alliance leadership team to identify critical issues/questions around member performance.</span></span></p>\n",
       "<p><span style=\"font-size:11px;\"><span style=\"font-family:arial,helvetica,sans-serif;\">•           Conducts exploratory data analysis from complex, disparate data sources to recognize patterns, and identify member performance improvement opportunities.</span></span></p>\n",
       "<p><span style=\"font-size:11px;\"><span style=\"font-family:arial,helvetica,sans-serif;\">•           Generates hypotheses and analyzes data to test and interpret results. </span></span></p>\n",
       "<p><span style=\"font-size:11px;\"><span style=\"font-family:arial,helvetica,sans-serif;\">•           Designs and develops data models to predict member outcomes or future impact of key member decisions.</span></span></p>\n",
       "<p><span style=\"font-size:11px;\"><span style=\"font-family:arial,helvetica,sans-serif;\">•           Communicates findings from exploratory and predictive data analysis broadly to Director of Analytics. </span></span></p>\n",
       "<p><span style=\"font-size:11px;\"><span style=\"font-family:arial,helvetica,sans-serif;\">•           Identifies improvement opportunities in reporting and BI tools and collaborates with Products Technology to implement the enhancements.</span></span></p>\n",
       "<p><span style=\"font-size:11px;\"><span style=\"font-family:arial,helvetica,sans-serif;\">•           Serves as the resident data expert and share best practices/approaches for statistics, machine learning techniques, data modeling, simulation and advanced mathematics. </span></span></p>\n",
       "<p><span style=\"font-size:11px;\"><span style=\"font-family:arial,helvetica,sans-serif;\">•           Collaborates with Director, Data Science &amp; Methodology to build analytical acumen across all analytic roles in the organization.</span></span></p>\n",
       "<p><span style=\"font-size:11px;\"><span style=\"font-family:arial,helvetica,sans-serif;\">Required:</span></span></p>\n",
       "<p><span style=\"font-size:11px;\"><span style=\"font-family:arial,helvetica,sans-serif;\">Advanced degree (Masters or higher) preferred in applied math, statistics, computer science, business analysis or related field.  </span></span></p>\n",
       "<p><span style=\"font-size:11px;\"><span style=\"font-family:arial,helvetica,sans-serif;\">5-7 years of experience managing large disparate data sets and using quantitative and qualitative analysis to draw meaningful and valid insights including 3 years of programming experience using SAS/Python/R.</span></span></p>\n",
       "<p> </p>\n",
       "<p style=\"line-height:12.5pt;\"><span style=\"font-size:11px;\"><span style=\"font-family:arial,helvetica,sans-serif;\">Equal Opportunity Employer   Females/Minorities/Veterans/Individuals with Disabilities</span></span></p>\n",
       "<p style=\"line-height:12.75pt;vertical-align:baseline;\"><span style=\"font-size:11px;\"><span style=\"font-family:arial,helvetica,sans-serif;\">The Company is committed to equal employment opportunity to all employees and applicants without regard to race, religion, color, gender identity, ethnicity, age, creed, sex, national origin, sexual orientation, disability status, veteran status, marital status or any other category protected by applicable law.</span></span></p>\n",
       "<p> </p></td></tr>\n",
       "<tr>\n",
       "</tr><tr><td class=\"left\"><br/>\n",
       "<form action=\"http://chc.tbe.taleo.net/chc05/ats/careers/apply.jsp;jsessionid=172E01E971BA7203F72A7881F72E3FEA?org=VHA&amp;cws=43&amp;rid=4167\" method=\"post\" name=\"apply\">\n",
       "<input name=\"act\" type=\"hidden\" value=\"addCart\"/>\n",
       "<input name=\"org\" type=\"hidden\" value=\"VHA\"/>\n",
       "<input name=\"cws\" type=\"hidden\" value=\"43\"/>\n",
       "<input name=\"tbe_cws_submit\" style=\"\n",
       "padding:2px;margin-right:5px;\n",
       "color:#FFFFFF;\n",
       "border-left: 2px solid #11A9F7;\n",
       "border-bottom:1px solid #333333;\n",
       "border-right:1px solid #333333;\n",
       "border-top:2px solid #11A9F7;\n",
       "font-size: 10px;\n",
       "font-weight: bold;\n",
       "font-family:Verdana;\" tabindex=\"16\" type=\"submit\" value=\"Apply for this Position\"/></form></td>\n",
       "<td align=\"right\" colspan=\"1\"><br/>\n",
       "<form action=\"http://chc.tbe.taleo.net/chc05/ats/careers/email.jsp;jsessionid=172E01E971BA7203F72A7881F72E3FEA?org=VHA&amp;cws=43\" method=\"post\" name=\"send\">\n",
       "<input name=\"org\" type=\"hidden\" value=\"VHA\"/>\n",
       "<input name=\"cws\" type=\"hidden\" value=\"43\"/>\n",
       "<input name=\"rid\" type=\"hidden\" value=\"4167\"/>\n",
       "<input name=\"tbe_cws_submit\" style=\"\n",
       "padding:2px;margin-right:5px;\n",
       "color:#FFFFFF;\n",
       "border-left: 2px solid #11A9F7;\n",
       "border-bottom:1px solid #333333;\n",
       "border-right:1px solid #333333;\n",
       "border-top:2px solid #11A9F7;\n",
       "font-size: 10px;\n",
       "font-weight: bold;\n",
       "font-family:Verdana;\" tabindex=\"17\" type=\"submit\" value=\"Send to a Friend\"/></form>\n",
       "</td></tr>\n",
       "<tr>\n",
       "<td colspan=\"2\" width=\"100%\"><br/></td>\n",
       "</tr>\n",
       "<tr>\n",
       "<td colspan=\"2\"><hr color=\"silver\" size=\"1\" width=\"100%\"/>\n",
       "<h1><span class=\"head1\">Are you a returning applicant?</span></h1></td>\n",
       "</tr>\n",
       "<tr>\n",
       "<form action=\"http://chc.tbe.taleo.net/chc05/ats/careers/applyModal.jsp;jsessionid=172E01E971BA7203F72A7881F72E3FEA?org=VHA&amp;cws=43\" method=\"post\" name=\"TBE_theForm\">\n",
       "<input name=\"org\" type=\"hidden\" value=\"VHA\"/>\n",
       "<input name=\"cws\" type=\"hidden\" value=\"43\"/>\n",
       "<input name=\"rid\" type=\"hidden\" value=\"4167\"/>\n",
       "<input name=\"currentTime\" type=\"hidden\" value=\"1446151932709\"/>\n",
       "<input name=\"signature\" type=\"hidden\" value=\"y9GspCcj79Ks19H/jxrsyJfIrYb3N+riYtdHV1fs4Zc=\"/>\n",
       "<input name=\"et\" type=\"hidden\" value=\"CAND\"/>\n",
       "<input name=\"act\" type=\"hidden\" value=\"addCart\"/>\n",
       "<tr><td colspan=\"2\">\n",
       "<table border=\"0\" cellpadding=\"2\" cellspacing=\"0\" role=\"presentation\"><tr>\n",
       "<td colspan=\"2\" nowrap=\"\">Previous Applicants:</td>\n",
       "</tr>\n",
       "<tr>\n",
       "<td align=\"right\" nowrap=\"\"><label for=\"email\">Email:</label></td>\n",
       "<td class=\"nowrap\"><input autocomplete=\"off\" id=\"email\" maxlength=\"50\" name=\"email\" tabindex=\"30\" type=\"text\"/></td>\n",
       "</tr>\n",
       "<input style=\"display:none\" type=\"text\"/>\n",
       "<input style=\"display:none\" type=\"password\"/>\n",
       "<tr>\n",
       "<td align=\"right\" nowrap=\"\"><label for=\"cwsPassword\">Password:</label></td>\n",
       "<td class=\"nowrap\"><input autocomplete=\"off\" id=\"cwsPassword\" maxlength=\"30\" name=\"cwsPassword\" tabindex=\"31\" type=\"password\"/></td>\n",
       "</tr>\n",
       "<tr><td colspan=\"2\" nowrap=\"\">\n",
       "<input name=\"tbe_cws_submit\" style=\"\n",
       "padding:2px;margin-right:5px;\n",
       "color:#FFFFFF;\n",
       "border-left: 2px solid #11A9F7;\n",
       "border-bottom:1px solid #333333;\n",
       "border-right:1px solid #333333;\n",
       "border-top:2px solid #11A9F7;\n",
       "font-size: 10px;\n",
       "font-weight: bold;\n",
       "font-family:Verdana;\" tabindex=\"32\" type=\"submit\" value=\"Add to My Jobs\"/></td></tr>\n",
       "<tr><td colspan=\"2\" nowrap=\"\"><br/>\n",
       "If you do not remember your password <a href=\"http://chc.tbe.taleo.net/chc05/ats/careers/forgotID.jsp?org=VHA&amp;cws=43\" tabindex=\"33\">click here</a>.<br/><br/></td></tr>\n",
       "</table>\n",
       "</td></tr></form>\n",
       "</tr>\n",
       "<tr>\n",
       "<td colspan=\"2\" width=\"100%\"><a href=\"http://chc.tbe.taleo.net/chc05/ats/careers/searchResults.jsp;jsessionid=172E01E971BA7203F72A7881F72E3FEA?org=VHA&amp;cws=43\" tabindex=\"36\" title=\"Back to Search Results\">Back to Search Results</a><br/><br/></td>\n",
       "</tr>\n",
       "<tr>\n",
       "<td colspan=\"2\" width=\"100%\"><a href=\"http://chc.tbe.taleo.net/chc05/ats/careers/jobSearch.jsp;jsessionid=172E01E971BA7203F72A7881F72E3FEA?org=VHA&amp;cws=43&amp;rid=4167\" tabindex=\"37\" title=\"New Search\">New Search</a><br/><br/></td>\n",
       "</tr>\n",
       "<tr>\n",
       "<td colspan=\"2\" width=\"100%\"><br/><div align=\"right\"><img alt=\"Powered By Taleo\" border=\"0\" src=\"http://tbe.taleo.net/graphics/Taleo_powered_by_small.gif\"/></div><br/><br/></td>\n",
       "</tr>\n",
       "</table>\n",
       "<script type=\"text/javascript\">\r\n",
       "        //jQuery Calendar\r\n",
       "        jQuery(document).ready(function($) {\n",
       "\t$('.jquerycalendar').datepicker({\n",
       "altField:'',altFormat:'',appendText:'',buttonImage:'https://staticchc.tbe.taleo.net/chc05/ats/cacheable/R15-10-23-04-01-07-15.B2_prod/img/UIv8/calendar.gif',buttonImageOnly:true,buttonText:'Calendar',changeMonth:true,changeYear:true,closeText:'\\'Close\\'',constrainInput:true,currentText:'Today',dateFormat:'mm/dd/yy',monthYearDateFormat:'MM/yy',dayNames:['Sunday','Monday','Tuesday','Wednesday','Thursday','Friday','Saturday'],dayNamesShort:['Sunday','Monday','Tuesday','Wednesday','Thursday','Friday','Saturday'],dayNamesMin:['Su','Mo','Tu','We','Th','Fr','Sa'],defaultDate:null,duration:'normal',firstDay:0,gotoCurrent:false,hideIfNoPrevNext:false,isRTL:false,maxDate:null,minDate:null,monthNames:['January','February','March','April','May','June','July','August','September','October','November','December'],monthNamesShort:['Jan','Feb','Mar','Apr','May','Jun','Jul','Aug','Sep','Oct','Nov','Dec'],navigationAsDateFormat:false,nextText:'Next',numberOfMonths:1,prevText:'Previous',shortYearCutoff:'+10',showAnim:'show',showButtonPanel:false,showCurrentAtPos:0,showMonthAfterYear:false,showOn:'button',showOptions:{},showOtherMonths:false,stepMonths:1,yearRange:'1940:2030'});});\r\n",
       "    </script>\n",
       "</body></html>\n"
      ],
      "text/plain": [
       "<IPython.core.display.HTML object>"
      ]
     },
     "execution_count": 28,
     "metadata": {},
     "output_type": "execute_result"
    }
   ],
   "source": [
    "disp_soup = BeautifulSoup(requests.get(in_jobs[3], headers={'User-Agent': 'Mozilla/5.0'}).text)\n",
    "HTML(str(disp_soup))"
   ]
  },
  {
   "cell_type": "code",
   "execution_count": 30,
   "metadata": {
    "collapsed": false
   },
   "outputs": [
    {
     "data": {
      "text/html": [
       "<!DOCTYPE html PUBLIC \"-//W3C//DTD XHTML 1.0 Strict//EN\" \"http://www.w3.org/TR/xhtml1/DTD/xhtml1-strict.dtd\">\n",
       "<html lang=\"en\" xml:lang=\"en\" xmlns=\"http://www.w3.org/1999/xhtml\" xmlns:fn=\"http://www.w3.org/2005/xpath-functions\"><head><meta content=\"text/html; charset=utf-8\" http-equiv=\"Content-Type\"/><meta content=\"Data Scientist\" name=\"og:title\"/><meta content=\"Click the link provided to see the complete job description.\" name=\"og:description\"/><meta content=\"Data Scientist\" name=\"title\"/><meta content=\"Click the link provided to see the complete job description.\" name=\"description\"/><link href=\"/careersection/2014PRD.1.5.62.3.0/css/webcentric_jobboard.css\" rel=\"stylesheet\" type=\"text/css\"/><link href=\"/careersection/2014PRD.1.5.62.3.0/css/ftl.css\" rel=\"stylesheet\" type=\"text/css\"/><link href=\"/careersection/2014PRD.1.5.62.3.0/UIStyleSheet.dcss?styleSheet=FTLcnds-test&amp;timestamp=1446146115939\" rel=\"stylesheet\" type=\"text/css\"/><script src=\"/careersection/2014PRD.1.5.62.3.0/js/ftlallc.js\" type=\"text/javascript\"></script><title>Careers | JOB SEARCH RESULTS</title><meta content=\"Latest Thinking, Perspectives, Future of Work, SMAC, Cloud Solutions\" name=\"keywords\"/><meta content=\"Cognizant's Latest Thinking - We are passionate about helping our clients build stronger businesses by putting the Future of Work to work.\" name=\"description\"/><meta content=\"text/html; charset=utf-8\" http-equiv=\"Content-Type\"/><link href=\"/careersection/theme/761/1139255310175/en/theme/css/approve-edit.css\" rel=\"stylesheet\" type=\"text/css\"/><link href=\"/careersection/theme/761/1139255310175/en/theme/css/global.css\" rel=\"stylesheet\" type=\"text/css\"/><link href=\"/careersection/theme/761/1139255310175/en/theme/css/custom-refactored.css\" rel=\"stylesheet\" type=\"text/css\"/><link href=\"/careersection/theme/761/1139255310175/en/theme/css/application.css\" rel=\"stylesheet\" type=\"text/css\"/><link href=\"/careersection/theme/761/1139255310175/en/theme/css/response.css\" rel=\"stylesheet\" type=\"text/css\"/><link href=\"/careersection/theme/761/1139255310175/en/theme/images/cognizant_favicon.ico\" rel=\"SHORTCUT ICON\"/><link href=\"/careersection/2014PRD.1.5.62.3.0/http://www.cognizant.com/careers\" rel=\"canonical\"/></head><body><div class=\"hdr-wrapper\"><div class=\"cog-hdr\"><div class=\"row-fluid\"><a class=\"logo span3\" href=\"http://www.cognizant.com/\" shape=\"rect\" title=\"Cognizant Technology Solutions\"><img alt=\"Cognizant Technology Solutions\" height=\"74\" src=\"/careersection/theme/761/1139255310175/en/theme/images/cognizant-logo.jpg\" title=\"Cognizant Technology Solutions\" width=\"200\"/></a><div class=\"mainnav dsktp-tblet\"><ul><li><a href=\"http://www.cognizant.com/latest-thinking\" id=\"fnd-solutnnav\" shape=\"rect\" title=\"Find Solutions\">Find Solutions</a></li><li><a href=\"http://www.cognizant.com/latest-thinking\" id=\"LatestThinking\" shape=\"rect\" style=\"cursor: text;\" title=\"Latest Thinking\">Latest Thinking</a></li><li><a href=\"http://www.cognizant.com/about-cognizant\" id=\"AboutCognizant\" shape=\"rect\" title=\"About Cognizant\">About Cognizant</a></li></ul></div><div class=\"staticnav\"><div class=\"dsktp-tblet\"><ul class=\"clearfix\"><li><a class=\"first\" href=\"http://news.cognizant.com/\" shape=\"rect\" title=\"News\">News</a></li><li><a href=\"http://www.cognizant.com/careers\" shape=\"rect\" title=\"Careers\">Careers</a></li><li><a href=\"http://investors.cognizant.com/\" shape=\"rect\" title=\"Investors\">Investors</a></li><li><a href=\"http://www.cognizant.com/about-cognizant\" shape=\"rect\" title=\"Contact Us\">Contact Us</a></li><li><a class=\"last\" href=\"http://www.cognizant.com/locations\" shape=\"rect\" title=\"Worldwide\">Worldwide</a></li></ul></div><div class=\"logn-search m-searchbox\"><div class=\"row-fluid\"><span class=\"span14\"><input class=\"search-box headr-srch ac_input\" id=\"txt_suggest\" name=\"txt_suggest\" onclick=\"removetext(this);\" type=\"text\" value=\"Search\"/><span class=\"search-divd\"></span></span><span class=\"span2 searchbutton\"><input class=\"search-btn span2\" onclick=\"return searchSubmit();\" title=\"Go\" type=\"submit\" value=\"\"/><span class=\"sicon icon-search\"></span></span></div></div></div></div></div></div><div class=\"megamenu-wrapper\"><div class=\"megamenu-wrapperinnr\"><div class=\"megamenuwrp hide\"><div class=\"meganav-wrapper\"><div class=\"meganav-wrapperinner\"><ul class=\"megamenu clearfix hide\"><li class=\"first\"><a href=\"#industries\" shape=\"rect\">Industries</a></li><li><a href=\"#services\" shape=\"rect\">Services</a></li><li><a href=\"#products\" shape=\"rect\">Products &amp; Platforms</a></li><li><a href=\"#strategic-goals\" shape=\"rect\">Strategic Goals</a></li></ul><ul class=\"megamenu clearfix hide\"><li class=\"first\"><a href=\"#CognizantConnections\" shape=\"rect\">Cognizant Connections</a></li><li><a href=\"#FOW\" shape=\"rect\">Future of Work</a></li><li><a href=\"#Perspectives\" shape=\"rect\">Perspectives</a></li><li><a href=\"#SearchThoughtLeadership\" shape=\"rect\">Search Latest Thinking</a></li><li><a href=\"#SMAC\" shape=\"rect\">SMAC</a></li></ul><ul class=\"megamenu clearfix hide\"><li class=\"first\"><a href=\"#CompayOverview\" shape=\"rect\">Company Overview</a></li><li><a href=\"#approach\" shape=\"rect\">Approach</a></li><li><a href=\"#Innovation\" shape=\"rect\">Innovation</a></li><li><a href=\"#Partnerships\" shape=\"rect\">Partnerships</a></li><li><a href=\"#Newsevents\" shape=\"rect\">News &amp; Events</a></li></ul></div></div></div><div class=\"megamenu-videowrp\"><div class=\"megamenu-videowrpinnr\"><div class=\"fourth hide\"><h2>Code Halos</h2><a class=\"video\" href=\"http://www.cognizant.com/code-rules\" onclick=\"this.target='_blank'\" shape=\"rect\" title=\"Code Rules: A Playbook for Managing at the Crossroads\"></a><p class=\"content\">A Playbook for Managing at the Crossroads</p></div><div class=\"fourth-explrmeet-pdf hide\"><h2>OUR LATEST THINKING</h2><div class=\"video\"></div><p class=\"content\">Innovation Beyond The Four Walls</p><a class=\"link\" href=\"http://www.cognizant.com/perspectives/innovation-beyond-the-four-walls\" shape=\"rect\">DOWNLOAD PDF</a></div><div class=\"fourth-explrmeet hide\"><h2>FEATURED NEWS</h2><div class=\"content\"></div></div><div class=\"kc-vd-cnr hide\"><h2>The Cognizant Difference</h2><div class=\"video-part cog-dif-bg kc-vi\" id=\"playImgdiv-kc\" title=\"Play Video\"><div class=\"icon-play-video ply-icon app\" title=\"Play Video\"></div></div></div></div></div><div class=\"row-fluid hide dsktp-tblet \" id=\"fndsolutnnav\" style=\"display: none;\"><div class=\"clearfix\"><div class=\"megamenu-subnav row-fluid\"><div class=\"active-mention\"></div><div class=\"meganav-wrapper\"><div class=\"meganav-wrapperinner\"><div class=\"equlhght-rtsectn\"><div class=\"equlhght-lftsectn\"><div class=\"mmsubmenu\" id=\"industries\" style=\"display: none;\"><div id=\"ctl00_ctl27_lblMegaMenu\"><div class=\"linkwrp\"><div class=\"submenuhead clearfix\"><div class=\"first\"><h2><a href=\"http://www.cognizant.com/industries\" shape=\"rect\" title=\"All Industries\">All Industries</a></h2></div></div><ul class=\"first\"><li><a href=\"http://www.cognizant.com/banking-financial-services\" shape=\"rect\" title=\"Banking &amp; Financial Services\">Banking &amp; Financial Services</a></li><li><a href=\"http://www.cognizant.com/telecommunications\" shape=\"rect\" title=\"Communications\">Communications</a></li><li><a href=\"http://www.cognizant.com/consumer-goods\" shape=\"rect\" title=\"Consumer Goods\">Consumer Goods</a></li><li><a href=\"http://www.cognizant.com/education\" shape=\"rect\" title=\"Education\">Education</a></li><li><a href=\"http://www.cognizant.com/energy-utility\" shape=\"rect\" title=\"Energy &amp; Utilities\">Energy &amp; Utilities</a></li><li><a href=\"http://www.cognizant.com/healthcare\" shape=\"rect\" title=\"Healthcare\">Healthcare</a></li></ul><ul class=\"second\"><li><a href=\"http://www.cognizant.com/business-information-services\" shape=\"rect\" title=\"Information Services\">Information Services</a></li><li><a href=\"http://www.cognizant.com/insurance\" shape=\"rect\" title=\"Insurance\">Insurance</a></li><li><a href=\"http://www.cognizant.com/life-sciences\" shape=\"rect\" title=\"Life Sciences\">Life Sciences</a></li><li><a href=\"http://www.cognizant.com/manufacturing\" shape=\"rect\" title=\"Manufacturing\">Manufacturing</a></li><li><a href=\"http://www.cognizant.com/information-media-entertainment\" shape=\"rect\" title=\"Media &amp; Entertainment\">Media &amp; Entertainment</a></li><li><a href=\"http://www.cognizant.com/retail\" shape=\"rect\" title=\"Retail\">Retail</a></li></ul><ul class=\"third\"><li><a href=\"http://www.cognizant.com/technology\" shape=\"rect\" title=\"Technology\">Technology</a></li><li><a href=\"http://www.cognizant.com/transportation-logistics\" shape=\"rect\" title=\"Transportation &amp; Logistics\">Transportation &amp; Logistics</a></li><li><a href=\"http://www.cognizant.com/travel-hospitality\" shape=\"rect\" title=\"Travel &amp; Hospitality\">Travel &amp; Hospitality</a></li></ul><a class=\"findsltnlink\" href=\"http://www.cognizant.com/find-solutions\" shape=\"rect\" title=\"All Solutions\">All Solutions</a></div></div></div><div class=\"mmsubmenu \" id=\"services\" style=\"display: none;\"><div id=\"ctl00_ctl28_lblMegaMenu\"><div class=\"linkwrp\"><div class=\"submenuhead clearfix\"><div class=\"first\"><h2><a href=\"http://www.cognizant.com/services\" shape=\"rect\">All Services</a></h2></div></div><ul class=\"first\"><li><a href=\"http://www.cognizant.com/enterprise-analytics\" shape=\"rect\" title=\"Analytics\">Analytics</a></li><li><a href=\"http://www.cognizant.com/application-services\" shape=\"rect\" title=\"Application Services\">Application Services</a></li><li><a href=\"http://www.cognizant.com/business-process-services\" shape=\"rect\" title=\"Business Process Services\">Business Process Services</a></li><li><a href=\"http://www.cognizant.com/cloud-computing\" shape=\"rect\" title=\"Cloud\">Cloud</a></li><li><a href=\"http://www.cognizant.com/consulting\" shape=\"rect\" title=\"Consulting\">Consulting</a></li></ul><ul class=\"second\"><li><a href=\"http://www.cognizant.com/customer-relationship-management\" shape=\"rect\" title=\"Customer Relationship Management\">Customer Relationship Management</a></li><li><a href=\"http://www.cognizant.com/digital-security-services\" shape=\"rect\" title=\"Digital Security &amp; Privacy\">Digital Security &amp; Privacy</a></li><li><a href=\"http://www.cognizant.com/engineering-manufacturing-solutions\" shape=\"rect\" title=\"Engineering &amp; Manufacturing Solutions\">Engineering &amp; Manufacturing Solutions</a></li><li><a href=\"http://www.cognizant.com/cognizant-interactive\" shape=\"rect\" title=\"Interactive\">Interactive</a></li><li><a href=\"http://www.cognizant.com/infrastructure-services\" shape=\"rect\" title=\"IT Infrastructure Services\">IT Infrastructure Services</a></li></ul><ul class=\"third\"><li><a href=\"http://www.cognizant.com/mobility\" shape=\"rect\" title=\"Mobility\">Mobility</a></li><li><a href=\"http://www.cognizant.com/portals-content-management\" shape=\"rect\" title=\"Portals &amp; Content Management\">Portals &amp; Content Management</a></li><li><a href=\"http://www.cognizant.com/quality-engineering-and-assurance\" shape=\"rect\" title=\"Quality Engineering &amp; Assurance\">Quality Engineering &amp; Assurance</a></li><li><a href=\"http://www.cognizant.com/social\" shape=\"rect\" title=\"Social\">Social</a></li><li><a href=\"http://www.cognizant.com/supply-chain-management\" shape=\"rect\" title=\"Supply Chain Management\">Supply Chain Management</a></li></ul><a class=\"findsltnlink\" href=\"http://www.cognizant.com/find-solutions\" shape=\"rect\" title=\"All Solutions\">All Solutions</a></div></div></div><div class=\"mmsubmenu\" id=\"products\" style=\"display: none;\"><div id=\"ctl00_ctl29_lblMegaMenu\"><div class=\"linkwrp\"><div class=\"submenuhead clearfix\"><div class=\"first\"><h2><a href=\"http://www.cognizant.com/businesscloud\" shape=\"rect\" title=\"BusinessCloud\">BusinessCloud</a></h2></div></div><ul class=\"first\"><li><a href=\"http://www.cognizant.com/businesscloud/assetserv-digital-asset-management-platform\" shape=\"rect\" title=\"assetSERV\">assetSERV</a></li><li><a href=\"http://www.cognizant.com/businesscloud/careserv-medical-management-solution\" shape=\"rect\" title=\"CareSERV\">CareSERV</a></li><li><a href=\"http://www.cognizant.com/businesscloud/cloud360-enterprise-cloud-management-solution\" shape=\"rect\" title=\"Cloud360\">Cloud360</a></li><li><a href=\"http://www.cognizant.com/businesscloud/fastest\" shape=\"rect\" title=\"fastest\">fastest</a></li><li><a href=\"http://www.cognizant.com/businesscloud/OMaaS\" shape=\"rect\" title=\"OMaaS\">OMaaS</a></li></ul><ul class=\"second prod\"><li><a href=\"http://www.cognizant.com/businesscloud/smarttrials\" shape=\"rect\" title=\"SmartTrials\">SmartTrials</a></li><li><a href=\"http://www.cognizant.com/businesscloud/sep-subscription-enablement-platform\" shape=\"rect\" title=\"Subscription Enablement Platform\">Subscription Enablement Platform</a></li><li><a href=\"http://www.cognizant.com/businesscloud/trumobi\" shape=\"rect\" title=\"TruMobi\">TruMobi</a></li><li><a href=\"http://www.cognizant.com/businesscloud/workport-cloud-based-collaboration-platform\" shape=\"rect\" title=\"WorkPort\">WorkPort</a></li><li><a href=\"http://www.cognizant.com/businesscloud/ZDLC-zero-deviation-life-cycle-management-platform\" shape=\"rect\" title=\"Zero Deviation Life Cycle\">Zero Deviation Life Cycle</a></li></ul><a class=\"findsltnlink\" href=\"http://www.cognizant.com/find-solutions\" shape=\"rect\" title=\"All Solutions\">All Solutions</a></div></div></div><div class=\"mmsubmenu\" id=\"strategic-goals\" style=\"display: none;\"><div id=\"ctl00_ctl30_lblMegaMenu\"><div class=\"linkwrp\"><div class=\"submenuhead clearfix\"><div class=\"first\"><h2><a href=\"http://www.cognizant.com/strategic-goals\" shape=\"rect\" title=\"All Strategic Goals\">All Strategic Goals</a></h2></div></div><ul class=\"first\"><li><a href=\"http://www.cognizant.com/strategic-goals/big-data-analytics\" shape=\"rect\" title=\"Big Data Analytics\">Big Data Analytics </a></li><li><a href=\"http://www.cognizant.com/strategic-goals/business-reimagined\" shape=\"rect\" title=\"Business Reimagined\">Business Reimagined </a></li><li><a href=\"http://www.cognizant.com/strategic-goals/cloud-computing\" shape=\"rect\" title=\"Cloud Computing\">Cloud Computing</a></li><li><a href=\"http://www.cognizant.com/strategic-goals/demand-chain-management\" shape=\"rect\" title=\"Demand Chain Management\">Demand Chain Management</a></li><li><a href=\"http://www.cognizant.com/strategic-goals/enterprise-mobility\" shape=\"rect\" title=\"Enterprise Mobility\">Enterprise Mobility</a></li></ul><ul class=\"first\"><li><a href=\"http://www.cognizant.com/strategic-goals/fostering-innovation\" shape=\"rect\" title=\"Fostering Innovation\">Fostering Innovation</a></li><li><a href=\"http://www.cognizant.com/strategic-goals/it-as-a-service\" shape=\"rect\" title=\"IT as a Service  \">IT as a Service </a></li><li><a href=\"http://www.cognizant.com/strategic-goals/managing-compliance\" shape=\"rect\" title=\"Managing Compliance\">Managing Compliance</a></li><li><a href=\"http://www.cognizant.com/strategic-goals/virtual-millennial-workers\" shape=\"rect\" title=\"Virtual &amp; Millennial Workers \">Virtual &amp; Millennial Workers </a></li><li><a href=\"http://www.cognizant.com/strategic-goals/virtual-data-centers\" shape=\"rect\" title=\"Virtual Data Centers \">Virtual Data Centers </a></li></ul><a class=\"findsltnlink\" href=\"http://www.cognizant.com/find-solutions\" shape=\"rect\" title=\"All Solutions\">All Solutions</a></div></div></div></div></div></div></div></div></div></div></div></div><div style=\"clear:both;\"></div><div class=\"placeholderStyle\"><table border=\"0\" cellpadding=\"0\" cellspacing=\"0\" summary=\"\" width=\"100%\"><tbody><tr><td colspan=\"1\" rowspan=\"1\"><table border=\"0\" cellpadding=\"1\" cellspacing=\"0\" class=\"ms-listviewtable\" summary=\"landingpage\" width=\"100%\"><tbody><tr><td class=\"ms-vb2\" colspan=\"1\" rowspan=\"1\"><div class=\"ms-rtestate-field\"><div><div class=\"bridecrump-wrp clearfix headsection\"><div class=\"content\"><div class=\"subheadsection\"><ul class=\"subhead\"><li><a href=\"http://www.cognizant.com/careers\" shape=\"rect\" title=\"Careers\">Careers</a></li><li> &gt; Job Search Results</li></ul><h1 class=\"page-header-dropdown\"><span class=\"font12\"> JOB SEARCH RESULTS </span></h1></div></div></div></div></div></td></tr></tbody></table></td></tr></tbody></table></div><div class=\"taleo-content\"><iframe frameborder=\"0\" height=\"0\" id=\"ftlhiddenframe\" name=\"Empty Frame\" src=\"/careersection/2014PRD.1.5.62.3.0/html/ajax.htm\" title=\"Empty frame. Ignore.\" width=\"0\"></iframe><form action=\"jobdetail.ftl\" id=\"ftlform\" method=\"post\" name=\"ftlform\"><input id=\"lang\" name=\"lang\" type=\"hidden\" value=\"en\"/><input id=\"ftlpageid\" name=\"ftlpageid\" type=\"hidden\" value=\"requisitionDescriptionPage\"/><input id=\"ftlcompid\" name=\"ftlcompid\" type=\"hidden\" value=\"\"/><input id=\"ftlinterfaceid\" name=\"ftlinterfaceid\" type=\"hidden\" value=\"\"/><input id=\"ftlcompclass\" name=\"ftlcompclass\" type=\"hidden\" value=\"\"/><input id=\"ftlhistory\" name=\"ftlhistory\" type=\"hidden\" value=\"1446152077055|3.0.4.1.19.15.20\"/><input id=\"ftlPageHistory\" name=\"ftlPageHistory\" type=\"hidden\" value=\"\"/><input id=\"ftlstate\" name=\"ftlstate\" type=\"hidden\" value=\"\"/><input id=\"ftlwinscr\" name=\"ftlwinscr\" type=\"hidden\" value=\"\"/><input id=\"jsfCmdId\" name=\"jsfCmdId\" type=\"hidden\" value=\"\"/><input id=\"ftlerrors\" name=\"ftlerrors\" type=\"hidden\" value=\"\"/><input id=\"portal\" name=\"portal\" type=\"hidden\" value=\"\"/><input id=\"tz\" name=\"tz\" type=\"hidden\" value=\"EST\"/><input id=\"iniurl.src\" name=\"iniurl.src\" type=\"hidden\" value=\"JB-11160\"/><input id=\"iniurl.media_id\" name=\"iniurl.media_id\" type=\"hidden\" value=\"\"/><input id=\"iniurl.sns_id\" name=\"iniurl.sns_id\" type=\"hidden\" value=\"\"/><input id=\"iniurl.use_up\" name=\"iniurl.use_up\" type=\"hidden\" value=\"\"/><input id=\"ftlISWLDMessage\" name=\"ftlISWLDMessage\" type=\"hidden\" value=\"\"/><input id=\"navigate.target\" name=\"navigate.target\" type=\"hidden\" value=\"\"/><input id=\"rdPager.nbDisplayPage\" name=\"rdPager.nbDisplayPage\" type=\"hidden\" value=\"5\"/><input id=\"descRequisition.hasElements\" name=\"descRequisition.hasElements\" type=\"hidden\" value=\"true\"/><input id=\"listEmptyIsApplicantUser\" name=\"listEmptyIsApplicantUser\" type=\"hidden\" value=\"false\"/><input id=\"displayUrgentNeed\" name=\"displayUrgentNeed\" type=\"hidden\" value=\"\"/><input id=\"rdPager.pagerLabelAfterPreviousHidden\" name=\"rdPager.pagerLabelAfterPreviousHidden\" type=\"hidden\" value=\" \"/><input id=\"jobCartIcon\" name=\"jobCartIcon\" type=\"hidden\" value=\"cart_black.gif\"/><input id=\"initialHistory\" name=\"initialHistory\" type=\"hidden\" value=\"ftlx0!|!ftlUtil_resetPage!%24!requisitionDescriptionInterface!|!descRequisition!|!rdPager!%24!466174!|!true!|!466174!|!false!|!Submission for the position%5C: Data Scientist - (Job Number%5C: 00016133951)!|!false!|!466174!|!false!|!true!|!https%5C://cognizant.taleo.net/careersection/jobdetail.ftl?job=00016133951%26lang=en!|!Data Scientist!|!true!|!Data Scientist!|!00016133951!|!00016133951!|!!*!%3Cdiv style=%22font-family%5C: calibri; font-size%5C: 13px; color%5C: Black; line-height%5C: 1.5;%22%3E%3Cp class=%22MsoNoSpacing%22 style=%22margin-top%5C:0px;margin-bottom%5C:0px%22%3E%3Cspan style=%22font-family%5C: Cambria, serif;%22%3E%3C/span%3E%3C/p%3E%3Cdiv%3EData Scientist%3C/div%3E%3Cdiv%3E%26nbsp;%3C/div%3E%3Cdiv%3ECognizant seeks experienced%26nbsp;%3Cb%3EData Scientist%26nbsp;%3C/b%3Eand Optimization leaders to design, build, deploy and support large, world-class enterprise-level solutions.%26nbsp;%3C/div%3E%3Cdiv%3E%26nbsp;%3C/div%3E%3Cdiv%3E%3Cb%3ERequired Skills%5C:%3C/b%3E%3C/div%3E%3Cdiv%3EAt the minimum must have a graduate level degree in a quantitative discipline (i.e. Statistics, Applied Mathematics, Operations Research, Industrial Engineering, Computer Science, etc)%3C/div%3E%3Cdiv%3EMust have experience in applying advanced statistical models and machine learning techniques to solve business questions using but not limited to the following tools/technologies%5C: SQL, R, Python, NLP, Spark%3C/div%3E%3Cdiv%3EExperience mining large amounts of data (i.e. transactional, click stream, social media) to build predictive and descriptive statistical models%3C/div%3E%3Cdiv%3EExperience working with IT to facilitate DSS to enable real time predictive analytics.%3C/div%3E%3Cdiv%3E%26nbsp;%3C/div%3E%3Cdiv%3E%3Cb%3EQualification%5C:%3C/b%3E%3C/div%3E%3Cdiv%3EScience / Engineering Graduate%3C/div%3E%3Cdiv%3E%3Cbr%3E%3C/div%3E%3Cdiv%3EKey Responsibilities%3C/div%3E• Involved in coding, testing, debugging%3Cbr%3E• Responsible for delivery of assigned work, under a module lead or team lead supervision. Needs to understand technology and quality processes within Cognizant%3Cbr%3E%3Cbr%3E%3Cdiv%3EJob Requirement%3C/div%3E• Working knowledge of the technical platforms of the project%3Cbr%3E• Applies design specifications techniques under supervision of the module leader / Project Lead%3Cbr%3E%3Cbr%3E%3Cdiv%3EPeople Interactions%3C/div%3E• Within own team or department at operational level.%3Cbr%3E• Client interaction in some cases.%0A%3Cp%3E%3C/p%3E%3C/div%3E!|!!*!%3Cdiv style=%22font-family%5C: calibri; font-size%5C: 13px; color%5C: Black; line-height%5C: 1.5;%22%3E%3Cp class=%22MsoNoSpacing%22 style=%22margin-top%5C:0px;margin-bottom%5C:0px%22%3E%3Cspan style=%22font-family%5C: Cambria, serif;%22%3E%3C/span%3E%3C/p%3E%3Cdiv%3EData Scientist%3C/div%3E%3Cdiv%3E%26nbsp;%3C/div%3E%3Cdiv%3ECognizant seeks experienced%26nbsp;%3Cb%3EData Scientist%26nbsp;%3C/b%3Eand Optimization leaders to design, build, deploy and support large, world-class enterprise-level solutions.%26nbsp;%3C/div%3E%3Cdiv%3E%26nbsp;%3C/div%3E%3Cdiv%3E%3Cb%3ERequired Skills%5C:%3C/b%3E%3C/div%3E%3Cdiv%3EAt the minimum must have a graduate level degree in a quantitative discipline (i.e. Statistics, Applied Mathematics, Operations Research, Industrial Engineering, Computer Science, etc)%3C/div%3E%3Cdiv%3EMust have experience in applying advanced statistical models and machine learning techniques to solve business questions using but not limited to the following tools/technologies%5C: SQL, R, Python, NLP, Spark%3C/div%3E%3Cdiv%3EExperience mining large amounts of data (i.e. transactional, click stream, social media) to build predictive and descriptive statistical models%3C/div%3E%3Cdiv%3EExperience working with IT to facilitate DSS to enable real time predictive analytics.%3C/div%3E%3Cdiv%3E%26nbsp;%3C/div%3E%3Cdiv%3E%3Cb%3EQualification%5C:%3C/b%3E%3C/div%3E%3Cdiv%3EScience / Engineering Graduate%3C/div%3E%3Cdiv%3E%3Cbr%3E%3C/div%3E%3Cdiv%3EKey Responsibilities%3C/div%3E• Involved in coding, testing, debugging%3Cbr%3E• Responsible for delivery of assigned work, under a module lead or team lead supervision. Needs to understand technology and quality processes within Cognizant%3Cbr%3E%3Cbr%3E%3Cdiv%3EJob Requirement%3C/div%3E• Working knowledge of the technical platforms of the project%3Cbr%3E• Applies design specifications techniques under supervision of the module leader / Project Lead%3Cbr%3E%3Cbr%3E%3Cdiv%3EPeople Interactions%3C/div%3E• Within own team or department at operational level.%3Cbr%3E• Client interaction in some cases.%0A%3Cp%3E%3C/p%3E%3C/div%3E!|!0 %25!|!!*!%3Cp style=%22font-weight%5C: bold; font-family%5C: calibri; font-size%5C: 16px; margin-top%5C: 0px; margin-bottom%5C: 0px%22%3ETechnical Skills%3C/p%3E%3Ctable id=%22Functional%22 width=%22590px%22 border=%221%22 style=%22border%5C: 1px solid grey; border-collapse%5C: collapse;%22%3E%3Ctbody%3E%3Ctr style=%22font-family%5C: calibri; font-size%5C: 14px; color%5C: White; line-height%5C: 1.75; text-align%5C: center;%22%3E%3Ctd bgcolor=%22#888888%22 style=%22text-align%5C: center;%22 width=%2220px%22%3E%3Cb%3ESNo%3C/b%3E%3C/td%3E%3Ctd bgcolor=%22#888888%22 style=%22text-align%5C: center;%22 width=%22370px%22%3E%3Cb%3EPrimary Skill%3C/b%3E%3C/td%3E%3Ctd bgcolor=%22#888888%22 style=%22text-align%5C: center;%22 width=%22120px%22%3E%3Cb%3EProficiency Level *%3C/b%3E%3C/td%3E%3Ctd bgcolor=%22#888888%22 style=%22text-align%5C: center;%22 width=%2290px%22%3E%3Cb%3ERqrd./Dsrd.%3C/b%3E%3C/td%3E%3C/tr%3E%3Ctr class=%22Skill%22 style=%22font-family%5C: calibri; font-size%5C: 13px; color%5C: #000000; line-height%5C: 1.5; text-align%5C: center;%22%3E%3Ctd style=%22text-align%5C: center;%22 width=%2220px%22%3E1%3C/td%3E%3Ctd style=%22text-align%5C: center;%22 width=%22370px%22%3ER Statistical Package%3C/td%3E%3Ctd style=%22text-align%5C: center;%22 width=%22120px%22%3EPL1%3C/td%3E%3Ctd style=%22text-align%5C: center;%22 width=%2290px%22%3ERequired%3C/td%3E%3C/tr%3E%3Ctr class=%22Skill%22 style=%22font-family%5C: calibri; font-size%5C: 13px; color%5C: #000000; line-height%5C: 1.5; text-align%5C: center;%22%3E%3Ctd style=%22text-align%5C: center;%22 width=%2220px%22%3E2%3C/td%3E%3Ctd style=%22text-align%5C: center;%22 width=%22370px%22%3ESPSS%3C/td%3E%3Ctd style=%22text-align%5C: center;%22 width=%22120px%22%3EPL1%3C/td%3E%3Ctd style=%22text-align%5C: center;%22 width=%2290px%22%3ERequired%3C/td%3E%3C/tr%3E%3Ctr class=%22Skill%22 style=%22font-family%5C: calibri; font-size%5C: 13px; color%5C: #000000; line-height%5C: 1.5; text-align%5C: center;%22%3E%3Ctd style=%22text-align%5C: center;%22 width=%2220px%22%3E3%3C/td%3E%3Ctd style=%22text-align%5C: center;%22 width=%22370px%22%3EMS Powerpoint%3C/td%3E%3Ctd style=%22text-align%5C: center;%22 width=%22120px%22%3EPL1%3C/td%3E%3Ctd style=%22text-align%5C: center;%22 width=%2290px%22%3ERequired%3C/td%3E%3C/tr%3E%3Ctr class=%22Skill%22 style=%22font-family%5C: calibri; font-size%5C: 13px; color%5C: #000000; line-height%5C: 1.5; text-align%5C: center;%22%3E%3Ctd style=%22text-align%5C: center;%22 width=%2220px%22%3E4%3C/td%3E%3Ctd style=%22text-align%5C: center;%22 width=%22370px%22%3EANSI SQL%3C/td%3E%3Ctd style=%22text-align%5C: center;%22 width=%22120px%22%3EPL1%3C/td%3E%3Ctd style=%22text-align%5C: center;%22 width=%2290px%22%3ERequired%3C/td%3E%3C/tr%3E%3Ctr class=%22Skill%22 style=%22font-family%5C: calibri; font-size%5C: 13px; color%5C: #000000; line-height%5C: 1.5; text-align%5C: center;%22%3E%3Ctd style=%22text-align%5C: center;%22 width=%2220px%22%3E5%3C/td%3E%3Ctd style=%22text-align%5C: center;%22 width=%22370px%22%3ESAS%3C/td%3E%3Ctd style=%22text-align%5C: center;%22 width=%22120px%22%3EPL1%3C/td%3E%3Ctd style=%22text-align%5C: center;%22 width=%2290px%22%3ERequired%3C/td%3E%3C/tr%3E%3Ctr class=%22Skill%22 style=%22font-family%5C: calibri; font-size%5C: 13px; color%5C: #000000; line-height%5C: 1.5; text-align%5C: center;%22%3E%3Ctd style=%22text-align%5C: center;%22 width=%2220px%22%3E6%3C/td%3E%3Ctd style=%22text-align%5C: center;%22 width=%22370px%22%3EMS-ACCESS%3C/td%3E%3Ctd style=%22text-align%5C: center;%22 width=%22120px%22%3EPL1%3C/td%3E%3Ctd style=%22text-align%5C: center;%22 width=%2290px%22%3ERequired%3C/td%3E%3C/tr%3E%3C/tbody%3E%3C/table%3E%3Cbr%3E%3Cbr%3E%3Cp style=%22font-weight%5C: bold; font-family%5C: calibri; font-size%5C: 16px; margin-top%5C: 0px; margin-bottom%5C: 0px%22%3E* Proficiency Legends%3C/p%3E%3Ctable width=%22590px%22 border=%221%22 style=%22border%5C:1px solid grey;border-collapse%5C: collapse;%22%3E%3Ctbody%3E%3Ctr style=%22font-family%5C: calibri; font-size%5C: 14px; color%5C: White; line-height%5C: 1.5; text-align%5C: center;%22%3E%3Ctd bgcolor=%22#888888%22 style=%22text-align%5C: center;%22 width=%2260px%22%3E%3Cb%3EProficiency Level%3C/b%3E%3C/td%3E%3Ctd bgcolor=%22#888888%22 style=%22text-align%5C: center;%22 width=%22530px%22%3E%3Cb%3EGeneric Reference%3C/b%3E%3C/td%3E%3C/tr%3E%3Ctr style=%22font-family%5C: calibri; font-size%5C: 13px; color%5C: #000000; line-height%5C: 1.5;%22%3E%3Ctd style=%22text-align%5C: center;%22 width=%2260px%22%3EPL1%3C/td%3E%3Ctd align=%22justify%22 width=%22530px%22%3EThe associate has basic awareness and comprehension of the skill and is in the process of acquiring this skill through various channels.%3C/td%3E%3C/tr%3E%3Ctr style=%22font-family%5C: calibri; font-size%5C: 13px; color%5C: #000000; line-height%5C: 1.5;%22%3E%3Ctd style=%22text-align%5C: center;%22 width=%2260px%22%3EPL2%3C/td%3E%3Ctd align=%22justify%22 width=%22530px%22%3EThe associate possesses working knowledge of the skill, and can actively and independently apply this skill in engagements and projects.%3C/td%3E%3C/tr%3E%3Ctr style=%22font-family%5C: calibri;font-size%5C: 13px;color%5C: #000000;line-height%5C: 1.5;%22%3E%3Ctd style=%22text-align%5C: center;%22 width=%2260px%22%3EPL3%3C/td%3E%3Ctd align=%22justify%22 width=%22530px%22%3EThe associate has comprehensive, in-depth and specialized knowledge of the skill. She / he has extensively demonstrated successful application of the skill in engagements or projects.%3C/td%3E%3C/tr%3E%3Ctr style=%22font-family%5C: calibri; font-size%5C: 13px; color%5C: #000000; line-height%5C: 1.5;%22%3E%3Ctd style=%22text-align%5C: center;%22 width=%2260px%22%3EPL4%3C/td%3E%3Ctd align=%22justify%22 width=%22530px%22%3EThe associate can function as a subject matter expert for this skill. The associate is capable of analyzing, evaluating and synthesizing solutions using the skill.%3C/td%3E%3C/tr%3E%3C/tbody%3E%3C/table%3E%3Cbr%3E%3Cbr%3E%3Cbr%3E%3Cp style=%22font-weight%5C: bold; font-family%5C: calibri; font-size%5C: 16px; margin-top%5C: 0px; margin-bottom%5C: 0px%22%3EOrganization Marketing Statement%3C/p%3E%3Cdiv style=%22font-family%5C: calibri; font-size%5C: 13px; color%5C: Black; line-height%5C: 1.5;%22%3ECognizant (NASDAQ%5C: CTSH) is a leading provider of information technology, consulting, and business process outsourcing services, dedicated to helping the world%27s leading companies build stronger businesses. Headquartered in Teaneck, New Jersey (U.S.), Cognizant combines a passion for client satisfaction, technology innovation, deep industry and business process expertise, and a global, collaborative workforce that embodies the future of work. With over 100 development and delivery centers worldwide and approximately 218,000 employees as of June 30, 2015, Cognizant is a member of the NASDAQ-100, the S%26amp;P 500, the Forbes Global 2000, and the Fortune 500 and is ranked among the top performing and fastest growing companies in the world. Visit us online at %3Ca target=%22_Blank%22 href=%22http%5C://www.cognizant.com/%22 style=%22color%5C: #009999;%22%3Ewww.cognizant.com%3C/a%3E or follow us on %3Ca target=%22_Blank%22 href=%22https%5C://mobile.twitter.com/cognizant/%22 style=%22color%5C: #009999;%22%3E Twitter%5C: Cognizant.%3C/a%3E%3C/div%3E!|!!*!%3Cp style=%22font-weight%5C: bold; font-family%5C: calibri; font-size%5C: 16px; margin-top%5C: 0px; margin-bottom%5C: 0px%22%3ETechnical Skills%3C/p%3E%3Ctable id=%22Functional%22 width=%22590px%22 border=%221%22 style=%22border%5C: 1px solid grey; border-collapse%5C: collapse;%22%3E%3Ctbody%3E%3Ctr style=%22font-family%5C: calibri; font-size%5C: 14px; color%5C: White; line-height%5C: 1.75; text-align%5C: center;%22%3E%3Ctd bgcolor=%22#888888%22 style=%22text-align%5C: center;%22 width=%2220px%22%3E%3Cb%3ESNo%3C/b%3E%3C/td%3E%3Ctd bgcolor=%22#888888%22 style=%22text-align%5C: center;%22 width=%22370px%22%3E%3Cb%3EPrimary Skill%3C/b%3E%3C/td%3E%3Ctd bgcolor=%22#888888%22 style=%22text-align%5C: center;%22 width=%22120px%22%3E%3Cb%3EProficiency Level *%3C/b%3E%3C/td%3E%3Ctd bgcolor=%22#888888%22 style=%22text-align%5C: center;%22 width=%2290px%22%3E%3Cb%3ERqrd./Dsrd.%3C/b%3E%3C/td%3E%3C/tr%3E%3Ctr class=%22Skill%22 style=%22font-family%5C: calibri; font-size%5C: 13px; color%5C: #000000; line-height%5C: 1.5; text-align%5C: center;%22%3E%3Ctd style=%22text-align%5C: center;%22 width=%2220px%22%3E1%3C/td%3E%3Ctd style=%22text-align%5C: center;%22 width=%22370px%22%3ER Statistical Package%3C/td%3E%3Ctd style=%22text-align%5C: center;%22 width=%22120px%22%3EPL1%3C/td%3E%3Ctd style=%22text-align%5C: center;%22 width=%2290px%22%3ERequired%3C/td%3E%3C/tr%3E%3Ctr class=%22Skill%22 style=%22font-family%5C: calibri; font-size%5C: 13px; color%5C: #000000; line-height%5C: 1.5; text-align%5C: center;%22%3E%3Ctd style=%22text-align%5C: center;%22 width=%2220px%22%3E2%3C/td%3E%3Ctd style=%22text-align%5C: center;%22 width=%22370px%22%3ESPSS%3C/td%3E%3Ctd style=%22text-align%5C: center;%22 width=%22120px%22%3EPL1%3C/td%3E%3Ctd style=%22text-align%5C: center;%22 width=%2290px%22%3ERequired%3C/td%3E%3C/tr%3E%3Ctr class=%22Skill%22 style=%22font-family%5C: calibri; font-size%5C: 13px; color%5C: #000000; line-height%5C: 1.5; text-align%5C: center;%22%3E%3Ctd style=%22text-align%5C: center;%22 width=%2220px%22%3E3%3C/td%3E%3Ctd style=%22text-align%5C: center;%22 width=%22370px%22%3EMS Powerpoint%3C/td%3E%3Ctd style=%22text-align%5C: center;%22 width=%22120px%22%3EPL1%3C/td%3E%3Ctd style=%22text-align%5C: center;%22 width=%2290px%22%3ERequired%3C/td%3E%3C/tr%3E%3Ctr class=%22Skill%22 style=%22font-family%5C: calibri; font-size%5C: 13px; color%5C: #000000; line-height%5C: 1.5; text-align%5C: center;%22%3E%3Ctd style=%22text-align%5C: center;%22 width=%2220px%22%3E4%3C/td%3E%3Ctd style=%22text-align%5C: center;%22 width=%22370px%22%3EANSI SQL%3C/td%3E%3Ctd style=%22text-align%5C: center;%22 width=%22120px%22%3EPL1%3C/td%3E%3Ctd style=%22text-align%5C: center;%22 width=%2290px%22%3ERequired%3C/td%3E%3C/tr%3E%3Ctr class=%22Skill%22 style=%22font-family%5C: calibri; font-size%5C: 13px; color%5C: #000000; line-height%5C: 1.5; text-align%5C: center;%22%3E%3Ctd style=%22text-align%5C: center;%22 width=%2220px%22%3E5%3C/td%3E%3Ctd style=%22text-align%5C: center;%22 width=%22370px%22%3ESAS%3C/td%3E%3Ctd style=%22text-align%5C: center;%22 width=%22120px%22%3EPL1%3C/td%3E%3Ctd style=%22text-align%5C: center;%22 width=%2290px%22%3ERequired%3C/td%3E%3C/tr%3E%3Ctr class=%22Skill%22 style=%22font-family%5C: calibri; font-size%5C: 13px; color%5C: #000000; line-height%5C: 1.5; text-align%5C: center;%22%3E%3Ctd style=%22text-align%5C: center;%22 width=%2220px%22%3E6%3C/td%3E%3Ctd style=%22text-align%5C: center;%22 width=%22370px%22%3EMS-ACCESS%3C/td%3E%3Ctd style=%22text-align%5C: center;%22 width=%22120px%22%3EPL1%3C/td%3E%3Ctd style=%22text-align%5C: center;%22 width=%2290px%22%3ERequired%3C/td%3E%3C/tr%3E%3C/tbody%3E%3C/table%3E%3Cbr%3E%3Cbr%3E%3Cp style=%22font-weight%5C: bold; font-family%5C: calibri; font-size%5C: 16px; margin-top%5C: 0px; margin-bottom%5C: 0px%22%3E* Proficiency Legends%3C/p%3E%3Ctable width=%22590px%22 border=%221%22 style=%22border%5C:1px solid grey;border-collapse%5C: collapse;%22%3E%3Ctbody%3E%3Ctr style=%22font-family%5C: calibri; font-size%5C: 14px; color%5C: White; line-height%5C: 1.5; text-align%5C: center;%22%3E%3Ctd bgcolor=%22#888888%22 style=%22text-align%5C: center;%22 width=%2260px%22%3E%3Cb%3EProficiency Level%3C/b%3E%3C/td%3E%3Ctd bgcolor=%22#888888%22 style=%22text-align%5C: center;%22 width=%22530px%22%3E%3Cb%3EGeneric Reference%3C/b%3E%3C/td%3E%3C/tr%3E%3Ctr style=%22font-family%5C: calibri; font-size%5C: 13px; color%5C: #000000; line-height%5C: 1.5;%22%3E%3Ctd style=%22text-align%5C: center;%22 width=%2260px%22%3EPL1%3C/td%3E%3Ctd align=%22justify%22 width=%22530px%22%3EThe associate has basic awareness and comprehension of the skill and is in the process of acquiring this skill through various channels.%3C/td%3E%3C/tr%3E%3Ctr style=%22font-family%5C: calibri; font-size%5C: 13px; color%5C: #000000; line-height%5C: 1.5;%22%3E%3Ctd style=%22text-align%5C: center;%22 width=%2260px%22%3EPL2%3C/td%3E%3Ctd align=%22justify%22 width=%22530px%22%3EThe associate possesses working knowledge of the skill, and can actively and independently apply this skill in engagements and projects.%3C/td%3E%3C/tr%3E%3Ctr style=%22font-family%5C: calibri;font-size%5C: 13px;color%5C: #000000;line-height%5C: 1.5;%22%3E%3Ctd style=%22text-align%5C: center;%22 width=%2260px%22%3EPL3%3C/td%3E%3Ctd align=%22justify%22 width=%22530px%22%3EThe associate has comprehensive, in-depth and specialized knowledge of the skill. She / he has extensively demonstrated successful application of the skill in engagements or projects.%3C/td%3E%3C/tr%3E%3Ctr style=%22font-family%5C: calibri; font-size%5C: 13px; color%5C: #000000; line-height%5C: 1.5;%22%3E%3Ctd style=%22text-align%5C: center;%22 width=%2260px%22%3EPL4%3C/td%3E%3Ctd align=%22justify%22 width=%22530px%22%3EThe associate can function as a subject matter expert for this skill. The associate is capable of analyzing, evaluating and synthesizing solutions using the skill.%3C/td%3E%3C/tr%3E%3C/tbody%3E%3C/table%3E%3Cbr%3E%3Cbr%3E%3Cbr%3E%3Cp style=%22font-weight%5C: bold; font-family%5C: calibri; font-size%5C: 16px; margin-top%5C: 0px; margin-bottom%5C: 0px%22%3EOrganization Marketing Statement%3C/p%3E%3Cdiv style=%22font-family%5C: calibri; font-size%5C: 13px; color%5C: Black; line-height%5C: 1.5;%22%3ECognizant (NASDAQ%5C: CTSH) is a leading provider of information technology, consulting, and business process outsourcing services, dedicated to helping the world%27s leading companies build stronger businesses. Headquartered in Teaneck, New Jersey (U.S.), Cognizant combines a passion for client satisfaction, technology innovation, deep industry and business process expertise, and a global, collaborative workforce that embodies the future of work. With over 100 development and delivery centers worldwide and approximately 218,000 employees as of June 30, 2015, Cognizant is a member of the NASDAQ-100, the S%26amp;P 500, the Forbes Global 2000, and the Fortune 500 and is ranked among the top performing and fastest growing companies in the world. Visit us online at %3Ca target=%22_Blank%22 href=%22http%5C://www.cognizant.com/%22 style=%22color%5C: #009999;%22%3Ewww.cognizant.com%3C/a%3E or follow us on %3Ca target=%22_Blank%22 href=%22https%5C://mobile.twitter.com/cognizant/%22 style=%22color%5C: #009999;%22%3E Twitter%5C: Cognizant.%3C/a%3E%3C/div%3E!|!Application Development / Application Maintenance!|!Application Development / Application Maintenance!|!United States-Illinois-Chicago - IL USA, COG!|!United States-Illinois-Chicago - IL USA, COG!|!!|!!|!Permanent!|!Permanent!|!Full-time!|!Full-time!|!Standard!|!Standard!|!Individual Contributor!|!Individual Contributor!|!Day Job!|!Day Job!|!No!|!No!|!Oct 26, 2015, 1%5C:11%5C:34 PM!|!Oct 26, 2015, 1%5C:11%5C:34 PM!|!!|!!|!IT Services - United States!|!IT Services - United States!|!false!|!466174!|!466174!|!true!|!466174!|!false!|!Submission for the position%5C: Data Scientist - (Job Number%5C: 00016133951)!|!false!|!466174!|!false!|!true!|!https%5C://cognizant.taleo.net/careersection/jobdetail.ftl?job=00016133951%26lang=en!|!Data Scientist!|!true!%24!ftlerrors!|!!|!descRequisition.size!|!1!|!descRequisition.nbElements!|!1246!|!descRequisition.isEmpty!|!false!|!descRequisition.hasElements!|!true!|!focusOnField!|!!|!emptyListToken!|!!|!isListEmpty!|!false!|!listCount!|!!|!displayCalloutInLegend!|!true!|!commonDescriptionForAddThis!|!!|!alreadyAppliedColumnDisplayed!|!false!|!displayDraft!|!!|!displaymessage!|!false!|!initialHistoryPage!|!1!|!restoreInitialHistoryOnRefresh!|!false!|!applicationCandidateNo!|!!|!calloutPageDisplayed!|!true!|!descriptionLogginMandatory!|!false!|!displayAsMainHeader!|!false!|!displayListingsPerPage!|!false!|!displayUrgentNeed!|!!|!isApplicantUser!|!true!|!jobsPerPageCaption!|!Job {0} out of {1}!|!listEmptyIsApplicantUser!|!true!|!listLabels!|!!|!listLocales!|!!|!requisitionno!|!466174!|!interfaceIdForTimeZone!|!requisitionDescriptionInterface!|!isJobCartActionDisplayed!|!true!|!openDescFrom!|!default!|!serializedCriteria!|!!|!sortby!|!11!%24!requisitionDescriptionInterface!|!!|!!|!!|!!|!!|!Apply for this position online!|!Apply by Email!|!Apply to this position by email!|!Add this position to the job cart!|!!|!Job Description!|!Domain!|!Tell us about a friend who might be interested in this job. All privacy rights will be protected.!|!false!|!Tell us about a person who might be interested in working for our organization. All privacy rights will be protected.!|!true!|! !|!Apply for this position online!|!Apply to this position by email!|!Add this position to the job cart!|!!|!!|!!|!\"/><input id=\"isApplicantUser\" name=\"isApplicantUser\" type=\"hidden\" value=\"true\"/><input id=\"rdPager.pagerLabelTT\" name=\"rdPager.pagerLabelTT\" type=\"hidden\" value=\"Go to job {0}\"/><input id=\"listCount\" name=\"listCount\" type=\"hidden\" value=\"1246\"/><input id=\"rdPager.pagerLabelNext\" name=\"rdPager.pagerLabelNext\" type=\"hidden\" value=\"Next\"/><input id=\"alreadyAppliedColumnDisplayed\" name=\"alreadyAppliedColumnDisplayed\" type=\"hidden\" value=\"false\"/><input id=\"pBeaconBeat\" name=\"pBeaconBeat\" type=\"hidden\" value=\"300000\"/><input id=\"focusOnField\" name=\"focusOnField\" type=\"hidden\" value=\"\"/><input id=\"listLocales\" name=\"listLocales\" type=\"hidden\" value=\"\"/><input id=\"actOnReqReferFriendReqDesc.requisitionNo\" name=\"actOnReqReferFriendReqDesc.requisitionNo\" type=\"hidden\" value=\"\"/><input id=\"basicReqSearch.url\" name=\"basicReqSearch.url\" type=\"hidden\" value=\"\"/><input id=\"descRequisition.nbElements\" name=\"descRequisition.nbElements\" type=\"hidden\" value=\"1246\"/><input id=\"restoreInitialHistoryOnRefresh\" name=\"restoreInitialHistoryOnRefresh\" type=\"hidden\" value=\"false\"/><input id=\"descRequisition.size\" name=\"descRequisition.size\" type=\"hidden\" value=\"1\"/><input id=\"rdPager.pagerLabelAfterNextHidden\" name=\"rdPager.pagerLabelAfterNextHidden\" type=\"hidden\" value=\" \"/><input id=\"calloutPageDisplayed\" name=\"calloutPageDisplayed\" type=\"hidden\" value=\"true\"/><input id=\"sortby\" name=\"sortby\" type=\"hidden\" value=\"11\"/><input id=\"listLabels\" name=\"listLabels\" type=\"hidden\" value=\"\"/><input id=\"rdPager.pagerLabelBeforePreviousHidden\" name=\"rdPager.pagerLabelBeforePreviousHidden\" type=\"hidden\" value=\" \"/><input id=\"requisitionno\" name=\"requisitionno\" type=\"hidden\" value=\"466174\"/><input id=\"actOnReqReferAgentReqDesc.requisitionNo\" name=\"actOnReqReferAgentReqDesc.requisitionNo\" type=\"hidden\" value=\"\"/><input id=\"signedIn\" name=\"signedIn\" type=\"hidden\" value=\"false\"/><input id=\"emptyListToken\" name=\"emptyListToken\" type=\"hidden\" value=\"\"/><input id=\"pSessionTimeout\" name=\"pSessionTimeout\" type=\"hidden\" value=\"3600000\"/><input id=\"tabLevel1.selected\" name=\"tabLevel1.selected\" type=\"hidden\" value=\"tabJS\"/><input id=\"confirmBeaconTimedOut.a\" name=\"confirmBeaconTimedOut.a\" type=\"hidden\" value=\"\"/><input id=\"initialHistoryOld\" name=\"initialHistoryOld\" type=\"hidden\" value=\"\"/><input id=\"actOnReqReferAgentReqDesc.candidateNo\" name=\"actOnReqReferAgentReqDesc.candidateNo\" type=\"hidden\" value=\"\"/><input id=\"actApplyOnReq.mode\" name=\"actApplyOnReq.mode\" type=\"hidden\" value=\"\"/><input id=\"careerPortalFullVersionURLEnabled\" name=\"careerPortalFullVersionURLEnabled\" type=\"hidden\" value=\"false\"/><input id=\"tabLevel2a.selected\" name=\"tabLevel2a.selected\" type=\"hidden\" value=\"\"/><input id=\"actOpenRequisitionDescriptionPrintable.locale\" name=\"actOpenRequisitionDescriptionPrintable.locale\" type=\"hidden\" value=\"\"/><input id=\"actOpenRequisitionDescriptionPrintable.myReferralsCurrentPage\" name=\"actOpenRequisitionDescriptionPrintable.myReferralsCurrentPage\" type=\"hidden\" value=\"1\"/><input id=\"confirmBeaconReset.a\" name=\"confirmBeaconReset.a\" type=\"hidden\" value=\"\"/><input id=\"rdPager.pagerLabelPreviousTT\" name=\"rdPager.pagerLabelPreviousTT\" type=\"hidden\" value=\"Go to the previous job\"/><input id=\"isListEmpty\" name=\"isListEmpty\" type=\"hidden\" value=\"false\"/><input id=\"rdPager.listId\" name=\"rdPager.listId\" type=\"hidden\" value=\"descRequisition\"/><input id=\"actAddRequisitionToCart.requisitionNo\" name=\"actAddRequisitionToCart.requisitionNo\" type=\"hidden\" value=\"\"/><input id=\"rdPager.requisitionNo\" name=\"rdPager.requisitionNo\" type=\"hidden\" value=\"\"/><input id=\"actOpenRequisitionDescriptionPrintable.openMode\" name=\"actOpenRequisitionDescriptionPrintable.openMode\" type=\"hidden\" value=\"default\"/><input id=\"displayAsMainHeader\" name=\"displayAsMainHeader\" type=\"hidden\" value=\"false\"/><input id=\"serializedCriteria\" name=\"serializedCriteria\" type=\"hidden\" value=\"\"/><input id=\"actApplyOnReq.candidateNo\" name=\"actApplyOnReq.candidateNo\" type=\"hidden\" value=\"\"/><input id=\"displaymessage\" name=\"displaymessage\" type=\"hidden\" value=\"false\"/><input id=\"tabLevel2b.selected\" name=\"tabLevel2b.selected\" type=\"hidden\" value=\"\"/><input id=\"careerPortalFullVersionURL\" name=\"careerPortalFullVersionURL\" type=\"hidden\" value=\"\"/><input id=\"rdPager.currentPage\" name=\"rdPager.currentPage\" type=\"hidden\" value=\"1069\"/><input id=\"jobsPerPageCaption\" name=\"jobsPerPageCaption\" type=\"hidden\" value=\"Job {0} out of {1}\"/><input id=\"actOpenRequisitionDescriptionPrintable.requisitionNo\" name=\"actOpenRequisitionDescriptionPrintable.requisitionNo\" type=\"hidden\" value=\"\"/><input id=\"confirmBeaconTimedOut.aor\" name=\"confirmBeaconTimedOut.aor\" type=\"hidden\" value=\"false\"/><input id=\"cshtstate\" name=\"cshtstate\" type=\"hidden\" value=\"210180;466174|\"/><input id=\"rdPager.pagerLabelPrevious\" name=\"rdPager.pagerLabelPrevious\" type=\"hidden\" value=\"Previous\"/><input id=\"rdPager.pagerLabelBeforeNextHidden\" name=\"rdPager.pagerLabelBeforeNextHidden\" type=\"hidden\" value=\" \"/><input id=\"basicReqSearch.target\" name=\"basicReqSearch.target\" type=\"hidden\" value=\"\"/><input id=\"ftlISWLD\" name=\"ftlISWLD\" type=\"hidden\" value=\"false\"/><input id=\"actOnReqReferAgentReqDesc.mode\" name=\"actOnReqReferAgentReqDesc.mode\" type=\"hidden\" value=\"\"/><input id=\"displayDraft\" name=\"displayDraft\" type=\"hidden\" value=\"\"/><input id=\"isJobCartActionDisplayed\" name=\"isJobCartActionDisplayed\" type=\"hidden\" value=\"true\"/><input id=\"rdPager.pagerLabelNextTT\" name=\"rdPager.pagerLabelNextTT\" type=\"hidden\" value=\"Go to the next job\"/><input id=\"displayCalloutInLegend\" name=\"displayCalloutInLegend\" type=\"hidden\" value=\"true\"/><input id=\"actOnReqReferFriendReqDesc.mode\" name=\"actOnReqReferFriendReqDesc.mode\" type=\"hidden\" value=\"\"/><input id=\"initialHistoryPage\" name=\"initialHistoryPage\" type=\"hidden\" value=\"1069\"/><input id=\"confirmBeaconReset.aor\" name=\"confirmBeaconReset.aor\" type=\"hidden\" value=\"false\"/><input id=\"descriptionLogginMandatory\" name=\"descriptionLogginMandatory\" type=\"hidden\" value=\"false\"/><input id=\"rdPager.pageLabelBeforeHidden\" name=\"rdPager.pageLabelBeforeHidden\" type=\"hidden\" value=\" \"/><input id=\"applicationCandidateNo\" name=\"applicationCandidateNo\" type=\"hidden\" value=\"\"/><input id=\"actOnReqReferFriendReqDesc.candidateNo\" name=\"actOnReqReferFriendReqDesc.candidateNo\" type=\"hidden\" value=\"\"/><input id=\"actApplyOnReq.requisitionNo\" name=\"actApplyOnReq.requisitionNo\" type=\"hidden\" value=\"\"/><input id=\"navigate.url\" name=\"navigate.url\" type=\"hidden\" value=\"\"/><input id=\"openDescFrom\" name=\"openDescFrom\" type=\"hidden\" value=\"default\"/><input id=\"rdPager.pageLabelAfterHidden\" name=\"rdPager.pageLabelAfterHidden\" type=\"hidden\" value=\" \"/><input id=\"rdPager.pagerLabelCount\" name=\"rdPager.pagerLabelCount\" type=\"hidden\" value=\"Go to job {0}\"/><input id=\"displayListingsPerPage\" name=\"displayListingsPerPage\" type=\"hidden\" value=\"false\"/><input id=\"pSessionWarning\" name=\"pSessionWarning\" type=\"hidden\" value=\"2400000\"/><input id=\"descRequisition.isEmpty\" name=\"descRequisition.isEmpty\" type=\"hidden\" value=\"false\"/><input id=\"interfaceIdForTimeZone\" name=\"interfaceIdForTimeZone\" type=\"hidden\" value=\"requisitionDescriptionInterface\"/><input id=\"actOpenRequisitionDescriptionPrintable.viewMode\" name=\"actOpenRequisitionDescriptionPrintable.viewMode\" type=\"hidden\" value=\"defaultView\"/><input id=\"commonDescriptionForAddThis\" name=\"commonDescriptionForAddThis\" type=\"hidden\" value=\"\"/><div class=\"masterbody\"><div><div class=\"headersection\" id=\"topNavInterface\"><a class=\"hidden-audible\" href=\"#mainContent\" id=\"gotoContent\" onblur=\"this.className = 'hidden-audible';\" onfocus=\"this.className = '';\"><span>Go to the main content section.</span></a><div id=\"topNavInterface.Header\"><div class=\"box\"><div class=\"boxtop\"><div class=\"boxb1-top\"><p></p></div><div class=\"boxb2-top\"><p></p></div><div class=\"boxb3-top\"><p></p></div><div class=\"boxb4-top\"><p></p></div></div></div><div class=\"headerpanel\" id=\"topNavInterface.pnlHeader\"><div class=\"userpanel leftpanel\"><span class=\"username\" id=\"topNavInterface.userNameLabel\"></span><div id=\"topNavInterface.isMyAccountDisplayed\" style=\"display: inline\"><span class=\"separator\">|</span><span class=\"metalink nowrap\"><a href=\"#\" id=\"topNavInterface.myAccountAction\" onclick=\"javascript:setEvent(event);candidate_myAccountAction('topNavInterface','myaccount');return ftlUtil_followLink(this);\" title=\"Access the account setup page\">My Account Options</a></span></div></div><div class=\"rightpanel\"><div class=\"metapanel\"><div class=\"metagrouppanel\" id=\"topNavInterface.pnlMetaGroup\"><img class=\"metalinkimg\" id=\"topNavInterface.ID166\" src=\"/careersection/2014PRD.1.5.62.3.0/images/cart_black.gif\"/><span class=\"metalink\"><a href=\"#\" id=\"topNavInterface.jobCartAction\" onclick=\"javascript:setEvent(event);ftlPage_doNavigate('topNavInterface','navigate','myJobCartPage');return ftlUtil_followLink(this);\" title=\"Access the job cart page\"></a></span><span class=\"separator\">|</span><div class=\"metalink metalinkinline\" id=\"topNavInterface.loginPanel\" signinhiddentext=\"Sign In\" signintthiddentext=\"Log in to the system\" signouthiddentext=\"Sign Out\" signouttthiddentext=\"Log out of the system\"><div class=\"metalink metalinkinline\" id=\"topNavInterface.signInPanel\"><a href=\"#\" id=\"topNavInterface.loginAction\" onclick=\"javascript:setEvent(event);ftlPage_doLogin('topNavInterface','login');return ftlUtil_followLink(this);\" title=\"Log in to the system\">Sign In</a></div></div></div></div></div><div class=\"clearpanel\"><p></p></div><div id=\"topNavInterface.BeaconPanel\"><div class=\"messagecontentpanel ftlconfirm\" id=\"topNavInterface.confirmBeaconReset\"><a class=\"hidden-audible\" href=\"#\">Beginning of the simulated dialog</a><div class=\"messagewarningpanel\"><a id=\"topNavInterface.confirmBegin.confirmBeaconReset\" interfaceid=\"topNavInterface\" name=\"confirmBegin.confirmBeaconReset\" tabindex=\"-1\"><span class=\"messagetitle\" id=\"topNavInterface.titleBeaconReset\">This service is set to disconnect automatically after {0} minutes of inactivity. Your session will end in {1} minutes.</span><div class=\"separatorpanel\"></div><span class=\"messagetext\" id=\"topNavInterface.messageBeaconReset\">Click OK to reset the timer to {0} minutes.</span></a><input class=\"inputbutton\" id=\"topNavInterface.answerConfirmBeaconReset\" onclick=\"javascript:setEvent(event);ftlconfirm_answer('topNavInterface','','answerConfirmBeaconReset',false);ftlUtil_resetSessionBeacon('topNavInterface','confirmBeaconResetOk');ftlconfirm_hide('topNavInterface','confirmBeaconReset');return ftlUtil_followLink(this);\" title=\"Reset the timer\" type=\"button\" value=\"OK\"/></div><a class=\"hidden-audible\" href=\"#\">End of the simulated dialog</a></div><div class=\"messagecontentpanel ftlconfirm\" id=\"topNavInterface.confirmBeaconTimedOut\"><a class=\"hidden-audible\" href=\"#\">Beginning of the simulated dialog</a><div class=\"messagewarningpanel\"><a id=\"topNavInterface.confirmBegin.confirmBeaconTimedOut\" interfaceid=\"topNavInterface\" name=\"confirmBegin.confirmBeaconTimedOut\" tabindex=\"-1\"><span class=\"messagetitle\" id=\"topNavInterface.titleBeaconTimedOut\">You have been signed out.</span><div class=\"separatorpanel\"></div><span class=\"messagetext\" id=\"topNavInterface.messageBeaconTimedOut\">This service is set to sign out after {0} minutes of inactivity.</span></a><input class=\"inputbutton\" id=\"topNavInterface.answerConfirmBeaconTimedOut\" onclick=\"javascript:setEvent(event);ftlconfirm_answer('topNavInterface','','answerConfirmBeaconTimedOut',false);ftlconfirm_hide('topNavInterface','confirmBeaconTimedOut');return ftlUtil_followLink(this);\" title=\"Reset the timer\" type=\"button\" value=\"OK\"/></div><a class=\"hidden-audible\" href=\"#\">End of the simulated dialog</a></div></div><ul class=\"linkpanel\" id=\"topNavInterface.tabLevel1\"><li class=\"link\" id=\"topNavInterface.tabJS\" interfaceid=\"topNavInterface\"><div class=\"magnifierimg\"><p></p></div><div class=\"grouplink\"><a href=\"#\" id=\"topNavInterface.jobSearchTabAction\" onclick=\"javascript:setEvent(event);ftlPage_doNavigate('topNavInterface','navigate','reqListAdvancedPage');return ftlUtil_followLink(this);\">Job Search</a></div></li><li class=\"link\" id=\"topNavInterface.tabMY\" interfaceid=\"topNavInterface\"><a href=\"#\" id=\"topNavInterface.myJobPageTabActionS\" onclick=\"javascript:setEvent(event);ftlPage_doNavigate('topNavInterface','navigate','mySubmissionsPage');return ftlUtil_followLink(this);\">My Jobpage</a></li></ul></div><ul class=\"link2panel\" id=\"topNavInterface.tabLevel2a\"><li class=\"link2\" id=\"topNavInterface.tabAdvancedReqSearch\" interfaceid=\"topNavInterface\"><a href=\"#\" id=\"topNavInterface.advancedSearchTabAction\" onclick=\"javascript:setEvent(event);ftlPage_doNavigate('topNavInterface','navigate','reqListAdvancedPage');return ftlUtil_followLink(this);\">Search</a></li><li class=\"separatorlink2\">|</li><li class=\"link2\" id=\"topNavInterface.tabJMP\" interfaceid=\"topNavInterface\"><a href=\"#\" id=\"topNavInterface.jobsMatchingMyProfileTabAction\" onclick=\"javascript:setEvent(event);ftlPage_doNavigate('topNavInterface','navigate','reqListPersonalizedPage');return ftlUtil_followLink(this);\">Jobs Matching My Profile</a></li><li class=\"separatorlink2\">|</li><li class=\"link2\" id=\"topNavInterface.tabAll\" interfaceid=\"topNavInterface\"><a href=\"#\" id=\"topNavInterface.allJobsTabAction\" onclick=\"javascript:setEvent(event);ftlPage_doNavigate('topNavInterface','navigate','reqListAllJobsPage');return ftlUtil_followLink(this);\">All Jobs</a></li></ul><ul class=\"link2panel\" id=\"topNavInterface.tabLevel2b\"><li class=\"link2\" id=\"topNavInterface.tabMySubmissions\" interfaceid=\"topNavInterface\"><a href=\"#\" id=\"topNavInterface.mySubmissionsTabAction\" onclick=\"javascript:setEvent(event);ftlPage_doNavigate('topNavInterface','navigate','mySubmissionsPage');return ftlUtil_followLink(this);\">My Submissions</a></li><li class=\"separatorlink2\">|</li><li class=\"link2\" id=\"topNavInterface.tabMyJobCart\" interfaceid=\"topNavInterface\"><a href=\"#\" id=\"topNavInterface.myJobCartTabAction\" onclick=\"javascript:setEvent(event);ftlPage_doNavigate('topNavInterface','navigate','myJobCartPage');return ftlUtil_followLink(this);\">My Job Cart</a></li><li class=\"separatorlink2\">|</li><li class=\"link2\" id=\"topNavInterface.tabMySavedSearches\" interfaceid=\"topNavInterface\"><a href=\"#\" id=\"topNavInterface.mySavedSearchTabAction\" onclick=\"javascript:setEvent(event);ftlPage_doNavigate('topNavInterface','navigate','mySavedSearchesPage');return ftlUtil_followLink(this);\">My Saved Searches</a></li><li class=\"separatorlink2\">|</li></ul></div></div><div class=\"mainsection\"><div class=\"requisitionDescription\"><div id=\"requisitionDescriptionInterface\"><a class=\"hidden-audible\" href=\"#\" name=\"mainContent\"><span>Beginning of the main content section.</span></a><div class=\"metagrouppanel\"><div class=\"metapanel2\"><span class=\"metalink2\"><a href=\"#\" id=\"requisitionDescriptionInterface.backAction\" onclick=\"javascript:setEvent(event);requisition_navigateToHomePage('requisitionDescriptionInterface','navigateToHomePage');return ftlUtil_followLink(this);\" title=\"Return to the Career section home page\">Return to the home page</a></span></div><div class=\"metapanel\"><span class=\"metalink2\"><a href=\"#\" id=\"requisitionDescriptionInterface.printFormatAction\" onclick=\"javascript:setEvent(event);requisition_openRequisitionDescriptionView('requisitionDescriptionInterface','actOpenRequisitionDescriptionPrintable',_ftl_api.intVal('requisitionDescriptionInterface', 'requisitionDescriptionInterface.ID934', this),'printableView');return ftlUtil_followLink(this);\" title=\"View a printable version of the job description\">Printable Format</a></span></div></div><div class=\"messageerrorpanel ftldn\" id=\"_ftlmessages_hide\"></div><div><span class=\"\"> </span></div><div class=\"ftllist\" id=\"requisitionDescriptionInterface.descRequisitionContainer\"><table cellpadding=\"0\" cellspacing=\"0\" class=\"tablelist\" id=\"requisitionDescriptionInterface.descRequisition\"><tbody><tr class=\"ftlrow\" id=\"requisitionDescriptionInterface.ID4576.row\"><td class=\"columnfull\"><div class=\"columnfull\"><div id=\"requisitionDescriptionInterface.buttongrouppanelTop\"><div id=\"requisitionDescriptionInterface.ID1320\"><input class=\"inputbutton\" id=\"requisitionDescriptionInterface.UP_APPLY_ON_REQ\" onclick=\"javascript:setEvent(event);requisition_applyOnRequisition('requisitionDescriptionInterface','actApplyOnReq',_ftl_api.lstVal('requisitionDescriptionInterface', 'requisitionDescriptionInterface.descRequisition', 'requisitionDescriptionInterface.ID1332', this),'application');return ftlUtil_followLink(this);\" type=\"button\" value=\"Apply Online\"/></div><div id=\"requisitionDescriptionInterface.ID1355\"><input class=\"inputbutton\" id=\"requisitionDescriptionInterface.UP_REFER_ON_REQ\" onclick=\"javascript:setEvent(event);requisition_applyOnRequisition('requisitionDescriptionInterface','actApplyOnReq',_ftl_api.lstVal('requisitionDescriptionInterface', 'requisitionDescriptionInterface.descRequisition', 'requisitionDescriptionInterface.ID1373', this),'ertapplication');return ftlUtil_followLink(this);\" title=\"Refer a candidate for this position\" type=\"button\" value=\"Refer a Candidate\"/></div><div id=\"requisitionDescriptionInterface.ID1390\"><input class=\"inputbutton\" id=\"requisitionDescriptionInterface.UP_EMAIL_ON_REQ\" onclick=\"javascript:setEvent(event);requisition_applyOnRequisitionByEmail('requisitionDescriptionInterface','actApplyOnReqByEmail','',_ftl_api.lstVal('requisitionDescriptionInterface', 'requisitionDescriptionInterface.descRequisition', 'requisitionDescriptionInterface.ID1406', this));return ftlUtil_followLink(this);\" type=\"button\" value=\"\"/></div><div id=\"requisitionDescriptionInterface.ID1426\"><input class=\"inputbutton\" id=\"requisitionDescriptionInterface.UP_ADD_TO_JOB_CART\" onclick=\"javascript:setEvent(event);requisition_addRequisitionToCart('requisitionDescriptionInterface','actAddRequisitionToCart',_ftl_api.lstVal('requisitionDescriptionInterface', 'requisitionDescriptionInterface.descRequisition', 'requisitionDescriptionInterface.ID1446', this),_ftl_api.lstVal('requisitionDescriptionInterface', 'requisitionDescriptionInterface.descRequisition', 'requisitionDescriptionInterface.ID1450', this));requisition_prepareNoteHiding('requisitionDescriptionInterface','hideNote');return ftlUtil_followLink(this);\" type=\"button\" value=\"Add to My Job Cart\"/></div><div id=\"requisitionDescriptionInterface.ID1470\"><span id=\"span_requisitionDescriptionInterface.UP_ADDTHIS\"><a id=\"_cs_addthis_requisitionDescriptionInterface.UP_ADDTHIS\" style=\"display:inline; position:relative; top:3px\"></a><input id=\"url\" type=\"hidden\" value=\"javascript:requisitionDescriptionInterface|requisitionDescriptionInterface.descRequisition|requisitionDescriptionInterface.ID1474\"/><input id=\"title\" type=\"hidden\" value=\"javascript:requisitionDescriptionInterface|requisitionDescriptionInterface.descRequisition|requisitionDescriptionInterface.ID1480\"/><input id=\"description\" type=\"hidden\" value=\"Click the link provided to see the complete job description.\"/></span></div></div><span class=\"\"> </span><div><span class=\"hidden-audible\" id=\"requisitionDescriptionInterface.requisitionDescriptionTitleLabel\"></span></div><h1 class=\"no-change-header\" xmlns:ftl=\"http://www.taleo.net/ftl\" xmlns:htm=\"http://www.w3.org/1999/xhtml\" xmlns:xsi=\"http://www.w3.org/2001/XMLSchema-instance\"><div><span class=\"subtitle\" id=\"requisitionDescriptionInterface.requisitionDescriptionTitle\"></span><span class=\"inline\"> </span></div></h1><div class=\"mastercontentpanel3\"><table cellpadding=\"0\" cellspacing=\"0\" class=\"tablelist\"><tr class=\"ftlrow\" id=\"requisitionDescriptionInterface.ID4862.row\"><td class=\"columnfull\"><div class=\"editablesection\"><div class=\"contentlinepanel\" id=\"requisitionDescriptionInterface.ID1560\"><span class=\"titlepage\" id=\"requisitionDescriptionInterface.reqTitleLinkAction\"></span><span class=\"separator\" id=\"requisitionDescriptionInterface.ID1571\">(</span><h1 class=\"no-change-header-inline\" xmlns:ftl=\"http://www.taleo.net/ftl\" xmlns:htm=\"http://www.w3.org/1999/xhtml\" xmlns:xsi=\"http://www.w3.org/2001/XMLSchema-instance\"><span class=\"titlepage\" id=\"requisitionDescriptionInterface.ID1590\">Job Number:</span></h1><span class=\"inline\"> </span><span class=\"titlepage\" id=\"requisitionDescriptionInterface.reqContestNumberValue\"></span><span class=\"separator\" id=\"requisitionDescriptionInterface.ID1619\">)</span></div><div class=\"staticcontentlinepanel\"><p></p></div><div class=\"contentlinepanel\" id=\"requisitionDescriptionInterface.ID1630\"><span class=\"blockpanel\"><span class=\"\"> </span></span><h2 class=\"no-change-header-inline\" xmlns:ftl=\"http://www.taleo.net/ftl\" xmlns:htm=\"http://www.w3.org/1999/xhtml\" xmlns:xsi=\"http://www.w3.org/2001/XMLSchema-instance\"><div class=\"inlinepanel\" id=\"requisitionDescriptionInterface.ID1652\"><span class=\"subtitle\">Description</span></div></h2><span class=\"blockpanel\"><span class=\"\"> </span></span><span class=\"text\" id=\"requisitionDescriptionInterface.ID1679\"></span><span class=\"blockpanel\"><span class=\"\"> </span></span></div><div class=\"staticcontentlinepanel\"><h2 class=\"no-change-header-inline\" xmlns:ftl=\"http://www.taleo.net/ftl\" xmlns:htm=\"http://www.w3.org/1999/xhtml\" xmlns:xsi=\"http://www.w3.org/2001/XMLSchema-instance\"><span class=\"subtitle\" id=\"requisitionDescriptionInterface.ID1710\">Cognizant is an Equal Opportunity Employer Minority/Female/Disability/Veteran.  If you require accessibility assistance applying for open positions in the US please send an email with your request to CareersNorthAmerica@cognizant.com</span></h2></div><div class=\"contentlinepanel\" id=\"requisitionDescriptionInterface.ID1728\"><span class=\"blockpanel\"><span class=\"\"> </span></span><h2 class=\"no-change-header-inline\" xmlns:ftl=\"http://www.taleo.net/ftl\" xmlns:htm=\"http://www.w3.org/1999/xhtml\" xmlns:xsi=\"http://www.w3.org/2001/XMLSchema-instance\"><div class=\"inlinepanel\" id=\"requisitionDescriptionInterface.ID1750\"><span class=\"subtitle\">Qualifications</span></div></h2><span class=\"blockpanel\"><span class=\"\"> </span></span><span class=\"text\" id=\"requisitionDescriptionInterface.ID1777\"></span><span class=\"blockpanel\"><span class=\"\"> </span></span></div><div class=\"staticcontentlinepanel\"><p></p></div><div class=\"contentlinepanel\" id=\"requisitionDescriptionInterface.ID1796\"><h2 class=\"no-change-header-inline\" xmlns:ftl=\"http://www.taleo.net/ftl\" xmlns:htm=\"http://www.w3.org/1999/xhtml\" xmlns:xsi=\"http://www.w3.org/2001/XMLSchema-instance\"><span class=\"subtitle\" id=\"requisitionDescriptionInterface.ID1812\">Job</span></h2><span class=\"inline\"> </span><span class=\"text\" id=\"requisitionDescriptionInterface.ID1833\"></span></div><div class=\"staticcontentlinepanel\"><p></p></div><div class=\"contentlinepanel\" id=\"requisitionDescriptionInterface.ID1844\"><h2 class=\"no-change-header-inline\" xmlns:ftl=\"http://www.taleo.net/ftl\" xmlns:htm=\"http://www.w3.org/1999/xhtml\" xmlns:xsi=\"http://www.w3.org/2001/XMLSchema-instance\"><span class=\"subtitle\" id=\"requisitionDescriptionInterface.ID1860\">Primary Location</span></h2><span class=\"inline\"> </span><span class=\"text\" id=\"requisitionDescriptionInterface.ID1881\"></span></div><div class=\"staticcontentlinepanel\"><p></p></div><div class=\"contentlinepanel\" id=\"requisitionDescriptionInterface.ID1892\"><h2 class=\"no-change-header-inline\" xmlns:ftl=\"http://www.taleo.net/ftl\" xmlns:htm=\"http://www.w3.org/1999/xhtml\" xmlns:xsi=\"http://www.w3.org/2001/XMLSchema-instance\"><span class=\"subtitle\" id=\"requisitionDescriptionInterface.ID1908\">Other Locations</span></h2><span class=\"inline\"> </span><span class=\"text\" id=\"requisitionDescriptionInterface.ID1929\"></span></div><div class=\"staticcontentlinepanel\"><p></p></div><div class=\"staticcontentlinepanel\"><span class=\"blockpanel\"><span class=\"\"> </span></span></div><div class=\"contentlinepanel\" id=\"requisitionDescriptionInterface.ID1950\"><h2 class=\"no-change-header-inline\" xmlns:ftl=\"http://www.taleo.net/ftl\" xmlns:htm=\"http://www.w3.org/1999/xhtml\" xmlns:xsi=\"http://www.w3.org/2001/XMLSchema-instance\"><span class=\"subtitle\" id=\"requisitionDescriptionInterface.ID1966\">Employee Status</span></h2><span class=\"inline\"> </span><span class=\"text\" id=\"requisitionDescriptionInterface.ID1987\"></span></div><div class=\"staticcontentlinepanel\"><p></p></div><div class=\"contentlinepanel\" id=\"requisitionDescriptionInterface.ID1998\"><h2 class=\"no-change-header-inline\" xmlns:ftl=\"http://www.taleo.net/ftl\" xmlns:htm=\"http://www.w3.org/1999/xhtml\" xmlns:xsi=\"http://www.w3.org/2001/XMLSchema-instance\"><span class=\"subtitle\" id=\"requisitionDescriptionInterface.ID2014\">Schedule</span></h2><span class=\"inline\"> </span><span class=\"jobtype\" id=\"requisitionDescriptionInterface.ID2035\"></span></div><div class=\"staticcontentlinepanel\"><p></p></div><div class=\"contentlinepanel\" id=\"requisitionDescriptionInterface.ID2046\"><h2 class=\"no-change-header-inline\" xmlns:ftl=\"http://www.taleo.net/ftl\" xmlns:htm=\"http://www.w3.org/1999/xhtml\" xmlns:xsi=\"http://www.w3.org/2001/XMLSchema-instance\"><span class=\"subtitle\" id=\"requisitionDescriptionInterface.ID2062\">Job Type</span></h2><span class=\"inline\"> </span><span class=\"text\" id=\"requisitionDescriptionInterface.ID2083\"></span></div><div class=\"staticcontentlinepanel\"><p></p></div><div class=\"contentlinepanel\" id=\"requisitionDescriptionInterface.ID2094\"><h2 class=\"no-change-header-inline\" xmlns:ftl=\"http://www.taleo.net/ftl\" xmlns:htm=\"http://www.w3.org/1999/xhtml\" xmlns:xsi=\"http://www.w3.org/2001/XMLSchema-instance\"><span class=\"subtitle\" id=\"requisitionDescriptionInterface.ID2110\">Job Level</span></h2><span class=\"inline\"> </span><span class=\"text\" id=\"requisitionDescriptionInterface.ID2131\"></span></div><div class=\"staticcontentlinepanel\"><p></p></div><div class=\"contentlinepanel\" id=\"requisitionDescriptionInterface.ID2142\"><h2 class=\"no-change-header-inline\" xmlns:ftl=\"http://www.taleo.net/ftl\" xmlns:htm=\"http://www.w3.org/1999/xhtml\" xmlns:xsi=\"http://www.w3.org/2001/XMLSchema-instance\"><span class=\"subtitle\" id=\"requisitionDescriptionInterface.ID2158\">Shift</span></h2><span class=\"inline\"> </span><span class=\"text\" id=\"requisitionDescriptionInterface.ID2179\"></span></div><div class=\"staticcontentlinepanel\"><p></p></div><div class=\"contentlinepanel\" id=\"requisitionDescriptionInterface.ID2190\"><h2 class=\"no-change-header-inline\" xmlns:ftl=\"http://www.taleo.net/ftl\" xmlns:htm=\"http://www.w3.org/1999/xhtml\" xmlns:xsi=\"http://www.w3.org/2001/XMLSchema-instance\"><span class=\"subtitle\" id=\"requisitionDescriptionInterface.ID2206\">Travel</span></h2><span class=\"inline\"> </span><span class=\"text\" id=\"requisitionDescriptionInterface.ID2227\"></span></div><div class=\"staticcontentlinepanel\"><span class=\"blockpanel\"><span class=\"\"> </span></span></div><div class=\"contentlinepanel\" id=\"requisitionDescriptionInterface.ID2244\"><h2 class=\"no-change-header-inline\" xmlns:ftl=\"http://www.taleo.net/ftl\" xmlns:htm=\"http://www.w3.org/1999/xhtml\" xmlns:xsi=\"http://www.w3.org/2001/XMLSchema-instance\"><span class=\"subtitle\" id=\"requisitionDescriptionInterface.ID2260\">Job Posting</span></h2><span class=\"inline\"> </span><span class=\"text\" id=\"requisitionDescriptionInterface.reqPostingDate\"></span></div><div class=\"staticcontentlinepanel\"><p></p></div><div class=\"contentlinepanel\" id=\"requisitionDescriptionInterface.ID2294\"><span class=\"subtitle\" id=\"requisitionDescriptionInterface.ID2300\"></span><span class=\"inline\"> </span><span class=\"text\" id=\"requisitionDescriptionInterface.ID2321\"></span></div><div class=\"staticcontentlinepanel\"><p></p></div><div class=\"contentlinepanel\" id=\"requisitionDescriptionInterface.ID2334\"><h2 class=\"no-change-header-inline\" xmlns:ftl=\"http://www.taleo.net/ftl\" xmlns:htm=\"http://www.w3.org/1999/xhtml\" xmlns:xsi=\"http://www.w3.org/2001/XMLSchema-instance\"><span class=\"subtitle\" id=\"requisitionDescriptionInterface.ID2350\">Organization</span></h2><span class=\"inline\"> </span><span class=\"text\" id=\"requisitionDescriptionInterface.ID2371\"></span></div><div class=\"staticcontentlinepanel\"><p></p></div></div></td><td class=\" column165\"><div><div class=\"helppanel\"><div class=\"blockhelppanel\"><div id=\"requisitionDescriptionInterface.ID2390\"><h3 class=\"no-change-header\" xmlns:ftl=\"http://www.taleo.net/ftl\" xmlns:htm=\"http://www.w3.org/1999/xhtml\" xmlns:xsi=\"http://www.w3.org/2001/XMLSchema-instance\"><span class=\"helpsubtitle\">Refer a friend for this job</span></h3><span class=\"helplabel\" id=\"requisitionDescriptionInterface.ID2419\"></span><span class=\"helplink\"><a href=\"#\" id=\"requisitionDescriptionInterface.referFriendAction\" onclick=\"javascript:setEvent(event);requisition_applyOnRequisition('requisitionDescriptionInterface','actOnReqReferFriendReqDesc',_ftl_api.lstVal('requisitionDescriptionInterface', 'requisitionDescriptionInterface.descRequisition', 'requisitionDescriptionInterface.ID2448', this),'ertapplication');return ftlUtil_followLink(this);\" title=\"Open the form used to refer a friend\">Refer a friend</a></span></div><div id=\"requisitionDescriptionInterface.ID2459\"><h3 class=\"no-change-header\" xmlns:ftl=\"http://www.taleo.net/ftl\" xmlns:htm=\"http://www.w3.org/1999/xhtml\" xmlns:xsi=\"http://www.w3.org/2001/XMLSchema-instance\"><span class=\"helpsubtitle\">Refer a candidate</span></h3><span class=\"helplabel\" id=\"requisitionDescriptionInterface.ID2488\"></span><span class=\"helplink\"><a href=\"#\" id=\"requisitionDescriptionInterface.agentReferAction\" onclick=\"javascript:setEvent(event);requisition_applyOnRequisition('requisitionDescriptionInterface','actOnReqReferAgentReqDesc','','ertprofile');return ftlUtil_followLink(this);\" title=\"Open the form used to refer a candidate\">Submit a candidate's profile</a></span></div><div id=\"requisitionDescriptionInterface.ID2528\"><h3 class=\"no-change-header\" xmlns:ftl=\"http://www.taleo.net/ftl\" xmlns:htm=\"http://www.w3.org/1999/xhtml\" xmlns:xsi=\"http://www.w3.org/2001/XMLSchema-instance\"><span class=\"helpsubtitle\"> </span></h3><span class=\"helplabel\" id=\"requisitionDescriptionInterface.ID2557\"></span></div></div></div></div></td></tr></table></div><span class=\"\"> </span><div id=\"requisitionDescriptionInterface.buttongrouppanelBottom\"><div id=\"requisitionDescriptionInterface.ID2576\"><input class=\"inputbutton\" id=\"requisitionDescriptionInterface.BOTTOM_APPLY_ON_REQ\" onclick=\"javascript:setEvent(event);requisition_applyOnRequisition('requisitionDescriptionInterface','actApplyOnReq',_ftl_api.lstVal('requisitionDescriptionInterface', 'requisitionDescriptionInterface.descRequisition', 'requisitionDescriptionInterface.ID2588', this),'application');return ftlUtil_followLink(this);\" type=\"button\" value=\"Apply Online\"/></div><div id=\"requisitionDescriptionInterface.ID2611\"><input class=\"inputbutton\" id=\"requisitionDescriptionInterface.BOTTOM_REFER_ON_REQ\" onclick=\"javascript:setEvent(event);requisition_applyOnRequisition('requisitionDescriptionInterface','actApplyOnReq',_ftl_api.lstVal('requisitionDescriptionInterface', 'requisitionDescriptionInterface.descRequisition', 'requisitionDescriptionInterface.ID2629', this),'ertapplication');return ftlUtil_followLink(this);\" title=\"Refer a candidate for this position\" type=\"button\" value=\"Refer a Candidate\"/></div><div id=\"requisitionDescriptionInterface.ID2646\"><input class=\"inputbutton\" id=\"requisitionDescriptionInterface.BOTTOM_EMAIL_ON_REQ\" onclick=\"javascript:setEvent(event);requisition_applyOnRequisitionByEmail('requisitionDescriptionInterface','actApplyOnReqByEmail','',_ftl_api.lstVal('requisitionDescriptionInterface', 'requisitionDescriptionInterface.descRequisition', 'requisitionDescriptionInterface.ID2662', this));return ftlUtil_followLink(this);\" type=\"button\" value=\"Apply by Email\"/></div><div id=\"requisitionDescriptionInterface.ID2682\"><input class=\"inputbutton\" id=\"requisitionDescriptionInterface.BOTTOM_ADD_TO_JOB_CART\" onclick=\"javascript:setEvent(event);requisition_addRequisitionToCart('requisitionDescriptionInterface','actAddRequisitionToCart',_ftl_api.lstVal('requisitionDescriptionInterface', 'requisitionDescriptionInterface.descRequisition', 'requisitionDescriptionInterface.ID2694', this),_ftl_api.lstVal('requisitionDescriptionInterface', 'requisitionDescriptionInterface.descRequisition', 'requisitionDescriptionInterface.ID2698', this));return ftlUtil_followLink(this);\" type=\"button\" value=\"Add to My Job Cart\"/></div><div id=\"requisitionDescriptionInterface.ID2718\"><span id=\"span_requisitionDescriptionInterface.BOTTOM_ADDTHIS\"><a id=\"_cs_addthis_requisitionDescriptionInterface.BOTTOM_ADDTHIS\" style=\"display:inline; position:relative; top:3px\"></a><input id=\"url\" type=\"hidden\" value=\"javascript:requisitionDescriptionInterface|requisitionDescriptionInterface.descRequisition|requisitionDescriptionInterface.ID2722\"/><input id=\"title\" type=\"hidden\" value=\"javascript:requisitionDescriptionInterface|requisitionDescriptionInterface.descRequisition|requisitionDescriptionInterface.ID2728\"/><input id=\"description\" type=\"hidden\" value=\"Click the link provided to see the complete job description.\"/></span></div></div></div></td></tr><tr class=\"ftlblankrow\" id=\"requisitionDescriptionInterface.ID6199.emp\"><td colspan=\"1\"> </td></tr></tbody></table></div></div></div></div><div id=\"bottomBarInterface\"><div class=\"footeraction\"><div class=\"footeractionpanel\"><div class=\"footergroupactionpanel\"><div class=\"rightpanel\"></div><div class=\"clearpanel\"><p></p></div></div></div></div></div></div></div></form><script type=\"text/javascript\">\n",
       "var _ftl = {\n",
       " _acts:[['reqListAllJobsPage','joblist'],['requisitionDescriptionPage','jobdetail'],['requisitionDescriptionViewPage','jobview'],['requisitionDescriptionPrintablePage','jobprint'],['unavailableRequisitionPrintablePage','jobprintunavailable'],['reqListBasicPage','jobsearch'],['reqListAdvancedPage','moresearch'],['unavaibleRequisitionPage','unavailablerequisition'],['myJobCartPage','mycart'],['reqListPersonalizedPage','myjobs'],['mySavedSearchesPage','mysearches'],['applicationStatusDetailPage','applicationstatusdetail'],['applicationStatusDetailPrintableFormatPage','applicationstatusdetailprint'],['myReferralsPage','myreferrals'],['mySubmissionsPage','mysubmissions'],['withdrawApplicationConfirmationPage','withdrawapplicationconfirm'],['confirmCandidatePage','confirmcandidate'],['correspondenceListPage','emaillist'],['correspondenceDetailPage','emaildetail'],['correspondencePrintableFormatPage','emailprint'],['requestErrorPage','error'],['notAvailablePage','notavailable'],['noJavaScriptPage','nojavascript'],['unsupportedPage','unsupported'],['selectorPage','selector'],['ftlpspage','ftlps']],\n",
       " _ints:['topNavInterface','requisitionDescriptionInterface','bottomBarInterface'],\n",
       " topNavInterface: {\n",
       "  _ctls: [],\n",
       "  _hles: ['userNameLabel','ID171','ID177','jobCartAction','technicalHelpInfoTop','ID550','ID581','ID620','ID656','ID692','ID729','ID765','ID801'],\n",
       "  _pars: [],\n",
       "  _prps: [['ID171','ID166','title',\"\"],['ID177','ID166','alt',\"\"],['ID550','jobSearchTabAction','title',\"\"],['ID581','myJobPageTabActionS','title',\"\"],['ID620','advancedSearchTabAction','title',\"\"],['ID656','jobsMatchingMyProfileTabAction','title',\"\"],['ID692','allJobsTabAction','title',\"\"],['ID729','mySubmissionsTabAction','title',\"\"],['ID765','myJobCartTabAction','title',\"\"],['ID801','mySavedSearchTabAction','title',\"\"]],\n",
       "  _mpts: [],\n",
       "  _hpts: [],\n",
       "  _lsts: []\n",
       " },\n",
       " requisitionDescriptionInterface: {\n",
       "  _ctls: [],\n",
       "  _hles: ['ID934','pagerDivID868.Previous','ID1039','pagerDivID868.Next','ID1270','ID1348','UP_EMAIL_ON_REQ','ID1419','ID1463','requisitionDescriptionTitleLabel','requisitionDescriptionTitle','ID2300','ID2419','ID2460','ID2488','ID2529','ID2557','ID2596','ID2675','ID2711','pagerDivID2340.Previous','ID2802','pagerDivID2340.Next','ID3033'],\n",
       "  _pars: ['ID934'],\n",
       "  _prps: [['ID1039','pagerDivID868.Previous','title',\"\"],['ID1270','pagerDivID868.Next','title',\"\"],['ID1348','ID1320','childNodes[0].title',\"\"],['ID1419','ID1390','childNodes[0].title',\"\"],['ID1463','ID1426','childNodes[0].title',\"\"],['ID2460','ID2459','style.display',\"true,'block','none'\"],['ID2529','ID2528','style.display',\"true,'block','none'\"],['ID2596','ID2576','childNodes[0].title',\"\"],['ID2675','ID2646','childNodes[0].title',\"\"],['ID2711','ID2682','childNodes[0].title',\"\"],['ID2802','pagerDivID2340.Previous','title',\"\"],['ID3033','pagerDivID2340.Next','title',\"\"],['ID1340','ID1320','style.display',\"true,'inline','none'\"],['ID1381','ID1355','style.display',\"true,'inline','none'\"],['ID1411','ID1390','style.display',\"true,'inline','none'\"],['ID1455','ID1426','style.display',\"true,'inline','none'\"],['ID1493','ID1470','style.display',\"true,'inline','none'\"],['ID1597','ID1590','style.display',\",'none','inline'\"],['ID1663','ID1652','style.display',\",'none','inline'\"],['ID1717','ID1710','style.display',\",'none','inline'\"],['ID1761','ID1750','style.display',\",'none','inline'\"],['ID1819','ID1812','style.display',\",'none','inline'\"],['ID1867','ID1860','style.display',\",'none','inline'\"],['ID1915','ID1908','style.display',\",'none','inline'\"],['ID1973','ID1966','style.display',\",'none','inline'\"],['ID2021','ID2014','style.display',\",'none','inline'\"],['ID2069','ID2062','style.display',\",'none','inline'\"],['ID2117','ID2110','style.display',\",'none','inline'\"],['ID2165','ID2158','style.display',\",'none','inline'\"],['ID2213','ID2206','style.display',\",'none','inline'\"],['ID2267','ID2260','style.display',\",'none','inline'\"],['ID2307','ID2300','style.display',\",'none','inline'\"],['ID2357','ID2350','style.display',\",'none','inline'\"],['ID2391','ID2390','style.display',\"true,'block','none'\"],['ID2602','ID2576','style.display',\"true,'inline','none'\"],['ID2637','ID2611','style.display',\"true,'inline','none'\"],['ID2667','ID2646','style.display',\"true,'inline','none'\"],['ID2703','ID2682','style.display',\"true,'inline','none'\"],['ID2741','ID2718','style.display',\"true,'inline','none'\"]],\n",
       "  _mpts: [],\n",
       "  _hpts: [],\n",
       "  _lsts: ['descRequisition'],\n",
       "  descRequisition: {\n",
       "   _size: 1,\n",
       "   _hles: ['ID1332','ID1340','ID1373','ID1381','ID1406','ID1411','ID1446','ID1450','ID1455','ID1474','ID1480','ID1493','reqTitleLinkAction','ID1597','reqContestNumberValue','ID1663','ID1679','ID1717','ID1761','ID1777','ID1819','ID1833','ID1867','ID1881','ID1915','ID1929','ID1973','ID1987','ID2021','ID2035','ID2069','ID2083','ID2117','ID2131','ID2165','ID2179','ID2213','ID2227','ID2267','reqPostingDate','ID2307','ID2321','ID2357','ID2371','ID2391','ID2448','ID2588','ID2602','ID2629','ID2637','ID2662','ID2667','ID2694','ID2698','ID2703','ID2722','ID2728','ID2741'],\n",
       "   _hlid: ['reqlistitem.no','reqlistitem.applyonlinejobdesc','reqlistitem.no','reqlistitem.referjobdesc','reqlistitem.applyemailsubjectapplication','reqlistitem.applyemailjobdesc','reqlistitem.no','reqlistitem.addedtojobcart','reqlistitem.displayjobcartactionjobdesc','reqlistitem.shareURL','reqlistitem.title','reqlistitem.shareable','reqlistitem.title','reqlistitem.contestnumber','reqlistitem.contestnumber','reqlistitem.description','reqlistitem.description','reqlistitem.relevance','reqlistitem.qualification','reqlistitem.qualification','reqlistitem.jobfield','reqlistitem.jobfield','reqlistitem.primarylocation','reqlistitem.primarylocation','reqlistitem.otherlocations','reqlistitem.otherlocations','reqlistitem.employeestatus','reqlistitem.employeestatus','reqlistitem.jobschedule','reqlistitem.jobschedule','reqlistitem.jobtype','reqlistitem.jobtype','reqlistitem.joblevel','reqlistitem.joblevel','reqlistitem.jobshift','reqlistitem.jobshift','reqlistitem.willtravel','reqlistitem.willtravel','reqlistitem.postingdate','reqlistitem.postingdate','reqlistitem.G88160453458','reqlistitem.G88160453458','reqlistitem.organization','reqlistitem.organization','reqlistitem.displayreferfriendaction','reqlistitem.no','reqlistitem.no','reqlistitem.applyonlinejobdesc','reqlistitem.no','reqlistitem.referjobdesc','reqlistitem.applyemailsubjectapplication','reqlistitem.applyemailjobdesc','reqlistitem.no','reqlistitem.addedtojobcart','reqlistitem.displayjobcartactionjobdesc','reqlistitem.shareURL','reqlistitem.title','reqlistitem.shareable'],\n",
       "   _pars: ['ID1332','ID1373','ID1406','ID1446','ID1450','ID1474','ID1480','ID2448','ID2588','ID2629','ID2662','ID2694','ID2698','ID2722','ID2728'],\n",
       "   _prps: [['ID1340','ID1320','style.display',\"true,'inline','none'\"],['ID1381','ID1355','style.display',\"true,'inline','none'\"],['ID1411','ID1390','style.display',\"true,'inline','none'\"],['ID1455','ID1426','style.display',\"true,'inline','none'\"],['ID1493','ID1470','style.display',\"true,'inline','none'\"],['ID1597','ID1590','style.display',\",'none','inline'\"],['ID1663','ID1652','style.display',\",'none','inline'\"],['ID1717','ID1710','style.display',\",'none','inline'\"],['ID1761','ID1750','style.display',\",'none','inline'\"],['ID1819','ID1812','style.display',\",'none','inline'\"],['ID1867','ID1860','style.display',\",'none','inline'\"],['ID1915','ID1908','style.display',\",'none','inline'\"],['ID1973','ID1966','style.display',\",'none','inline'\"],['ID2021','ID2014','style.display',\",'none','inline'\"],['ID2069','ID2062','style.display',\",'none','inline'\"],['ID2117','ID2110','style.display',\",'none','inline'\"],['ID2165','ID2158','style.display',\",'none','inline'\"],['ID2213','ID2206','style.display',\",'none','inline'\"],['ID2267','ID2260','style.display',\",'none','inline'\"],['ID2307','ID2300','style.display',\",'none','inline'\"],['ID2357','ID2350','style.display',\",'none','inline'\"],['ID2391','ID2390','style.display',\"true,'block','none'\"],['ID2602','ID2576','style.display',\"true,'inline','none'\"],['ID2637','ID2611','style.display',\"true,'inline','none'\"],['ID2667','ID2646','style.display',\"true,'inline','none'\"],['ID2703','ID2682','style.display',\"true,'inline','none'\"],['ID2741','ID2718','style.display',\"true,'inline','none'\"]],\n",
       "   _grps: [],\n",
       "   _mpts: ['ID1571','ID1619'],\n",
       "   _hpts: ['ID1560','ID1630','ID1728','ID1796','ID1844','ID1892','ID1950','ID1998','ID2046','ID2094','ID2142','ID2190','ID2244','ID2294','ID2334']\n",
       "  }\n",
       " },\n",
       " bottomBarInterface: {\n",
       "  _ctls: [],\n",
       "  _hles: ['technicalHelpInfoBottom'],\n",
       "  _pars: [],\n",
       "  _prps: [],\n",
       "  _mpts: [],\n",
       "  _hpts: [],\n",
       "  _lsts: []\n",
       " },\n",
       " setup: function() {\n",
       "  var api = _ftl_api;\n",
       "  api.fillForm('topNavInterface', []);\n",
       "  ftltab_initTabBar('topNavInterface','topNavInterface.tabLevel1','');\n",
       "  ftltab_initTabBar('topNavInterface','topNavInterface.tabLevel2a','topNavInterface.tabJS');\n",
       "  ftltab_initTabBar('topNavInterface','topNavInterface.tabLevel2b','topNavInterface.tabMY');\n",
       "  api.fillInterface('topNavInterface', ['Welcome. You are not signed in.','My Job Cart','My Job Cart','My Job Cart','','Go to the section Job Search','Go to the section My Jobpage','Open the page Search','Open the page Jobs Matching My Profile','Open the page All Jobs','Open the page My Submissions','Open the page My Job Cart','Open the page My Saved Searches']);\n",
       "  api.fillForm('requisitionDescriptionInterface', []);\n",
       "  api.fillInterface('requisitionDescriptionInterface', ['','Previous','Go to the previous job','Next','Go to the next job','Apply for this position online','Apply by Email','Apply to this position by email','Add this position to the job cart','Job Description - Data Scientist (00016133951)','Job Description','Domain','Tell us about a friend who might be interested in this job. All privacy rights will be protected.','false','Tell us about a person who might be interested in working for our organization. All privacy rights will be protected.','true',' ','Apply for this position online','Apply to this position by email','Add this position to the job cart','Previous','Go to the previous job','Next','Go to the next job']);\n",
       "  api.fillList('requisitionDescriptionInterface', 'descRequisition', ['466174','true','466174','false','Submission for the position: Data Scientist - (Job Number: 00016133951)','false','466174','false','true','https://cognizant.taleo.net/careersection/jobdetail.ftl?job=00016133951%26lang=en','Data Scientist','true','Data Scientist','00016133951','00016133951','!*!%3Cdiv style=%22font-family: calibri; font-size: 13px; color: Black; line-height: 1.5;%22%3E%3Cp class=%22MsoNoSpacing%22 style=%22margin-top:0px;margin-bottom:0px%22%3E%3Cspan style=%22font-family: Cambria, serif;%22%3E%3C/span%3E%3C/p%3E%3Cdiv%3EData Scientist%3C/div%3E%3Cdiv%3E%26nbsp;%3C/div%3E%3Cdiv%3ECognizant seeks experienced%26nbsp;%3Cb%3EData Scientist%26nbsp;%3C/b%3Eand Optimization leaders to design, build, deploy and support large, world-class enterprise-level solutions.%26nbsp;%3C/div%3E%3Cdiv%3E%26nbsp;%3C/div%3E%3Cdiv%3E%3Cb%3ERequired Skills:%3C/b%3E%3C/div%3E%3Cdiv%3EAt the minimum must have a graduate level degree in a quantitative discipline (i.e. Statistics, Applied Mathematics, Operations Research, Industrial Engineering, Computer Science, etc)%3C/div%3E%3Cdiv%3EMust have experience in applying advanced statistical models and machine learning techniques to solve business questions using but not limited to the following tools/technologies: SQL, R, Python, NLP, Spark%3C/div%3E%3Cdiv%3EExperience mining large amounts of data (i.e. transactional, click stream, social media) to build predictive and descriptive statistical models%3C/div%3E%3Cdiv%3EExperience working with IT to facilitate DSS to enable real time predictive analytics.%3C/div%3E%3Cdiv%3E%26nbsp;%3C/div%3E%3Cdiv%3E%3Cb%3EQualification:%3C/b%3E%3C/div%3E%3Cdiv%3EScience / Engineering Graduate%3C/div%3E%3Cdiv%3E%3Cbr%3E%3C/div%3E%3Cdiv%3EKey Responsibilities%3C/div%3E• Involved in coding, testing, debugging%3Cbr%3E• Responsible for delivery of assigned work, under a module lead or team lead supervision. Needs to understand technology and quality processes within Cognizant%3Cbr%3E%3Cbr%3E%3Cdiv%3EJob Requirement%3C/div%3E• Working knowledge of the technical platforms of the project%3Cbr%3E• Applies design specifications techniques under supervision of the module leader / Project Lead%3Cbr%3E%3Cbr%3E%3Cdiv%3EPeople Interactions%3C/div%3E• Within own team or department at operational level.%3Cbr%3E• Client interaction in some cases.%0A%3Cp%3E%3C/p%3E%3C/div%3E','!*!%3Cdiv style=%22font-family: calibri; font-size: 13px; color: Black; line-height: 1.5;%22%3E%3Cp class=%22MsoNoSpacing%22 style=%22margin-top:0px;margin-bottom:0px%22%3E%3Cspan style=%22font-family: Cambria, serif;%22%3E%3C/span%3E%3C/p%3E%3Cdiv%3EData Scientist%3C/div%3E%3Cdiv%3E%26nbsp;%3C/div%3E%3Cdiv%3ECognizant seeks experienced%26nbsp;%3Cb%3EData Scientist%26nbsp;%3C/b%3Eand Optimization leaders to design, build, deploy and support large, world-class enterprise-level solutions.%26nbsp;%3C/div%3E%3Cdiv%3E%26nbsp;%3C/div%3E%3Cdiv%3E%3Cb%3ERequired Skills:%3C/b%3E%3C/div%3E%3Cdiv%3EAt the minimum must have a graduate level degree in a quantitative discipline (i.e. Statistics, Applied Mathematics, Operations Research, Industrial Engineering, Computer Science, etc)%3C/div%3E%3Cdiv%3EMust have experience in applying advanced statistical models and machine learning techniques to solve business questions using but not limited to the following tools/technologies: SQL, R, Python, NLP, Spark%3C/div%3E%3Cdiv%3EExperience mining large amounts of data (i.e. transactional, click stream, social media) to build predictive and descriptive statistical models%3C/div%3E%3Cdiv%3EExperience working with IT to facilitate DSS to enable real time predictive analytics.%3C/div%3E%3Cdiv%3E%26nbsp;%3C/div%3E%3Cdiv%3E%3Cb%3EQualification:%3C/b%3E%3C/div%3E%3Cdiv%3EScience / Engineering Graduate%3C/div%3E%3Cdiv%3E%3Cbr%3E%3C/div%3E%3Cdiv%3EKey Responsibilities%3C/div%3E• Involved in coding, testing, debugging%3Cbr%3E• Responsible for delivery of assigned work, under a module lead or team lead supervision. Needs to understand technology and quality processes within Cognizant%3Cbr%3E%3Cbr%3E%3Cdiv%3EJob Requirement%3C/div%3E• Working knowledge of the technical platforms of the project%3Cbr%3E• Applies design specifications techniques under supervision of the module leader / Project Lead%3Cbr%3E%3Cbr%3E%3Cdiv%3EPeople Interactions%3C/div%3E• Within own team or department at operational level.%3Cbr%3E• Client interaction in some cases.%0A%3Cp%3E%3C/p%3E%3C/div%3E','0 %','!*!%3Cp style=%22font-weight: bold; font-family: calibri; font-size: 16px; margin-top: 0px; margin-bottom: 0px%22%3ETechnical Skills%3C/p%3E%3Ctable id=%22Functional%22 width=%22590px%22 border=%221%22 style=%22border: 1px solid grey; border-collapse: collapse;%22%3E%3Ctbody%3E%3Ctr style=%22font-family: calibri; font-size: 14px; color: White; line-height: 1.75; text-align: center;%22%3E%3Ctd bgcolor=%22#888888%22 style=%22text-align: center;%22 width=%2220px%22%3E%3Cb%3ESNo%3C/b%3E%3C/td%3E%3Ctd bgcolor=%22#888888%22 style=%22text-align: center;%22 width=%22370px%22%3E%3Cb%3EPrimary Skill%3C/b%3E%3C/td%3E%3Ctd bgcolor=%22#888888%22 style=%22text-align: center;%22 width=%22120px%22%3E%3Cb%3EProficiency Level *%3C/b%3E%3C/td%3E%3Ctd bgcolor=%22#888888%22 style=%22text-align: center;%22 width=%2290px%22%3E%3Cb%3ERqrd./Dsrd.%3C/b%3E%3C/td%3E%3C/tr%3E%3Ctr class=%22Skill%22 style=%22font-family: calibri; font-size: 13px; color: #000000; line-height: 1.5; text-align: center;%22%3E%3Ctd style=%22text-align: center;%22 width=%2220px%22%3E1%3C/td%3E%3Ctd style=%22text-align: center;%22 width=%22370px%22%3ER Statistical Package%3C/td%3E%3Ctd style=%22text-align: center;%22 width=%22120px%22%3EPL1%3C/td%3E%3Ctd style=%22text-align: center;%22 width=%2290px%22%3ERequired%3C/td%3E%3C/tr%3E%3Ctr class=%22Skill%22 style=%22font-family: calibri; font-size: 13px; color: #000000; line-height: 1.5; text-align: center;%22%3E%3Ctd style=%22text-align: center;%22 width=%2220px%22%3E2%3C/td%3E%3Ctd style=%22text-align: center;%22 width=%22370px%22%3ESPSS%3C/td%3E%3Ctd style=%22text-align: center;%22 width=%22120px%22%3EPL1%3C/td%3E%3Ctd style=%22text-align: center;%22 width=%2290px%22%3ERequired%3C/td%3E%3C/tr%3E%3Ctr class=%22Skill%22 style=%22font-family: calibri; font-size: 13px; color: #000000; line-height: 1.5; text-align: center;%22%3E%3Ctd style=%22text-align: center;%22 width=%2220px%22%3E3%3C/td%3E%3Ctd style=%22text-align: center;%22 width=%22370px%22%3EMS Powerpoint%3C/td%3E%3Ctd style=%22text-align: center;%22 width=%22120px%22%3EPL1%3C/td%3E%3Ctd style=%22text-align: center;%22 width=%2290px%22%3ERequired%3C/td%3E%3C/tr%3E%3Ctr class=%22Skill%22 style=%22font-family: calibri; font-size: 13px; color: #000000; line-height: 1.5; text-align: center;%22%3E%3Ctd style=%22text-align: center;%22 width=%2220px%22%3E4%3C/td%3E%3Ctd style=%22text-align: center;%22 width=%22370px%22%3EANSI SQL%3C/td%3E%3Ctd style=%22text-align: center;%22 width=%22120px%22%3EPL1%3C/td%3E%3Ctd style=%22text-align: center;%22 width=%2290px%22%3ERequired%3C/td%3E%3C/tr%3E%3Ctr class=%22Skill%22 style=%22font-family: calibri; font-size: 13px; color: #000000; line-height: 1.5; text-align: center;%22%3E%3Ctd style=%22text-align: center;%22 width=%2220px%22%3E5%3C/td%3E%3Ctd style=%22text-align: center;%22 width=%22370px%22%3ESAS%3C/td%3E%3Ctd style=%22text-align: center;%22 width=%22120px%22%3EPL1%3C/td%3E%3Ctd style=%22text-align: center;%22 width=%2290px%22%3ERequired%3C/td%3E%3C/tr%3E%3Ctr class=%22Skill%22 style=%22font-family: calibri; font-size: 13px; color: #000000; line-height: 1.5; text-align: center;%22%3E%3Ctd style=%22text-align: center;%22 width=%2220px%22%3E6%3C/td%3E%3Ctd style=%22text-align: center;%22 width=%22370px%22%3EMS-ACCESS%3C/td%3E%3Ctd style=%22text-align: center;%22 width=%22120px%22%3EPL1%3C/td%3E%3Ctd style=%22text-align: center;%22 width=%2290px%22%3ERequired%3C/td%3E%3C/tr%3E%3C/tbody%3E%3C/table%3E%3Cbr%3E%3Cbr%3E%3Cp style=%22font-weight: bold; font-family: calibri; font-size: 16px; margin-top: 0px; margin-bottom: 0px%22%3E* Proficiency Legends%3C/p%3E%3Ctable width=%22590px%22 border=%221%22 style=%22border:1px solid grey;border-collapse: collapse;%22%3E%3Ctbody%3E%3Ctr style=%22font-family: calibri; font-size: 14px; color: White; line-height: 1.5; text-align: center;%22%3E%3Ctd bgcolor=%22#888888%22 style=%22text-align: center;%22 width=%2260px%22%3E%3Cb%3EProficiency Level%3C/b%3E%3C/td%3E%3Ctd bgcolor=%22#888888%22 style=%22text-align: center;%22 width=%22530px%22%3E%3Cb%3EGeneric Reference%3C/b%3E%3C/td%3E%3C/tr%3E%3Ctr style=%22font-family: calibri; font-size: 13px; color: #000000; line-height: 1.5;%22%3E%3Ctd style=%22text-align: center;%22 width=%2260px%22%3EPL1%3C/td%3E%3Ctd align=%22justify%22 width=%22530px%22%3EThe associate has basic awareness and comprehension of the skill and is in the process of acquiring this skill through various channels.%3C/td%3E%3C/tr%3E%3Ctr style=%22font-family: calibri; font-size: 13px; color: #000000; line-height: 1.5;%22%3E%3Ctd style=%22text-align: center;%22 width=%2260px%22%3EPL2%3C/td%3E%3Ctd align=%22justify%22 width=%22530px%22%3EThe associate possesses working knowledge of the skill, and can actively and independently apply this skill in engagements and projects.%3C/td%3E%3C/tr%3E%3Ctr style=%22font-family: calibri;font-size: 13px;color: #000000;line-height: 1.5;%22%3E%3Ctd style=%22text-align: center;%22 width=%2260px%22%3EPL3%3C/td%3E%3Ctd align=%22justify%22 width=%22530px%22%3EThe associate has comprehensive, in-depth and specialized knowledge of the skill. She / he has extensively demonstrated successful application of the skill in engagements or projects.%3C/td%3E%3C/tr%3E%3Ctr style=%22font-family: calibri; font-size: 13px; color: #000000; line-height: 1.5;%22%3E%3Ctd style=%22text-align: center;%22 width=%2260px%22%3EPL4%3C/td%3E%3Ctd align=%22justify%22 width=%22530px%22%3EThe associate can function as a subject matter expert for this skill. The associate is capable of analyzing, evaluating and synthesizing solutions using the skill.%3C/td%3E%3C/tr%3E%3C/tbody%3E%3C/table%3E%3Cbr%3E%3Cbr%3E%3Cbr%3E%3Cp style=%22font-weight: bold; font-family: calibri; font-size: 16px; margin-top: 0px; margin-bottom: 0px%22%3EOrganization Marketing Statement%3C/p%3E%3Cdiv style=%22font-family: calibri; font-size: 13px; color: Black; line-height: 1.5;%22%3ECognizant (NASDAQ: CTSH) is a leading provider of information technology, consulting, and business process outsourcing services, dedicated to helping the world%27s leading companies build stronger businesses. Headquartered in Teaneck, New Jersey (U.S.), Cognizant combines a passion for client satisfaction, technology innovation, deep industry and business process expertise, and a global, collaborative workforce that embodies the future of work. With over 100 development and delivery centers worldwide and approximately 218,000 employees as of June 30, 2015, Cognizant is a member of the NASDAQ-100, the S%26amp;P 500, the Forbes Global 2000, and the Fortune 500 and is ranked among the top performing and fastest growing companies in the world. Visit us online at %3Ca target=%22_Blank%22 href=%22http://www.cognizant.com/%22 style=%22color: #009999;%22%3Ewww.cognizant.com%3C/a%3E or follow us on %3Ca target=%22_Blank%22 href=%22https://mobile.twitter.com/cognizant/%22 style=%22color: #009999;%22%3E Twitter: Cognizant.%3C/a%3E%3C/div%3E','!*!%3Cp style=%22font-weight: bold; font-family: calibri; font-size: 16px; margin-top: 0px; margin-bottom: 0px%22%3ETechnical Skills%3C/p%3E%3Ctable id=%22Functional%22 width=%22590px%22 border=%221%22 style=%22border: 1px solid grey; border-collapse: collapse;%22%3E%3Ctbody%3E%3Ctr style=%22font-family: calibri; font-size: 14px; color: White; line-height: 1.75; text-align: center;%22%3E%3Ctd bgcolor=%22#888888%22 style=%22text-align: center;%22 width=%2220px%22%3E%3Cb%3ESNo%3C/b%3E%3C/td%3E%3Ctd bgcolor=%22#888888%22 style=%22text-align: center;%22 width=%22370px%22%3E%3Cb%3EPrimary Skill%3C/b%3E%3C/td%3E%3Ctd bgcolor=%22#888888%22 style=%22text-align: center;%22 width=%22120px%22%3E%3Cb%3EProficiency Level *%3C/b%3E%3C/td%3E%3Ctd bgcolor=%22#888888%22 style=%22text-align: center;%22 width=%2290px%22%3E%3Cb%3ERqrd./Dsrd.%3C/b%3E%3C/td%3E%3C/tr%3E%3Ctr class=%22Skill%22 style=%22font-family: calibri; font-size: 13px; color: #000000; line-height: 1.5; text-align: center;%22%3E%3Ctd style=%22text-align: center;%22 width=%2220px%22%3E1%3C/td%3E%3Ctd style=%22text-align: center;%22 width=%22370px%22%3ER Statistical Package%3C/td%3E%3Ctd style=%22text-align: center;%22 width=%22120px%22%3EPL1%3C/td%3E%3Ctd style=%22text-align: center;%22 width=%2290px%22%3ERequired%3C/td%3E%3C/tr%3E%3Ctr class=%22Skill%22 style=%22font-family: calibri; font-size: 13px; color: #000000; line-height: 1.5; text-align: center;%22%3E%3Ctd style=%22text-align: center;%22 width=%2220px%22%3E2%3C/td%3E%3Ctd style=%22text-align: center;%22 width=%22370px%22%3ESPSS%3C/td%3E%3Ctd style=%22text-align: center;%22 width=%22120px%22%3EPL1%3C/td%3E%3Ctd style=%22text-align: center;%22 width=%2290px%22%3ERequired%3C/td%3E%3C/tr%3E%3Ctr class=%22Skill%22 style=%22font-family: calibri; font-size: 13px; color: #000000; line-height: 1.5; text-align: center;%22%3E%3Ctd style=%22text-align: center;%22 width=%2220px%22%3E3%3C/td%3E%3Ctd style=%22text-align: center;%22 width=%22370px%22%3EMS Powerpoint%3C/td%3E%3Ctd style=%22text-align: center;%22 width=%22120px%22%3EPL1%3C/td%3E%3Ctd style=%22text-align: center;%22 width=%2290px%22%3ERequired%3C/td%3E%3C/tr%3E%3Ctr class=%22Skill%22 style=%22font-family: calibri; font-size: 13px; color: #000000; line-height: 1.5; text-align: center;%22%3E%3Ctd style=%22text-align: center;%22 width=%2220px%22%3E4%3C/td%3E%3Ctd style=%22text-align: center;%22 width=%22370px%22%3EANSI SQL%3C/td%3E%3Ctd style=%22text-align: center;%22 width=%22120px%22%3EPL1%3C/td%3E%3Ctd style=%22text-align: center;%22 width=%2290px%22%3ERequired%3C/td%3E%3C/tr%3E%3Ctr class=%22Skill%22 style=%22font-family: calibri; font-size: 13px; color: #000000; line-height: 1.5; text-align: center;%22%3E%3Ctd style=%22text-align: center;%22 width=%2220px%22%3E5%3C/td%3E%3Ctd style=%22text-align: center;%22 width=%22370px%22%3ESAS%3C/td%3E%3Ctd style=%22text-align: center;%22 width=%22120px%22%3EPL1%3C/td%3E%3Ctd style=%22text-align: center;%22 width=%2290px%22%3ERequired%3C/td%3E%3C/tr%3E%3Ctr class=%22Skill%22 style=%22font-family: calibri; font-size: 13px; color: #000000; line-height: 1.5; text-align: center;%22%3E%3Ctd style=%22text-align: center;%22 width=%2220px%22%3E6%3C/td%3E%3Ctd style=%22text-align: center;%22 width=%22370px%22%3EMS-ACCESS%3C/td%3E%3Ctd style=%22text-align: center;%22 width=%22120px%22%3EPL1%3C/td%3E%3Ctd style=%22text-align: center;%22 width=%2290px%22%3ERequired%3C/td%3E%3C/tr%3E%3C/tbody%3E%3C/table%3E%3Cbr%3E%3Cbr%3E%3Cp style=%22font-weight: bold; font-family: calibri; font-size: 16px; margin-top: 0px; margin-bottom: 0px%22%3E* Proficiency Legends%3C/p%3E%3Ctable width=%22590px%22 border=%221%22 style=%22border:1px solid grey;border-collapse: collapse;%22%3E%3Ctbody%3E%3Ctr style=%22font-family: calibri; font-size: 14px; color: White; line-height: 1.5; text-align: center;%22%3E%3Ctd bgcolor=%22#888888%22 style=%22text-align: center;%22 width=%2260px%22%3E%3Cb%3EProficiency Level%3C/b%3E%3C/td%3E%3Ctd bgcolor=%22#888888%22 style=%22text-align: center;%22 width=%22530px%22%3E%3Cb%3EGeneric Reference%3C/b%3E%3C/td%3E%3C/tr%3E%3Ctr style=%22font-family: calibri; font-size: 13px; color: #000000; line-height: 1.5;%22%3E%3Ctd style=%22text-align: center;%22 width=%2260px%22%3EPL1%3C/td%3E%3Ctd align=%22justify%22 width=%22530px%22%3EThe associate has basic awareness and comprehension of the skill and is in the process of acquiring this skill through various channels.%3C/td%3E%3C/tr%3E%3Ctr style=%22font-family: calibri; font-size: 13px; color: #000000; line-height: 1.5;%22%3E%3Ctd style=%22text-align: center;%22 width=%2260px%22%3EPL2%3C/td%3E%3Ctd align=%22justify%22 width=%22530px%22%3EThe associate possesses working knowledge of the skill, and can actively and independently apply this skill in engagements and projects.%3C/td%3E%3C/tr%3E%3Ctr style=%22font-family: calibri;font-size: 13px;color: #000000;line-height: 1.5;%22%3E%3Ctd style=%22text-align: center;%22 width=%2260px%22%3EPL3%3C/td%3E%3Ctd align=%22justify%22 width=%22530px%22%3EThe associate has comprehensive, in-depth and specialized knowledge of the skill. She / he has extensively demonstrated successful application of the skill in engagements or projects.%3C/td%3E%3C/tr%3E%3Ctr style=%22font-family: calibri; font-size: 13px; color: #000000; line-height: 1.5;%22%3E%3Ctd style=%22text-align: center;%22 width=%2260px%22%3EPL4%3C/td%3E%3Ctd align=%22justify%22 width=%22530px%22%3EThe associate can function as a subject matter expert for this skill. The associate is capable of analyzing, evaluating and synthesizing solutions using the skill.%3C/td%3E%3C/tr%3E%3C/tbody%3E%3C/table%3E%3Cbr%3E%3Cbr%3E%3Cbr%3E%3Cp style=%22font-weight: bold; font-family: calibri; font-size: 16px; margin-top: 0px; margin-bottom: 0px%22%3EOrganization Marketing Statement%3C/p%3E%3Cdiv style=%22font-family: calibri; font-size: 13px; color: Black; line-height: 1.5;%22%3ECognizant (NASDAQ: CTSH) is a leading provider of information technology, consulting, and business process outsourcing services, dedicated to helping the world%27s leading companies build stronger businesses. Headquartered in Teaneck, New Jersey (U.S.), Cognizant combines a passion for client satisfaction, technology innovation, deep industry and business process expertise, and a global, collaborative workforce that embodies the future of work. With over 100 development and delivery centers worldwide and approximately 218,000 employees as of June 30, 2015, Cognizant is a member of the NASDAQ-100, the S%26amp;P 500, the Forbes Global 2000, and the Fortune 500 and is ranked among the top performing and fastest growing companies in the world. Visit us online at %3Ca target=%22_Blank%22 href=%22http://www.cognizant.com/%22 style=%22color: #009999;%22%3Ewww.cognizant.com%3C/a%3E or follow us on %3Ca target=%22_Blank%22 href=%22https://mobile.twitter.com/cognizant/%22 style=%22color: #009999;%22%3E Twitter: Cognizant.%3C/a%3E%3C/div%3E','Application Development / Application Maintenance','Application Development / Application Maintenance','United States-Illinois-Chicago - IL USA, COG','United States-Illinois-Chicago - IL USA, COG','','','Permanent','Permanent','Full-time','Full-time','Standard','Standard','Individual Contributor','Individual Contributor','Day Job','Day Job','No','No','Oct 26, 2015, 1:11:34 PM','Oct 26, 2015, 1:11:34 PM','','','IT Services - United States','IT Services - United States','false','466174','466174','true','466174','false','Submission for the position: Data Scientist - (Job Number: 00016133951)','false','466174','false','true','https://cognizant.taleo.net/careersection/jobdetail.ftl?job=00016133951%26lang=en','Data Scientist','true']);\n",
       "  api.fillForm('bottomBarInterface', []);\n",
       "  api.fillInterface('bottomBarInterface', ['']);\n",
       " api.updateFloats();\n",
       " },\n",
       " init: function() {\n",
       "  var api = _ftl_api;\n",
       "  secform_initForm(document.getElementById('ftlform'));\n",
       "  api.restoreScroll('ftlform');\n",
       "  ftlconfirm_init('topNavInterface','topNavInterface.confirmBeaconReset');\n",
       "  ftlconfirm_init('topNavInterface','topNavInterface.confirmBeaconTimedOut');\n",
       "  ftlUtil_installSessionBeacon('topNavInterface','3600000','2400000','300000');\n",
       "  api.addOnSet('rdPager.currentPage',\"ftlPager_refresh('requisitionDescriptionInterface','rdPager')\");\n",
       "  ftlPager_init('requisitionDescriptionInterface','requisitionDescriptionInterface.pagerDivID868');\n",
       "  api.addOnSet('rdPager.currentPage',\"ftlPager_refresh('requisitionDescriptionInterface','rdPager')\");\n",
       "  ftlPager_init('requisitionDescriptionInterface','requisitionDescriptionInterface.pagerDivID2340');\n",
       "  addthis_setup('_cs_addthis_requisitionDescriptionInterface.UP_ADDTHIS', 'en', true);\n",
       "  addthis_setup('_cs_addthis_requisitionDescriptionInterface.BOTTOM_ADDTHIS', 'en', true);\n",
       "  requisition_prepareNoteHiding('requisitionDescriptionInterface');\n",
       "  requisition_setPageTitle('requisitionDescriptionInterface');\n",
       " }\n",
       "}\n",
       "ftlUtil_loadAddthisJS();\n",
       "\n",
       "_ftl_api.setup();\n",
       "</script></div><div class=\"clear\"></div><div><div class=\"cog-ftr row-fluid\"><div class=\"topsection clearfix\"><div class=\"wrapper\"><div class=\"row-fluid\"><ul class=\"iconflag\"><li class=\"desktop\"><a href=\"#url\" id=\"rss\" shape=\"rect\" title=\"RSS\"></a></li><li><a href=\"#url\" id=\"linkedin\" shape=\"rect\" title=\"Linkedin\"></a></li><li><a href=\"#url\" id=\"twitter\" shape=\"rect\" title=\"Twitter\"></a></li><li><a href=\"#url\" id=\"youTube\" shape=\"rect\" title=\"YouTube\"></a></li><li class=\"desktop\"><a href=\"#url\" id=\"flickr\" shape=\"rect\" title=\"Flickr\"></a></li><li><a href=\"#url\" id=\"slideshare\" shape=\"rect\" title=\"Slideshare\"></a></li><li><a href=\"#url\" id=\"facebook\" shape=\"rect\" title=\"Facebook\"></a></li><li><a href=\"#url\" id=\"googleplus\" shape=\"rect\" title=\"Google Plus\"></a></li></ul><ul class=\"static-nav\"><li><a href=\"http://www.cognizant.com/sitemap\" shape=\"rect\" title=\"Sitemap\">Sitemap</a></li><li><a href=\"http://www.cognizant.com/legal\" shape=\"rect\" title=\"Legal\">Legal</a></li><li><a href=\"http://www.cognizant.com/privacy\" shape=\"rect\">Privacy Policy</a></li><li><a href=\"http://www.cognizant.com/contactus\" shape=\"rect\" title=\"Contact Us\">Contact Us</a></li></ul><span class=\"copyright\"> © 2014 Cognizant, all rights reserved </span></div></div></div><div class=\"wrapper\"><div class=\"btmsection clearfix\"><div id=\"ctl00_ctl33_lblFindSolutions\"><div class=\"findsltnw\"><div class=\"ftrlsection\"><h6><a href=\"http://www.cognizant.com/find-solutions\" shape=\"rect\" title=\"Find Solutions\">Find Solutions</a></h6><div class=\"row-fluid\"><div class=\"span33 submnav\"><ul class=\"flinksectn\"><li class=\"subhead\"><a href=\"http://www.cognizant.com/industries\" shape=\"rect\" title=\"Industries\">Industries</a></li><li><a href=\"http://www.cognizant.com/banking-financial-services\" shape=\"rect\" title=\"Banking &amp; Financial Services\">Banking &amp; Financial Services</a></li><li><a href=\"http://www.cognizant.com/telecommunications\" shape=\"rect\" title=\"Communications\">Communications</a></li><li><a href=\"http://www.cognizant.com/consumer-goods\" shape=\"rect\" title=\"Consumer Goods\">Consumer Goods</a></li><li><a href=\"http://www.cognizant.com/education\" shape=\"rect\" title=\"Education\">Education</a></li><li><a href=\"http://www.cognizant.com/energy-utility\" shape=\"rect\" title=\"Energy &amp; Utilities\">Energy &amp; Utilities</a></li></ul></div><div class=\"span33 submnav\"><ul class=\"flinksectn mgrtop\"><li><a href=\"http://www.cognizant.com/healthcare\" shape=\"rect\" title=\"Healthcare\">Healthcare</a></li><li><a href=\"http://www.cognizant.com/business-information-services\" shape=\"rect\" title=\"Information Services\">Information Services</a></li><li><a href=\"http://www.cognizant.com/insurance\" shape=\"rect\" title=\"Insurance\">Insurance</a></li><li><a href=\"http://www.cognizant.com/life-sciences\" shape=\"rect\" title=\"Life Sciences\">Life Sciences</a></li><li><a href=\"http://www.cognizant.com/manufacturing\" shape=\"rect\" title=\"Manufacturing\">Manufacturing</a></li></ul></div><div class=\"span33 submnav\"><ul class=\"flinksectn mgrtop\"><li><a href=\"http://www.cognizant.com/information-media-entertainment\" shape=\"rect\" title=\"Media &amp; Entertainment\">Media &amp; Entertainment</a></li><li><a href=\"http://www.cognizant.com/retail\" shape=\"rect\" title=\"Retail\">Retail</a></li><li><a href=\"http://www.cognizant.com/technology\" shape=\"rect\" title=\"Technology\">Technology</a></li><li><a href=\"http://www.cognizant.com/transportation-logistics\" shape=\"rect\" title=\"Transportation &amp; Logistics\">Transportation &amp; Logistics</a></li><li><a href=\"http://www.cognizant.com/travel-hospitality\" shape=\"rect\" title=\"Travel &amp; Hospitality\">Travel &amp; Hospitality</a></li></ul></div></div><div class=\"row-fluid\"><div class=\"span33 submnav\"><ul class=\"flinksectn\"><li class=\"subhead\"><a href=\"http://www.cognizant.com/services\" shape=\"rect\" title=\"Services\">Services</a></li><li><a href=\"http://www.cognizant.com/enterprise-analytics\" shape=\"rect\" title=\"Analytics\">Analytics</a></li><li><a href=\"http://www.cognizant.com/application-services\" shape=\"rect\" title=\"Application Services\">Application Services</a></li><li><a href=\"http://www.cognizant.com/business-process-services\" shape=\"rect\" title=\"Business Process Services\">Business Process Services</a></li><li><a href=\"http://www.cognizant.com/cloud-computing\" shape=\"rect\" title=\"Cloud\">Cloud</a></li><li><a href=\"http://www.cognizant.com/consulting\" shape=\"rect\" title=\"Consulting\">Consulting</a></li></ul></div><div class=\"span33 submnav\"><ul class=\"flinksectn mgrtop\"><li><a href=\"http://www.cognizant.com/customer-relationship-management\" shape=\"rect\" title=\"Customer Relationship Management\">Customer Relationship Management</a></li><li><a href=\"http://www.cognizant.com/digital-security-services\" shape=\"rect\" title=\"Digital Security &amp; Privacy\">Digital Security &amp; Privacy</a></li><li><a href=\"http://www.cognizant.com/engineering-manufacturing-solutions\" shape=\"rect\" title=\"Engineering &amp; Manufacturing Solutions\">Engineering &amp; Manufacturing Solutions</a></li><li><a href=\"http://www.cognizant.com/cognizant-interactive\" shape=\"rect\" title=\"Interactive\">Interactive</a></li><li><a href=\"http://www.cognizant.com/infrastructure-services\" shape=\"rect\" title=\"IT Infrastructure Services\">IT Infrastructure Services</a></li></ul></div><div class=\"span33 submnav\"><ul class=\"flinksectn mgrtop\"><li><a href=\"http://www.cognizant.com/mobility\" shape=\"rect\" title=\"Mobility\">Mobility</a></li><li><a href=\"http://www.cognizant.com/portals-content-management\" shape=\"rect\" title=\"Portals &amp; Content Management\">Portals &amp; Content Management</a></li><li><a href=\"http://www.cognizant.com/quality-engineering-and-assurance\" shape=\"rect\" title=\"Quality Engineering &amp; Assurance\">Quality Engineering &amp; Assurance</a></li><li><a href=\"http://www.cognizant.com/social\" shape=\"rect\" title=\"Social\">Social</a></li><li><a href=\"http://www.cognizant.com/supply-chain-management\" shape=\"rect\" title=\"Supply Chain Management\">Supply Chain Management</a></li></ul></div></div><div class=\"row-fluid\"><div class=\"span33 submnav\"><ul class=\"flinksectn\"><li class=\"subhead\"><a href=\"http://www.cognizant.com/businesscloud\" shape=\"rect\" title=\"Products &amp; Platforms\">Products &amp; Platforms</a></li><li><a href=\"http://www.cognizant.com/businesscloud/assetserv-digital-asset-management-platform\" shape=\"rect\" title=\"assetSERV\">assetSERV</a></li><li><a href=\"http://www.cognizant.com/businesscloud/careserv-medical-management-solution\" shape=\"rect\" title=\"CareSERV\">CareSERV</a></li><li><a href=\"http://www.cognizant.com/businesscloud/cloud360-enterprise-cloud-management-solution\" shape=\"rect\" title=\"Cloud360\">Cloud360</a></li><li><a href=\"http://www.cognizant.com/businesscloud/fastest\" shape=\"rect\" title=\"fastest\">fastest</a></li></ul></div><div class=\"span33 submnav\"><ul class=\"flinksectn mgrtop\"><li><a href=\"http://www.cognizant.com/businesscloud/Omaas\" shape=\"rect\" title=\"OMaaS\">OMaaS</a></li><li><a href=\"http://www.cognizant.com/businesscloud/smarttrials\" shape=\"rect\" title=\"SmartTrials\">SmartTrials</a></li><li><a href=\"http://www.cognizant.com/businesscloud/sep-subscription-enablement-platform\" shape=\"rect\" title=\"Subscription Enablement Platform\">Subscription Enablement Platform</a></li></ul></div><div class=\"span33 submnav\"><ul class=\"flinksectn mgrtop\"><li><a href=\"http://www.cognizant.com/businesscloud/trumobi\" shape=\"rect\" title=\"TruMobi\">TruMobi</a></li><li><a href=\"http://www.cognizant.com/businesscloud/workport-cloud-based-collaboration-platform\" shape=\"rect\" title=\"WorkPort\">WorkPort</a></li><li><a href=\"http://www.cognizant.com/businesscloud/ZDLC-zero-deviation-life-cycle-management-platform\" shape=\"rect\" title=\"Zero Deviation Life Cycle\">Zero Deviation Life Cycle</a></li></ul></div></div><div class=\"row-fluid\"><div class=\"span33 submnav\"><ul class=\"flinksectn\"><li class=\"subhead\"><a href=\"http://www.cognizant.com/strategic-goals\" shape=\"rect\" title=\"Strategic Goals\">Strategic Goals</a></li><li><a href=\"http://www.cognizant.com/strategic-goals/big-data-analytics\" shape=\"rect\" title=\"Big Data Analytics \">Big Data Analytics </a></li><li><a href=\"http://www.cognizant.com/strategic-goals/business-reimagined\" shape=\"rect\" title=\"Business Reimagined\">Business Reimagined</a></li><li><a href=\"http://www.cognizant.com/strategic-goals/cloud-computing\" shape=\"rect\" title=\"Cloud Computing\">Cloud Computing</a></li><li><a href=\"http://www.cognizant.com/strategic-goals/demand-chain-management\" shape=\"rect\" title=\"Demand Chain Management\">Demand Chain Management</a></li></ul></div><div class=\"span33 submnav\"><ul class=\"flinksectn mgrtop\"><li><a href=\"http://www.cognizant.com/strategic-goals/enterprise-mobility\" shape=\"rect\" title=\"Enterprise Mobility\">Enterprise Mobility</a></li><li><a href=\"http://www.cognizant.com/strategic-goals/fostering-innovation\" shape=\"rect\" title=\"Fostering Innovation\">Fostering Innovation</a></li><li><a href=\"http://www.cognizant.com/strategic-goals/it-as-a-service\" shape=\"rect\" title=\"IT as a Service  \">IT as a Service </a></li></ul></div><div class=\"span33 submnav\"><ul class=\"flinksectn mgrtop\"><li><a href=\"http://www.cognizant.com/strategic-goals/managing-compliance\" shape=\"rect\" title=\"Managing Compliance\">Managing Compliance</a></li><li><a href=\"http://www.cognizant.com/strategic-goals/virtual-millennial-workers\" shape=\"rect\" title=\"Virtual &amp; Millennial Workers \">Virtual &amp; Millennial Workers </a></li><li><a href=\"http://www.cognizant.com/strategic-goals/virtual-data-centers\" shape=\"rect\" title=\"Virtual Data Centers \">Virtual Data Centers </a></li></ul></div></div></div></div><div class=\"explrmeetw\"><span class=\"desktop\"><a class=\"scroll-top\" href=\"javascript:void(0);\" shape=\"rect\"><span class=\"txt\">BACK TO TOP</span></a></span><div class=\"ftrrsection\"><div class=\"row-fluid\"><div class=\"span16 submnav\"><h6><a href=\"http://www.cognizant.com/latest-thinking\" shape=\"rect\" title=\"Latest Thinking\">Latest Thinking</a></h6><ul class=\"flinksectn\"><li><a href=\"http://www.cognizant.com/code-rules\" shape=\"rect\" title=\"Code Rules\">Code Rules</a></li><li><a href=\"http://www.cognizant.com/cognizant-connections\" shape=\"rect\" title=\"Cognizant Connections\">Cognizant Connections</a></li><li><a href=\"http://www.cognizant.com/futureofwork\" shape=\"rect\" title=\"Future of Work\">Future of Work</a></li><li><a href=\"http://www.cognizant.com/perspectives\" shape=\"rect\" title=\"Perspectives\">Perspectives</a></li><li><a href=\"http://www.cognizant.com/search-latest-thinking\" shape=\"rect\" title=\"Search Latest Thinking\">Search Latest Thinking</a></li><li><a href=\"http://www.cognizant.com/smac\" shape=\"rect\" title=\"SMAC\">SMAC</a></li></ul></div><div class=\"span16 submnav\"><h6><a href=\"http://www.cognizant.com/about-cognizant\" shape=\"rect\" title=\"About Cognizant\">About Cognizant</a></h6><ul class=\"flinksectn\"><li><a href=\"http://www.cognizant.com/our-approach\" shape=\"rect\" title=\"Approach\">Approach</a></li><li><a href=\"http://www.cognizant.com/company-overview\" shape=\"rect\" title=\"Company Overview\">Company Overview</a></li><li><a href=\"http://www.cognizant.com/contactus\" shape=\"rect\" title=\"Contact Us\">Contact Us</a></li><li><a href=\"http://www.cognizant.com/global-technology-office\" shape=\"rect\" title=\"Innovation\">Innovation</a></li><li><a href=\"http://news.cognizant.com/\" shape=\"rect\" title=\"News &amp; Events\">News &amp; Events</a></li><li><a href=\"http://www.cognizant.com/partners\" shape=\"rect\" title=\"Partnerships\">Partnerships</a></li></ul></div></div></div></div></div></div></div></div></div><div id=\"ctl00_panelZone\"><div id=\"hidZone\" style=\"display:none\"></div></div><script type=\"text/javascript\">\n",
       "//\n",
       "if(typeof jQuery !== 'undefined' ) {\n",
       "\tvar oldcsjQuery=jQuery;\n",
       "\tvar oldcsCashSign=$;\n",
       "}\n",
       "//\n",
       "</script><script src=\"/careersection/theme/761/1139255310175/en/theme/js/jquery.js\" type=\"text/javascript\"></script><script src=\"/careersection/theme/761/1139255310175/en/theme/js/jquery-ui.js\" type=\"text/javascript\"></script><script type=\"text/javascript\">\n",
       "//\n",
       "var cogjq = jQuery;\n",
       "if(typeof oldcsjQuery !== 'undefined' ) {\n",
       "\twindow.jQuery = oldcsjQuery;\n",
       "\twindow.$ = oldcsCashSign;\n",
       "}\n",
       "//\n",
       "</script><script src=\"/careersection/theme/761/1139255310175/en/theme/js/cogdotcom.js\" type=\"text/javascript\"></script><script src=\"/careersection/theme/761/1139255310175/en/theme/js/common-refactored.js\" type=\"text/javascript\"></script><script type=\"text/javascript\">\n",
       "//\n",
       "     cogjq(document).ready(function () {\n",
       "\t\t cogjq(\".cog-hdr .mainnav ul li a\").css(\"cursor\",\"pointer\");\n",
       "     });\n",
       "//\n",
       "</script></body></html>"
      ],
      "text/plain": [
       "<IPython.core.display.HTML object>"
      ]
     },
     "execution_count": 30,
     "metadata": {},
     "output_type": "execute_result"
    }
   ],
   "source": [
    "disp_soup = BeautifulSoup(requests.get(in_jobs[1], headers={'User-Agent': 'Mozilla/5.0'}).text)\n",
    "HTML(str(disp_soup))"
   ]
  },
  {
   "cell_type": "markdown",
   "metadata": {
    "collapsed": true
   },
   "source": [
    "### Kaggle"
   ]
  },
  {
   "cell_type": "code",
   "execution_count": 148,
   "metadata": {
    "collapsed": true
   },
   "outputs": [],
   "source": [
    "kg_uri = 'https://www.kaggle.com'\n",
    "kg_p1 = 'https://www.kaggle.com/forums/f/145/data-science-jobs'\n",
    "kg_p2 = 'https://www.kaggle.com/forums/f/145/data-science-jobs?page=2'"
   ]
  },
  {
   "cell_type": "code",
   "execution_count": 151,
   "metadata": {
    "collapsed": true
   },
   "outputs": [],
   "source": [
    "kg_page = requests.get(kg_p1, headers={'User-Agent': 'Mozilla/5.0'})\n",
    "kg_data = kg_page.text\n",
    "kg_soup = BeautifulSoup(kg_data)"
   ]
  },
  {
   "cell_type": "code",
   "execution_count": 152,
   "metadata": {
    "collapsed": false
   },
   "outputs": [],
   "source": [
    "regex = r'/forums/f/145/data-science-jobs/t/(.*?)[/]'\n",
    "kg_jobs = []\n",
    "kg_job_ids = []\n",
    "for link in kg_soup.find_all('a'):\n",
    "    for link in kg_soup.find_all('a'):                              # for each link in the page\n",
    "        href = link.get('href')                                     # get the href\n",
    "        if href:                                                    # if the href exists\n",
    "            if ('/forums/f/145/data-science-jobs/t/' in href and    # if it is a link for a job posting\n",
    "                re.search(regex, href).group(1) not in kg_job_ids): # and we don't alread have that job\n",
    "                kg_jobs.append(kg_uri + href)                       # add the job to the list of jobs\n",
    "                kg_job_ids.append(re.search(regex, href).group(1))  # add the job id to the list of job ids\n"
   ]
  },
  {
   "cell_type": "code",
   "execution_count": 153,
   "metadata": {
    "collapsed": false
   },
   "outputs": [
    {
     "data": {
      "text/plain": [
       "20"
      ]
     },
     "execution_count": 153,
     "metadata": {},
     "output_type": "execute_result"
    }
   ],
   "source": [
    "len(kg_jobs)"
   ]
  },
  {
   "cell_type": "markdown",
   "metadata": {},
   "source": [
    "### LinkedIn"
   ]
  },
  {
   "cell_type": "code",
   "execution_count": 80,
   "metadata": {
    "collapsed": true
   },
   "outputs": [],
   "source": [
    "li_uri = 'https://www.linkedin.com'\n",
    "li_p1 = 'https://www.linkedin.com/job/data-scientist-jobs-chicago-il/?sort=relevance&page_num=1&trk=jserp_pagination_1'\n",
    "l1_p2 = 'https://www.linkedin.com/job/data-scientist-jobs-chicago-il/?sort=relevance&page_num=2&trk=jserp_pagination_2'"
   ]
  },
  {
   "cell_type": "code",
   "execution_count": 81,
   "metadata": {
    "collapsed": true
   },
   "outputs": [],
   "source": [
    "li_page = requests.get(li_p1, headers={'User-Agent': 'Mozilla/5.0'})\n",
    "li_data = li_page.text\n",
    "li_soup = BeautifulSoup(li_data)"
   ]
  },
  {
   "cell_type": "code",
   "execution_count": 92,
   "metadata": {
    "collapsed": true
   },
   "outputs": [],
   "source": [
    "regex = r'/jobs2/view/(.*?)[?]'\n",
    "li_jobs = []\n",
    "li_job_ids = []\n",
    "for link in li_soup.find_all('a'):                              # for each link in the page\n",
    "    href = link.get('href')                                     # get the href\n",
    "    if href:                                                    # if the href exists\n",
    "        if ('/jobs2/view/' in href and                          # if it is a link for a job posting\n",
    "            re.search(regex, href).group(1) not in li_job_ids): # and we don't alread have that job\n",
    "            li_jobs.append(href)                                # add the job to the list of jobs\n",
    "            li_job_ids.append(re.search(regex, href).group(1))  # add the job id to the list of job ids"
   ]
  },
  {
   "cell_type": "code",
   "execution_count": 94,
   "metadata": {
    "collapsed": false
   },
   "outputs": [
    {
     "data": {
      "text/plain": [
       "25"
      ]
     },
     "execution_count": 94,
     "metadata": {},
     "output_type": "execute_result"
    }
   ],
   "source": [
    "len(li_jobs)"
   ]
  },
  {
   "cell_type": "markdown",
   "metadata": {},
   "source": [
    "###CareerBuilder"
   ]
  },
  {
   "cell_type": "code",
   "execution_count": 2,
   "metadata": {
    "collapsed": true
   },
   "outputs": [],
   "source": [
    "cb_uri = 'http://www.careerbuilder.com'\n",
    "cb_p1 = 'http://www.careerbuilder.com/jobseeker/jobs/jobresults.aspx?IPath=QHKVGV&excrit=freeLoc%3dChicago%2c+IL%3bst%3dA%3buse%3dALL%3brawWords%3ddata+scientist%3bTID%3d0%3bCTY%3dChicago%3bSID%3dIL%3bCID%3dUS%3bLOCCID%3dUS%3bENR%3dNO%3bDTP%3dDRNS%3bYDI%3dYES%3bIND%3dALL%3bPDQ%3dAll%3bPDQ%3dAll%3bPAYL%3d0%3bPAYH%3dGT120%3bPOY%3dNO%3bETD%3dALL%3bRE%3dALL%3bMGT%3dDC%3bSUP%3dDC%3bFRE%3d30%3bCHL%3dAL%3bQS%3dSID_UNKNOWN%3bSS%3dNO%3bTITL%3d0%3bOB%3d-relv%3bJQT%3dRAD%3bJDV%3dFalse%3bSITEENT%3dUSJOB%3bMaxLowExp%3d-1%3bRecsPerPage%3d25'\n",
    "cb_p2 = 'http://www.careerbuilder.com/jobseeker/jobs/jobresults.aspx?excrit=freeLoc%3dChicago%2c+IL%3bst%3dA%3buse%3dALL%3brawWords%3ddata+scientist%3bTID%3d0%3bCTY%3dChicago%3bSID%3dIL%3bCID%3dUS%3bLOCCID%3dUS%3bENR%3dNO%3bDTP%3dDRNS%3bYDI%3dYES%3bIND%3dALL%3bPDQ%3dAll%3bPDQ%3dAll%3bPAYL%3d0%3bPAYH%3dGT120%3bPOY%3dNO%3bETD%3dALL%3bRE%3dALL%3bMGT%3dDC%3bSUP%3dDC%3bFRE%3d30%3bCHL%3dAL%3bQS%3dSID_UNKNOWN%3bSS%3dNO%3bTITL%3d0%3bOB%3d-relv%3bJQT%3dRAD%3bJDV%3dFalse%3bSITEENT%3dUSJOB%3bMaxLowExp%3d-1%3bRecsPerPage%3d25&pg=2&IPath=QHKVGV'"
   ]
  },
  {
   "cell_type": "code",
   "execution_count": 3,
   "metadata": {
    "collapsed": true
   },
   "outputs": [],
   "source": [
    "cb_page = requests.get(cb_p1, headers={'User-Agent': 'Mozilla/5.0'})\n",
    "cb_data = cb_page.text\n",
    "cb_soup = BeautifulSoup(cb_data)"
   ]
  },
  {
   "cell_type": "code",
   "execution_count": 7,
   "metadata": {
    "collapsed": false
   },
   "outputs": [],
   "source": [
    "cb_jobs = []\n",
    "for link in cb_soup.find_all('a'):                              # for each link in the page\n",
    "    href = link.get('href')\n",
    "    if href:\n",
    "        if '/jobseeker/jobs/jobdetails' in href:\n",
    "            cb_jobs.append(href)"
   ]
  },
  {
   "cell_type": "code",
   "execution_count": 8,
   "metadata": {
    "collapsed": false
   },
   "outputs": [
    {
     "data": {
      "text/plain": [
       "25"
      ]
     },
     "execution_count": 8,
     "metadata": {},
     "output_type": "execute_result"
    }
   ],
   "source": [
    "len(cb_jobs)"
   ]
  },
  {
   "cell_type": "markdown",
   "metadata": {},
   "source": [
    "###Some functions we will need later"
   ]
  },
  {
   "cell_type": "code",
   "execution_count": 24,
   "metadata": {
    "collapsed": false
   },
   "outputs": [],
   "source": [
    "def get_soup(url):\n",
    "    page = requests.get(url, headers={'User-Agent': 'Mozilla/5.0'})\n",
    "    \n",
    "    data = page.text\n",
    "    \n",
    "    return BeautifulSoup(data)\n",
    "\n",
    "\n",
    "\n",
    "def get_gd_links(gd_soup):\n",
    "    \n",
    "    gd_uri = 'http://www.glassdoor.com'\n",
    "    regex = r'ListingId=(.*)'\n",
    "\n",
    "    gd_jobs = []\n",
    "    gd_job_ids = []\n",
    "\n",
    "    for link in gd_soup.find_all('a'):                              # for each link in the page\n",
    "        href = link.get('href')                                     # get the href\n",
    "        if href:                                                    # if the href exists\n",
    "            if ('partner/job' in href and                           # if it is a link for a job posting\n",
    "                re.search(regex, href).group(1) not in gd_job_ids): # and we don't alread have that job\n",
    "                gd_jobs.append(gd_uri + href)                       # add the job to the list of jobs\n",
    "                gd_job_ids.append(re.search(regex, href).group(1))  # add the job id to the list of job ids\n",
    "            \n",
    "    return gd_jobs, gd_job_ids\n",
    "\n",
    "\n",
    "\n",
    "def get_kg_links(kg_soup):\n",
    "    kg_uri = 'https://www.kaggle.com'\n",
    "    regex = r'/forums/f/145/data-science-jobs/t/(.*?)[/]'\n",
    "    kg_jobs = []\n",
    "    kg_job_ids = []\n",
    "    for link in kg_soup.find_all('a'):\n",
    "        for link in kg_soup.find_all('a'):                              # for each link in the page\n",
    "            href = link.get('href')                                     # get the href\n",
    "            if href:                                                    # if the href exists\n",
    "                if ('/forums/f/145/data-science-jobs/t/' in href and    # if it is a link for a job posting\n",
    "                    re.search(regex, href).group(1) not in kg_job_ids): # and we don't alread have that job\n",
    "                    kg_jobs.append(kg_uri + href)                       # add the job to the list of jobs\n",
    "                    kg_job_ids.append(re.search(regex, href).group(1))  # add the job id to the list of job ids\n",
    "                    \n",
    "    return kg_jobs, kg_job_ids\n",
    "\n",
    "\n",
    "\n",
    "def get_li_links(li_soup):\n",
    "    regex = r'/jobs2/view/(.*?)[?]'\n",
    "    li_jobs = []\n",
    "    li_job_ids = []\n",
    "    for link in li_soup.find_all('a'):                              # for each link in the page\n",
    "        href = link.get('href')                                     # get the href\n",
    "        if href:                                                    # if the href exists\n",
    "            if ('/jobs2/view/' in href and                          # if it is a link for a job posting\n",
    "                re.search(regex, href).group(1) not in li_job_ids): # and we don't alread have that job\n",
    "                li_jobs.append(href)                                # add the job to the list of jobs\n",
    "                li_job_ids.append(re.search(regex, href).group(1))  # add the job id to the list of job \n",
    "    return li_jobs, li_job_ids\n",
    "\n",
    "\n",
    "\n",
    "def get_cb_links(cb_soup):\n",
    "    cb_jobs = []\n",
    "    for link in cb_soup.find_all('a'):                              # for each link in the page\n",
    "        href = link.get('href')\n",
    "        if href:\n",
    "            if '/jobseeker/jobs/jobdetails' in href:\n",
    "                cb_jobs.append(href)\n",
    "    return cb_jobs"
   ]
  },
  {
   "cell_type": "code",
   "execution_count": 25,
   "metadata": {
    "collapsed": false
   },
   "outputs": [
    {
     "data": {
      "text/plain": [
       "['http://www.careerbuilder.com/jobseeker/jobs/jobdetails.aspx?APath=2.21.0.0.0&job_did=J3H15K78R1V81R5QV46&IPath=QHKVGV0A',\n",
       " 'http://www.careerbuilder.com/jobseeker/jobs/jobdetails.aspx?APath=2.21.0.0.0&job_did=JHT78L5YDDBL4JM4ZCJ&IPath=QHKVGV0B',\n",
       " 'http://www.careerbuilder.com/jobseeker/jobs/jobdetails.aspx?APath=2.21.0.0.0&job_did=J3J3Z36RKF2T74X4XWL&IPath=QHKVGV0C',\n",
       " 'http://www.careerbuilder.com/jobseeker/jobs/jobdetails.aspx?APath=2.21.0.0.0&job_did=JHN47B6M98TKZPJTNJS&IPath=QHKVGV0D',\n",
       " 'http://www.careerbuilder.com/jobseeker/jobs/jobdetails.aspx?APath=2.21.0.0.0&job_did=JHL1R570BSDWTCZVBQ4&IPath=QHKVGV0E',\n",
       " 'http://www.careerbuilder.com/jobseeker/jobs/jobdetails.aspx?APath=2.21.0.0.0&job_did=JYR24P65SPJQBQ1Z72L&IPath=QHKVGV0F',\n",
       " 'http://www.careerbuilder.com/jobseeker/jobs/jobdetails.aspx?APath=2.21.0.0.0&job_did=J3F7416Z9P5T6LMPVYP&IPath=QHKVGV0G',\n",
       " 'http://www.careerbuilder.com/jobseeker/jobs/jobdetails.aspx?APath=2.21.0.0.0&job_did=J3H6826PW9Q03MFX74T&IPath=QHKVGV0H',\n",
       " 'http://www.careerbuilder.com/jobseeker/jobs/jobdetails.aspx?APath=2.21.0.0.0&job_did=J3L54574X34N8NMM9SR&IPath=QHKVGV0I',\n",
       " 'http://www.careerbuilder.com/jobseeker/jobs/jobdetails.aspx?APath=2.21.0.0.0&job_did=J3G3T96MCVB48Q2QQ4L&IPath=QHKVGV0J',\n",
       " 'http://www.careerbuilder.com/jobseeker/jobs/jobdetails.aspx?APath=2.21.0.0.0&job_did=J3G6FC6FK6NY8RLX139&IPath=QHKVGV0K',\n",
       " 'http://www.careerbuilder.com/jobseeker/jobs/jobdetails.aspx?APath=2.21.0.0.0&job_did=JHV19V6QW4V9B3T1KWP&IPath=QHKVGV0L',\n",
       " 'http://www.careerbuilder.com/jobseeker/jobs/jobdetails.aspx?APath=2.21.0.0.0&job_did=J3G77263FFPRC2CY34J&IPath=QHKVGV0M',\n",
       " 'http://www.careerbuilder.com/jobseeker/jobs/jobdetails.aspx?APath=2.21.0.0.0&job_did=JHL0MW6RJPDQLNSFSH1&IPath=QHKVGV0N',\n",
       " 'http://www.careerbuilder.com/jobseeker/jobs/jobdetails.aspx?APath=2.21.0.0.0&job_did=J3L655793FT0QRWFH9V&IPath=QHKVGV0O',\n",
       " 'http://www.careerbuilder.com/jobseeker/jobs/jobdetails.aspx?APath=2.21.0.0.0&job_did=JYR2FM6NYX735CH224Q&IPath=QHKVGV0P',\n",
       " 'http://www.careerbuilder.com/jobseeker/jobs/jobdetails.aspx?APath=2.21.0.0.0&job_did=JYR3MG60FD89HGD447Y&IPath=QHKVGV0Q',\n",
       " 'http://www.careerbuilder.com/jobseeker/jobs/jobdetails.aspx?APath=2.21.0.0.0&job_did=J8S0F05WF1SHSFP6N79&IPath=QHKVGV0R',\n",
       " 'http://www.careerbuilder.com/jobseeker/jobs/jobdetails.aspx?APath=2.21.0.0.0&job_did=J3L4QT64T6SFZB8JTWV&IPath=QHKVGV0S',\n",
       " 'http://www.careerbuilder.com/jobseeker/jobs/jobdetails.aspx?APath=2.21.0.0.0&job_did=J8J0N06DWFRYVM9T2LQ&IPath=QHKVGV0T',\n",
       " 'http://www.careerbuilder.com/jobseeker/jobs/jobdetails.aspx?APath=2.21.0.0.0&job_did=J3K5JR62D1ZFZ47JV24&IPath=QHKVGV0U',\n",
       " 'http://www.careerbuilder.com/jobseeker/jobs/jobdetails.aspx?APath=2.21.0.0.0&job_did=J3H58K5X2LMC2JVZC8C&IPath=QHKVGV0V',\n",
       " 'http://www.careerbuilder.com/jobseeker/jobs/jobdetails.aspx?APath=2.21.0.0.0&job_did=J3G373724YJJT3CHPG1&IPath=QHKVGV0W',\n",
       " 'http://www.careerbuilder.com/jobseeker/jobs/jobdetails.aspx?APath=2.21.0.0.0&job_did=J3J7JN76H556YRXVX41&IPath=QHKVGV0X',\n",
       " 'http://www.careerbuilder.com/jobseeker/jobs/jobdetails.aspx?APath=2.21.0.0.0&job_did=J3L1N05WDPPKD307HFP&IPath=QHKVGV0Y']"
      ]
     },
     "execution_count": 25,
     "metadata": {},
     "output_type": "execute_result"
    }
   ],
   "source": [
    "get_cb_links(get_soup(cb_p1))"
   ]
  },
  {
   "cell_type": "code",
   "execution_count": null,
   "metadata": {
    "collapsed": true
   },
   "outputs": [],
   "source": []
  }
 ],
 "metadata": {
  "kernelspec": {
   "display_name": "Python 3",
   "language": "python",
   "name": "python3"
  },
  "language_info": {
   "codemirror_mode": {
    "name": "ipython",
    "version": 3
   },
   "file_extension": ".py",
   "mimetype": "text/x-python",
   "name": "python",
   "nbconvert_exporter": "python",
   "pygments_lexer": "ipython3",
   "version": "3.4.3"
  }
 },
 "nbformat": 4,
 "nbformat_minor": 0
}
