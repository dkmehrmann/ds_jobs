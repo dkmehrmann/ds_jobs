{
 "cells": [
  {
   "cell_type": "code",
   "execution_count": 1,
   "metadata": {
    "collapsed": true
   },
   "outputs": [],
   "source": [
    "from scrapy import *\n",
    "import pandas as pd\n",
    "import os"
   ]
  },
  {
   "cell_type": "markdown",
   "metadata": {},
   "source": [
    "###Glassdoor"
   ]
  },
  {
   "cell_type": "code",
   "execution_count": null,
   "metadata": {
    "collapsed": false
   },
   "outputs": [
    {
     "name": "stdout",
     "output_type": "stream",
     "text": [
      "pulling links from page 1\n",
      "Got 30 links from page 1\n",
      "pulling links from page 2\n",
      "Got 27 links from page 2\n",
      "pulling links from page 3\n",
      "Got 20 links from page 3\n",
      "pulling links from page 4\n",
      "Got 21 links from page 4\n",
      "pulling links from page 5\n",
      "Got 0 links from page 5\n",
      "pulling links from page 1\n",
      "Got 30 links from page 1\n",
      "pulling links from page 2\n",
      "Got 24 links from page 2\n",
      "pulling links from page 3\n",
      "Got 30 links from page 3\n",
      "pulling links from page 4\n",
      "Got 18 links from page 4\n",
      "pulling links from page 5\n",
      "Got 25 links from page 5\n",
      "Opened link 10 of 82\n",
      "Opened link 20 of 82\n",
      "Opened link 30 of 82\n",
      "Opened link 40 of 82\n",
      "Opened link 50 of 82\n",
      "Opened link 60 of 82\n",
      "Opened link 70 of 82\n",
      "Opened link 80 of 82\n",
      "Opened link 10 of 111"
     ]
    }
   ],
   "source": [
    "ds_links_gd, ds_ids_gd = crawl_gd()\n",
    "stats_links_gd, stats_ids_gd = crawl_gd(q='stats')\n",
    "ds_links_gd, stats_links_gd = remove_duplicates(ds_links_gd,stats_links_gd,ds_ids_gd,stats_ids_gd)\n",
    "\n",
    "ds_df_gd = get_gd_df(ds_links_gd)\n",
    "stats_df_gd = get_gd_df(stats_links_gd)\n"
   ]
  },
  {
   "cell_type": "markdown",
   "metadata": {},
   "source": [
    "###Kaggle"
   ]
  },
  {
   "cell_type": "code",
   "execution_count": null,
   "metadata": {
    "collapsed": true
   },
   "outputs": [],
   "source": [
    "ds_links_kg, ds_ids_kg = crawl_kg()\n",
    "kg_df_kg = get_kg_df(ds_links_kg)\n"
   ]
  },
  {
   "cell_type": "markdown",
   "metadata": {},
   "source": [
    "###LinkedIn"
   ]
  },
  {
   "cell_type": "code",
   "execution_count": null,
   "metadata": {
    "collapsed": true
   },
   "outputs": [],
   "source": [
    "ds_links_li, ds_ids_li = crawl_li()\n",
    "stats_links_li, stats_ids_li = crawl_li(q='stats')\n",
    "\n",
    "ds_links_li, stats_links_li = remove_duplicates(ds_links_li,stats_links_li,ds_ids_li,stats_ids_li)\n",
    "\n",
    "ds_df_li = get_li_df(ds_links_li)\n",
    "stats_df_li = get_li_df(stats_links_li)"
   ]
  },
  {
   "cell_type": "code",
   "execution_count": null,
   "metadata": {
    "collapsed": true
   },
   "outputs": [],
   "source": [
    "def remove_dup_rows(df1, df2):\n",
    "    \n",
    "    df3 = pd.concat([df1,df2])\n",
    "    groups = df3.groupby(level=0)  \n",
    "    return groups.last()"
   ]
  },
  {
   "cell_type": "code",
   "execution_count": null,
   "metadata": {
    "collapsed": true
   },
   "outputs": [],
   "source": [
    "files= {'DS_Kaggle.csv':ds_links_kg,\n",
    "       'DS_Glassdoor.csv':ds_links_gd,\n",
    "       'DS_LinkedIn.csv':ds_links_li,\n",
    "       'STATS_Glassdoor.csv':stats_df_gd,\n",
    "       'STATS_LinkedIn.csv':stats_df_li}\n",
    "\n",
    "\n",
    "for file in files.keys():\n",
    "    if os.isfile(file):\n",
    "        df_big = pd.read_csv(file)\n",
    "        df_new = files[file]\n",
    "        df_updated = remove_dup_rows(df_big,df_new)\n",
    "        df_updated.to_csv(file)\n",
    "    else:\n",
    "        files[file].to_csv(file)\n",
    "        "
   ]
  },
  {
   "cell_type": "code",
   "execution_count": null,
   "metadata": {
    "collapsed": true
   },
   "outputs": [],
   "source": []
  }
 ],
 "metadata": {
  "kernelspec": {
   "display_name": "Python 3",
   "language": "python",
   "name": "python3"
  },
  "language_info": {
   "codemirror_mode": {
    "name": "ipython",
    "version": 3
   },
   "file_extension": ".py",
   "mimetype": "text/x-python",
   "name": "python",
   "nbconvert_exporter": "python",
   "pygments_lexer": "ipython3",
   "version": "3.4.3"
  }
 },
 "nbformat": 4,
 "nbformat_minor": 0
}
